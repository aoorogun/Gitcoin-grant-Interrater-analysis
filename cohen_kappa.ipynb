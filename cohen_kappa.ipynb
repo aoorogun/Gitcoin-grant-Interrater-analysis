{
 "cells": [
  {
   "cell_type": "code",
   "execution_count": 1,
   "id": "4b6e577c",
   "metadata": {},
   "outputs": [],
   "source": [
    "import pandas as pd"
   ]
  },
  {
   "cell_type": "code",
   "execution_count": 2,
   "id": "4ac0177a",
   "metadata": {},
   "outputs": [],
   "source": [
    "import matplotlib.pyplot as plt"
   ]
  },
  {
   "cell_type": "code",
   "execution_count": 3,
   "id": "07e9f6e1",
   "metadata": {},
   "outputs": [],
   "source": [
    "dries = ## Import the datasets for each reviewer here.\n",
    "david = ## Import the datasets for each reviewer here.\n",
    "zerb = ## Import the datasets for each reviewer here.\n",
    "bfa = ## Import the datasets for each reviewer here.\n",
    "pascal = ## Import the datasets for each reviewer here.\n",
    "pavel = ## Import the datasets for each reviewer here.\n",
    "jammie = ## Import the datasets for each reviewer here.\n",
    "walter = ## Import the datasets for each reviewer here.\n",
    "chance = ## Import the datasets for each reviewer here.\n",
    "ann = ## Import the datasets for each reviewer here.\n",
    "dogg = ## Import the datasets for each reviewer here.\n",
    "sid = ## Import the datasets for each reviewer here.\n",
    "joe = ## Import the datasets for each reviewer here.\n",
    "fizzy = ## Import the datasets for each reviewer here.\n",
    "am = ## Import the datasets for each reviewer here.\n",
    "mount = ## Import the datasets for each reviewer here.\n",
    "vik = ## Import the datasets for each reviewer here.\n",
    "emmanuel = ## Import the datasets for each reviewer here.\n",
    "greg = ## Import the datasets for each reviewer here.\n",
    "lkh = ## Import the datasets for each reviewer here."
   ]
  },
  {
   "cell_type": "code",
   "execution_count": 4,
   "id": "c003699e",
   "metadata": {},
   "outputs": [],
   "source": [
    "pd.set_option('display.max_colwidth', 100)"
   ]
  },
  {
   "cell_type": "code",
   "execution_count": 5,
   "id": "dd7c47a8",
   "metadata": {},
   "outputs": [],
   "source": [
    "lkh.rename(columns = {'Unnamed: 0' : 'Names'},  inplace = True)\n",
    "dries.rename(columns = {'Unnamed: 0' : 'Names'},  inplace = True)\n",
    "david.rename(columns = {'Unnamed: 0' : 'Names'},  inplace = True)\n",
    "zerb.rename(columns = {'Unnamed: 0' : 'Names'},  inplace = True)\n",
    "bfa.rename(columns = {'Unnamed: 0' : 'Names'},  inplace = True)\n",
    "pascal.rename(columns = {'Unnamed: 0' : 'Names'},  inplace = True)\n",
    "pavel.rename(columns = {'Unnamed: 0' : 'Names'},  inplace = True)\n",
    "jammie.rename(columns = {'Unnamed: 0' : 'Names'},  inplace = True)\n",
    "walter.rename(columns = {'Unnamed: 0' : 'Names'},  inplace = True)\n",
    "chance.rename(columns = {'Unnamed: 0' : 'Names'},  inplace = True)\n",
    "ann.rename(columns = {'Unnamed: 0' : 'Names'},  inplace = True)\n",
    "dogg.rename(columns = {'Unnamed: 0' : 'Names'},  inplace = True)\n",
    "sid.rename(columns = {'Unnamed: 0' : 'Names'},  inplace = True)\n",
    "joe.rename(columns = {'Unnamed: 0' : 'Names'},  inplace = True)\n",
    "fizzy.rename(columns = {'Unnamed: 0' : 'Names'},  inplace = True)\n",
    "am.rename(columns = {'Unnamed: 0' : 'Names'},  inplace = True)\n",
    "mount.rename(columns = {'Unnamed: 0' : 'Names'},  inplace = True)\n",
    "vik.rename(columns = {'Unnamed: 0' : 'Names'},  inplace = True)\n",
    "emmanuel.rename(columns = {'Unnamed: 0' : 'Names'},  inplace = True)\n",
    "greg.rename(columns = {'Unnamed: 0' : 'Names'},  inplace = True)"
   ]
  },
  {
   "cell_type": "code",
   "execution_count": 6,
   "id": "37ec44ed",
   "metadata": {},
   "outputs": [],
   "source": [
    "concat_data = pd.concat([david,  greg, dries, lkh, zerb, bfa, pascal, pavel, jammie, walter, chance, ann, dogg, sid, joe, fizzy, am, mount, vik, emmanuel])"
   ]
  },
  {
   "cell_type": "code",
   "execution_count": 7,
   "id": "2ddf0039",
   "metadata": {},
   "outputs": [],
   "source": [
    "data = [david,  greg, dries, lkh, zerb, bfa, pascal, pavel, jammie, walter, chance, ann, dogg, sid, joe, fizzy, am, mount, vik, emmanuel]"
   ]
  },
  {
   "cell_type": "code",
   "execution_count": 8,
   "id": "e4e33458",
   "metadata": {
    "scrolled": false
   },
   "outputs": [
    {
     "ename": "NameError",
     "evalue": "name 'all_data' is not defined",
     "output_type": "error",
     "traceback": [
      "\u001b[1;31m---------------------------------------------------------------------------\u001b[0m",
      "\u001b[1;31mNameError\u001b[0m                                 Traceback (most recent call last)",
      "\u001b[1;32m~\\AppData\\Local\\Temp/ipykernel_16484/2596594035.py\u001b[0m in \u001b[0;36m<module>\u001b[1;34m\u001b[0m\n\u001b[0;32m      3\u001b[0m \u001b[1;32mfor\u001b[0m \u001b[0mi\u001b[0m \u001b[1;32min\u001b[0m \u001b[0mlist_data\u001b[0m\u001b[1;33m:\u001b[0m\u001b[1;33m\u001b[0m\u001b[1;33m\u001b[0m\u001b[0m\n\u001b[0;32m      4\u001b[0m     \u001b[1;32mif\u001b[0m \u001b[0mi\u001b[0m \u001b[1;33m!=\u001b[0m \u001b[1;34m\"zerb\"\u001b[0m\u001b[1;33m:\u001b[0m\u001b[1;33m\u001b[0m\u001b[1;33m\u001b[0m\u001b[0m\n\u001b[1;32m----> 5\u001b[1;33m         \u001b[0mcounts\u001b[0m \u001b[1;33m=\u001b[0m \u001b[0mall_data\u001b[0m\u001b[1;33m[\u001b[0m\u001b[1;33m[\u001b[0m\u001b[1;34m\"zerb\"\u001b[0m\u001b[1;33m,\u001b[0m  \u001b[0mi\u001b[0m\u001b[1;33m]\u001b[0m\u001b[1;33m]\u001b[0m\u001b[1;33m.\u001b[0m\u001b[0mdropna\u001b[0m\u001b[1;33m(\u001b[0m\u001b[0mhow\u001b[0m\u001b[1;33m=\u001b[0m\u001b[1;34m\"any\"\u001b[0m\u001b[1;33m)\u001b[0m\u001b[1;33m.\u001b[0m\u001b[0mshape\u001b[0m\u001b[1;33m[\u001b[0m\u001b[1;36m0\u001b[0m\u001b[1;33m]\u001b[0m\u001b[1;33m\u001b[0m\u001b[1;33m\u001b[0m\u001b[0m\n\u001b[0m\u001b[0;32m      6\u001b[0m         \u001b[0mprint\u001b[0m\u001b[1;33m(\u001b[0m\u001b[0mi\u001b[0m\u001b[1;33m,\u001b[0m \u001b[0mcounts\u001b[0m\u001b[1;33m)\u001b[0m\u001b[1;33m\u001b[0m\u001b[1;33m\u001b[0m\u001b[0m\n",
      "\u001b[1;31mNameError\u001b[0m: name 'all_data' is not defined"
     ]
    }
   ],
   "source": [
    "list_data = [\"lkh\", \"dries\", \"david\", \"zerb\", \"bfa\", \"pascal\", \"pavel\", \"jammie\", \"walter\",\n",
    "             \"chance\", \"ann\", \"dogg\", \"sid\", \"joe\", \"fizzy\", \"am\", \"mount\", \"vik\", \"emmanuel\", \"greg\"]\n",
    "for i in list_data:\n",
    "    if i != \"zerb\":\n",
    "        counts = all_data[[\"zerb\",  i]].dropna(how=\"any\").shape[0]\n",
    "        print(i, counts)"
   ]
  },
  {
   "cell_type": "code",
   "execution_count": 9,
   "id": "e184ad1e",
   "metadata": {},
   "outputs": [],
   "source": [
    "from sklearn.metrics import cohen_kappa_score"
   ]
  },
  {
   "cell_type": "code",
   "execution_count": 337,
   "id": "51d1a5f1",
   "metadata": {},
   "outputs": [
    {
     "data": {
      "text/plain": [
       "-0.6666666666666667"
      ]
     },
     "execution_count": 337,
     "metadata": {},
     "output_type": "execute_result"
    }
   ],
   "source": [
    "cohen_kappa_score(reviewer1, reviewer2)"
   ]
  },
  {
   "cell_type": "code",
   "execution_count": null,
   "id": "ccf6a240",
   "metadata": {},
   "outputs": [],
   "source": []
  },
  {
   "cell_type": "code",
   "execution_count": 354,
   "id": "1ab033a8",
   "metadata": {},
   "outputs": [],
   "source": [
    "X = all_data[[\"dries\", \"chance\"]].dropna()"
   ]
  },
  {
   "cell_type": "code",
   "execution_count": 355,
   "id": "1dcea3e1",
   "metadata": {},
   "outputs": [
    {
     "data": {
      "text/html": [
       "<div>\n",
       "<style scoped>\n",
       "    .dataframe tbody tr th:only-of-type {\n",
       "        vertical-align: middle;\n",
       "    }\n",
       "\n",
       "    .dataframe tbody tr th {\n",
       "        vertical-align: top;\n",
       "    }\n",
       "\n",
       "    .dataframe thead th {\n",
       "        text-align: right;\n",
       "    }\n",
       "</style>\n",
       "<table border=\"1\" class=\"dataframe\">\n",
       "  <thead>\n",
       "    <tr style=\"text-align: right;\">\n",
       "      <th></th>\n",
       "      <th>dries</th>\n",
       "      <th>chance</th>\n",
       "    </tr>\n",
       "    <tr>\n",
       "      <th>Handles</th>\n",
       "      <th></th>\n",
       "      <th></th>\n",
       "    </tr>\n",
       "  </thead>\n",
       "  <tbody>\n",
       "    <tr>\n",
       "      <th>bhaumik</th>\n",
       "      <td>2</td>\n",
       "      <td>2</td>\n",
       "    </tr>\n",
       "    <tr>\n",
       "      <th>fergthh</th>\n",
       "      <td>2</td>\n",
       "      <td>2</td>\n",
       "    </tr>\n",
       "    <tr>\n",
       "      <th>owtawa</th>\n",
       "      <td>1</td>\n",
       "      <td>1</td>\n",
       "    </tr>\n",
       "    <tr>\n",
       "      <th>rockxie</th>\n",
       "      <td>2</td>\n",
       "      <td>1</td>\n",
       "    </tr>\n",
       "  </tbody>\n",
       "</table>\n",
       "</div>"
      ],
      "text/plain": [
       "        dries chance\n",
       "Handles             \n",
       "bhaumik     2      2\n",
       "fergthh     2      2\n",
       "owtawa      1      1\n",
       "rockxie     2      1"
      ]
     },
     "execution_count": 355,
     "metadata": {},
     "output_type": "execute_result"
    }
   ],
   "source": [
    "X"
   ]
  },
  {
   "cell_type": "code",
   "execution_count": 338,
   "id": "1b1ed4a8",
   "metadata": {
    "scrolled": true
   },
   "outputs": [],
   "source": [
    "lkh_jammie = pd.DataFrame(columns = [\"Handles\", \"Is Sybil_lkh\", \"Is Sybil_jammie\", \"Confidence_lkh\", \"Confidence_jammie\", \"Notes_lkh\", \"Notes_jammie\"])\n",
    "lkh_jammie.Handles = X.index\n",
    "#lkh_jammie.head()"
   ]
  },
  {
   "cell_type": "code",
   "execution_count": 11,
   "id": "54683d56",
   "metadata": {},
   "outputs": [],
   "source": [
    "def create_table(jammie, lkh, numeric_data):\n",
    "    \n",
    "    reviwer_1 = input(\"First reviwer's name: \")\n",
    "    reviwer_2 = input(\"Second reviwer's name: \")\n",
    "    \n",
    "    X = numeric_data[[reviwer_1, reviwer_2]].dropna()\n",
    "    new_dataset = pd.DataFrame(columns = [\"Handles\", \"Is Sybil_\"+reviwer_2, \"Is Sybil_\"+reviwer_1, \"Confidence_\"+reviwer_2,\n",
    "                                         \"Confidence_\"+reviwer_1, \"Notes_\"+ reviwer_2, \"Notes_\"+ reviwer_1])\n",
    "    new_dataset.Handles = X.index\n",
    "    \n",
    "    i = 0\n",
    "    for j in range(len([x for x in new_dataset.Handles])):\n",
    "\n",
    "        name = [i for i in new_dataset.Handles][i]\n",
    "        new_dataset.loc[j, \"Is Sybil_\"+reviwer_1] = jammie.set_index(\"Names\").loc[name, \"Is Sybil? (T or F)\"]\n",
    "        i+=1\n",
    "\n",
    "    i = 0\n",
    "    for j in range(len([x for x in new_dataset.Handles])):\n",
    "\n",
    "        name = [i for i in new_dataset.Handles][i]\n",
    "        new_dataset.loc[j, \"Confidence_\"+reviwer_1] = jammie.set_index(\"Names\").loc[name, \"Confidence (low, so-so, high)\"]\n",
    "        i+=1\n",
    "\n",
    "    i = 0\n",
    "    for j in range(len([x for x in new_dataset.Handles])):\n",
    "\n",
    "        name = [i for i in new_dataset.Handles][i]\n",
    "        new_dataset.loc[j, \"Notes_\"+reviwer_1] = jammie.set_index(\"Names\").loc[name, \"Notes\"]\n",
    "        i+=1\n",
    "\n",
    "    i = 0\n",
    "    for j in range(len([x for x in new_dataset.Handles])):\n",
    "\n",
    "        name = [i for i in new_dataset.Handles][i]\n",
    "        new_dataset.loc[j, \"Is Sybil_\"+reviwer_2] = lkh.set_index(\"Names\").loc[name, \"Is Sybil? (T or F)\"]\n",
    "        i+=1\n",
    "\n",
    "    i = 0\n",
    "    for j in range(len([x for x in new_dataset.Handles])):\n",
    "\n",
    "        name = [i for i in new_dataset.Handles][i]\n",
    "        new_dataset.loc[j, \"Confidence_\"+reviwer_2] = lkh.set_index(\"Names\").loc[name, \"Confidence (low, so-so, high)\"]\n",
    "        i+=1\n",
    "\n",
    "    i = 0\n",
    "    for j in range(len([x for x in new_dataset.Handles])):\n",
    "\n",
    "        name = [i for i in new_dataset.Handles][i]\n",
    "        new_dataset.loc[j, \"Notes_\"+reviwer_2] = lkh.set_index(\"Names\").loc[name, \"Notes\"]\n",
    "        i+=1\n",
    "        \n",
    "\n",
    "    return new_dataset"
   ]
  },
  {
   "cell_type": "code",
   "execution_count": 662,
   "id": "81b8e6e3",
   "metadata": {},
   "outputs": [
    {
     "data": {
      "text/html": [
       "<div>\n",
       "<style scoped>\n",
       "    .dataframe tbody tr th:only-of-type {\n",
       "        vertical-align: middle;\n",
       "    }\n",
       "\n",
       "    .dataframe tbody tr th {\n",
       "        vertical-align: top;\n",
       "    }\n",
       "\n",
       "    .dataframe thead th {\n",
       "        text-align: right;\n",
       "    }\n",
       "</style>\n",
       "<table border=\"1\" class=\"dataframe\">\n",
       "  <thead>\n",
       "    <tr style=\"text-align: right;\">\n",
       "      <th></th>\n",
       "      <th>Handles</th>\n",
       "      <th>Is Sybil_lkh</th>\n",
       "      <th>Is Sybil_Jammie</th>\n",
       "      <th>Confidence_lkh</th>\n",
       "      <th>Confidence_Jammie</th>\n",
       "      <th>Notes_lkh</th>\n",
       "      <th>Notes_Jammie</th>\n",
       "    </tr>\n",
       "  </thead>\n",
       "  <tbody>\n",
       "    <tr>\n",
       "      <th>0</th>\n",
       "      <td>birdbeyondl</td>\n",
       "      <td>T</td>\n",
       "      <td>F</td>\n",
       "      <td>high</td>\n",
       "      <td>low</td>\n",
       "      <td>inactive time ago in github and gitcoin &amp;  only activity on gitcoin was contribution</td>\n",
       "      <td>few github activity from last month but no activity on gitcoin</td>\n",
       "    </tr>\n",
       "    <tr>\n",
       "      <th>1</th>\n",
       "      <td>drbalikci</td>\n",
       "      <td>F</td>\n",
       "      <td>T</td>\n",
       "      <td>so-so</td>\n",
       "      <td>high</td>\n",
       "      <td>recent github and gitcoin account, no contribution at all. and never use any of gitcoin products</td>\n",
       "      <td>both accounts are new</td>\n",
       "    </tr>\n",
       "    <tr>\n",
       "      <th>2</th>\n",
       "      <td>kuangzhicheng203</td>\n",
       "      <td>T</td>\n",
       "      <td>F</td>\n",
       "      <td>so-so</td>\n",
       "      <td>so-so</td>\n",
       "      <td>not active in github and gitcoin, he only did contribution to grants on gitcoin. no quests no ha...</td>\n",
       "      <td>very active on gitcoin with funding but not active at github</td>\n",
       "    </tr>\n",
       "    <tr>\n",
       "      <th>3</th>\n",
       "      <td>nick90020888</td>\n",
       "      <td>F</td>\n",
       "      <td>T</td>\n",
       "      <td>low</td>\n",
       "      <td>high</td>\n",
       "      <td>empty github, but gitcoin is old and there are multiple contribution</td>\n",
       "      <td>new gitcoin and github, no activity at all</td>\n",
       "    </tr>\n",
       "    <tr>\n",
       "      <th>4</th>\n",
       "      <td>taresky</td>\n",
       "      <td>F</td>\n",
       "      <td>F</td>\n",
       "      <td>so-so</td>\n",
       "      <td>high</td>\n",
       "      <td>old github but not active much, he add he's website on gitcoin</td>\n",
       "      <td>active gitcoin with funding and active github also</td>\n",
       "    </tr>\n",
       "  </tbody>\n",
       "</table>\n",
       "</div>"
      ],
      "text/plain": [
       "            Handles Is Sybil_lkh Is Sybil_Jammie Confidence_lkh  \\\n",
       "0       birdbeyondl            T               F           high   \n",
       "1         drbalikci            F               T          so-so   \n",
       "2  kuangzhicheng203            T               F          so-so   \n",
       "3      nick90020888            F               T            low   \n",
       "4           taresky            F               F          so-so   \n",
       "\n",
       "  Confidence_Jammie  \\\n",
       "0               low   \n",
       "1              high   \n",
       "2             so-so   \n",
       "3              high   \n",
       "4              high   \n",
       "\n",
       "                                                                                             Notes_lkh  \\\n",
       "0                 inactive time ago in github and gitcoin &  only activity on gitcoin was contribution   \n",
       "1     recent github and gitcoin account, no contribution at all. and never use any of gitcoin products   \n",
       "2  not active in github and gitcoin, he only did contribution to grants on gitcoin. no quests no ha...   \n",
       "3                                 empty github, but gitcoin is old and there are multiple contribution   \n",
       "4                                       old github but not active much, he add he's website on gitcoin   \n",
       "\n",
       "                                                     Notes_Jammie  \n",
       "0  few github activity from last month but no activity on gitcoin  \n",
       "1                                           both accounts are new  \n",
       "2    very active on gitcoin with funding but not active at github  \n",
       "3                      new gitcoin and github, no activity at all  \n",
       "4              active gitcoin with funding and active github also  "
      ]
     },
     "execution_count": 662,
     "metadata": {},
     "output_type": "execute_result"
    }
   ],
   "source": [
    "data1.head()"
   ]
  },
  {
   "cell_type": "code",
   "execution_count": 379,
   "id": "fab9c8de",
   "metadata": {},
   "outputs": [],
   "source": [
    "reviewer1 = data1[\"Is Sybil_lkh\"].tolist()\n",
    "reviewer2 = data1[\"Is Sybil_Jammie\"].tolist()"
   ]
  },
  {
   "cell_type": "code",
   "execution_count": 353,
   "id": "d422a674",
   "metadata": {},
   "outputs": [
    {
     "data": {
      "text/plain": [
       "-0.6666666666666667"
      ]
     },
     "execution_count": 353,
     "metadata": {},
     "output_type": "execute_result"
    }
   ],
   "source": [
    "cohen_kappa_score(reviewer1, reviewer2)"
   ]
  },
  {
   "cell_type": "code",
   "execution_count": 667,
   "id": "85f0e695",
   "metadata": {},
   "outputs": [
    {
     "name": "stdout",
     "output_type": "stream",
     "text": [
      "First reviwer's name: dries\n",
      "Second reviwer's name: chance\n"
     ]
    },
    {
     "data": {
      "text/html": [
       "<div>\n",
       "<style scoped>\n",
       "    .dataframe tbody tr th:only-of-type {\n",
       "        vertical-align: middle;\n",
       "    }\n",
       "\n",
       "    .dataframe tbody tr th {\n",
       "        vertical-align: top;\n",
       "    }\n",
       "\n",
       "    .dataframe thead th {\n",
       "        text-align: right;\n",
       "    }\n",
       "</style>\n",
       "<table border=\"1\" class=\"dataframe\">\n",
       "  <thead>\n",
       "    <tr style=\"text-align: right;\">\n",
       "      <th></th>\n",
       "      <th>Handles</th>\n",
       "      <th>Is Sybil_chance</th>\n",
       "      <th>Is Sybil_dries</th>\n",
       "      <th>Confidence_chance</th>\n",
       "      <th>Confidence_dries</th>\n",
       "      <th>Notes_chance</th>\n",
       "      <th>Notes_dries</th>\n",
       "    </tr>\n",
       "  </thead>\n",
       "  <tbody>\n",
       "    <tr>\n",
       "      <th>0</th>\n",
       "      <td>bhaumik</td>\n",
       "      <td>F</td>\n",
       "      <td>F</td>\n",
       "      <td>so-so</td>\n",
       "      <td>High</td>\n",
       "      <td>new gitcoin but made donations this round, very active github</td>\n",
       "      <td>GitHub account is from 2013 with few-many contributions, seems legit</td>\n",
       "    </tr>\n",
       "    <tr>\n",
       "      <th>1</th>\n",
       "      <td>fergthh</td>\n",
       "      <td>F</td>\n",
       "      <td>F</td>\n",
       "      <td>high</td>\n",
       "      <td>High</td>\n",
       "      <td>active gitcoin over many rounds, legit looking twitter, very active github</td>\n",
       "      <td>High GitHub activity over several years.</td>\n",
       "    </tr>\n",
       "    <tr>\n",
       "      <th>2</th>\n",
       "      <td>owtawa</td>\n",
       "      <td>T</td>\n",
       "      <td>T</td>\n",
       "      <td>so-so</td>\n",
       "      <td>High</td>\n",
       "      <td>new gitcoin, new github, no activity at all</td>\n",
       "      <td>New GitHub account and no activity on GitHub and Gitcoin.</td>\n",
       "    </tr>\n",
       "    <tr>\n",
       "      <th>3</th>\n",
       "      <td>rockxie</td>\n",
       "      <td>T</td>\n",
       "      <td>F</td>\n",
       "      <td>low</td>\n",
       "      <td>High</td>\n",
       "      <td>gitcoin seems deleted, long history of github but only one commit a year on average</td>\n",
       "      <td>No Gitcoin account? But a lot of contributions over 10 years on GitHub.</td>\n",
       "    </tr>\n",
       "  </tbody>\n",
       "</table>\n",
       "</div>"
      ],
      "text/plain": [
       "   Handles Is Sybil_chance Is Sybil_dries Confidence_chance Confidence_dries  \\\n",
       "0  bhaumik               F              F             so-so             High   \n",
       "1  fergthh               F              F              high             High   \n",
       "2   owtawa               T              T             so-so             High   \n",
       "3  rockxie               T              F               low             High   \n",
       "\n",
       "                                                                          Notes_chance  \\\n",
       "0                        new gitcoin but made donations this round, very active github   \n",
       "1           active gitcoin over many rounds, legit looking twitter, very active github   \n",
       "2                                          new gitcoin, new github, no activity at all   \n",
       "3  gitcoin seems deleted, long history of github but only one commit a year on average   \n",
       "\n",
       "                                                               Notes_dries  \n",
       "0     GitHub account is from 2013 with few-many contributions, seems legit  \n",
       "1                                 High GitHub activity over several years.  \n",
       "2                New GitHub account and no activity on GitHub and Gitcoin.  \n",
       "3  No Gitcoin account? But a lot of contributions over 10 years on GitHub.  "
      ]
     },
     "execution_count": 667,
     "metadata": {},
     "output_type": "execute_result"
    }
   ],
   "source": [
    "data2 = create_table(dries, chance, all_data)\n",
    "data2.head()"
   ]
  },
  {
   "cell_type": "code",
   "execution_count": 397,
   "id": "24c15200",
   "metadata": {},
   "outputs": [],
   "source": [
    "def calculate_cohen(new_dataset):\n",
    "    review1 = input(\"First reviewer's name: \")\n",
    "    review2 = input(\"Second reviewer's name: \")\n",
    "    reviewer1 = new_dataset[\"Is Sybil_\"+review1].tolist()\n",
    "    reviewer2 = new_dataset[\"Is Sybil_\"+review2].tolist()\n",
    "    \n",
    "    cohen = cohen_kappa_score(reviewer1, reviewer2)\n",
    "    return print(\"The cohen_kappa_score for {} and {} is:\".format(review1, review2), cohen)"
   ]
  },
  {
   "cell_type": "code",
   "execution_count": 398,
   "id": "b4e71a48",
   "metadata": {},
   "outputs": [
    {
     "name": "stdout",
     "output_type": "stream",
     "text": [
      "First reviewer's name: dries\n",
      "Second reviewer's name: chance\n",
      "The cohen_kappa_score for dries and chance is: 0.5\n"
     ]
    }
   ],
   "source": [
    "calculate_cohen(data2)"
   ]
  },
  {
   "cell_type": "markdown",
   "id": "26fc2213",
   "metadata": {},
   "source": [
    "The cohen kappa score for dries and chance is 0.5. This is because they agreed three times and disagreed just a once.\n",
    "\n",
    "The major reason for this disagreement is based on no gitcoin account and few activity on github"
   ]
  },
  {
   "cell_type": "markdown",
   "id": "cfc3f836",
   "metadata": {},
   "source": [
    "### LKH correlation with other reviewers"
   ]
  },
  {
   "cell_type": "code",
   "execution_count": 609,
   "id": "beb048bd",
   "metadata": {},
   "outputs": [],
   "source": [
    "def create_kappa_table(data):\n",
    "    name1 = input(\"First reviewer's name: \")\n",
    "    name2 = input(\"Second reviewer's name: \")\n",
    "    name1_values = []\n",
    "    for i in range(data.shape[0]):\n",
    "        value1 = np.where(data.loc[i, \"Is Sybil_\"+name1] == \"T\", 1, 0)\n",
    "        name1_values.append(value1)\n",
    "\n",
    "    name2_values = []\n",
    "    for i in range(data.shape[0]):\n",
    "        value2 = np.where(data.loc[i, \"Is Sybil_\"+name2] == \"T\", 1, 0)\n",
    "        name2_values.append(value2)\n",
    "        \n",
    "    data[\"Sybil_\"+name1] = name1_values\n",
    "    data[\"Sybil_\"+name2] = name2_values\n",
    "    \n",
    "    return data"
   ]
  },
  {
   "cell_type": "code",
   "execution_count": 668,
   "id": "0b6c723e",
   "metadata": {},
   "outputs": [
    {
     "name": "stdout",
     "output_type": "stream",
     "text": [
      "First reviewer's name: lkh\n",
      "Second reviewer's name: dries\n"
     ]
    },
    {
     "data": {
      "text/html": [
       "<div>\n",
       "<style scoped>\n",
       "    .dataframe tbody tr th:only-of-type {\n",
       "        vertical-align: middle;\n",
       "    }\n",
       "\n",
       "    .dataframe tbody tr th {\n",
       "        vertical-align: top;\n",
       "    }\n",
       "\n",
       "    .dataframe thead th {\n",
       "        text-align: right;\n",
       "    }\n",
       "</style>\n",
       "<table border=\"1\" class=\"dataframe\">\n",
       "  <thead>\n",
       "    <tr style=\"text-align: right;\">\n",
       "      <th></th>\n",
       "      <th>Handles</th>\n",
       "      <th>Is Sybil_dries</th>\n",
       "      <th>Is Sybil_lkh</th>\n",
       "      <th>Confidence_dries</th>\n",
       "      <th>Confidence_lkh</th>\n",
       "      <th>Notes_dries</th>\n",
       "      <th>Notes_lkh</th>\n",
       "      <th>Sybil_dries</th>\n",
       "      <th>Sybil_lkh</th>\n",
       "    </tr>\n",
       "  </thead>\n",
       "  <tbody>\n",
       "    <tr>\n",
       "      <th>0</th>\n",
       "      <td>hakank07</td>\n",
       "      <td>F</td>\n",
       "      <td>T</td>\n",
       "      <td>so-so</td>\n",
       "      <td>so-so</td>\n",
       "      <td>No real GitHub activity but medium activity on Gitcoin with high reliability.</td>\n",
       "      <td>empty github, and even old gitcoin he only use grant product</td>\n",
       "      <td>0</td>\n",
       "      <td>1</td>\n",
       "    </tr>\n",
       "    <tr>\n",
       "      <th>1</th>\n",
       "      <td>jcarvajalmunera</td>\n",
       "      <td>T</td>\n",
       "      <td>T</td>\n",
       "      <td>so-so</td>\n",
       "      <td>high</td>\n",
       "      <td>No activity on GitHub and low activity on Gitcoin.</td>\n",
       "      <td>gitcoin Reliability: Unproven , its Inactive on both github and gitcoin even the account create ...</td>\n",
       "      <td>1</td>\n",
       "      <td>1</td>\n",
       "    </tr>\n",
       "    <tr>\n",
       "      <th>2</th>\n",
       "      <td>johniohn</td>\n",
       "      <td>T</td>\n",
       "      <td>F</td>\n",
       "      <td>High</td>\n",
       "      <td>so-so</td>\n",
       "      <td>No real activity on Gitcoin and GitHub has sus activity where 3 repos were created at the same t...</td>\n",
       "      <td>Reliability: Unproven on gitcoin. old account but inactive. and never use any of gitcoin products</td>\n",
       "      <td>1</td>\n",
       "      <td>0</td>\n",
       "    </tr>\n",
       "    <tr>\n",
       "      <th>3</th>\n",
       "      <td>owocki</td>\n",
       "      <td>F</td>\n",
       "      <td>F</td>\n",
       "      <td>High</td>\n",
       "      <td>high</td>\n",
       "      <td>Our fearless leader seems legit.</td>\n",
       "      <td>lol, thats Owocki's original account :)</td>\n",
       "      <td>0</td>\n",
       "      <td>0</td>\n",
       "    </tr>\n",
       "  </tbody>\n",
       "</table>\n",
       "</div>"
      ],
      "text/plain": [
       "           Handles Is Sybil_dries Is Sybil_lkh Confidence_dries  \\\n",
       "0         hakank07              F            T            so-so   \n",
       "1  jcarvajalmunera              T            T            so-so   \n",
       "2         johniohn              T            F             High   \n",
       "3           owocki              F            F             High   \n",
       "\n",
       "  Confidence_lkh  \\\n",
       "0          so-so   \n",
       "1           high   \n",
       "2          so-so   \n",
       "3           high   \n",
       "\n",
       "                                                                                           Notes_dries  \\\n",
       "0                       No real GitHub activity but medium activity on Gitcoin with high reliability.    \n",
       "1                                                  No activity on GitHub and low activity on Gitcoin.    \n",
       "2  No real activity on Gitcoin and GitHub has sus activity where 3 repos were created at the same t...   \n",
       "3                                                                     Our fearless leader seems legit.   \n",
       "\n",
       "                                                                                             Notes_lkh  \\\n",
       "0                                         empty github, and even old gitcoin he only use grant product   \n",
       "1  gitcoin Reliability: Unproven , its Inactive on both github and gitcoin even the account create ...   \n",
       "2    Reliability: Unproven on gitcoin. old account but inactive. and never use any of gitcoin products   \n",
       "3                                                             lol, thats Owocki's original account :)    \n",
       "\n",
       "  Sybil_dries Sybil_lkh  \n",
       "0           0         1  \n",
       "1           1         1  \n",
       "2           1         0  \n",
       "3           0         0  "
      ]
     },
     "execution_count": 668,
     "metadata": {},
     "output_type": "execute_result"
    }
   ],
   "source": [
    "create_kappa_table(lkh_dries)"
   ]
  },
  {
   "cell_type": "code",
   "execution_count": 486,
   "id": "5b86e5c5",
   "metadata": {},
   "outputs": [],
   "source": [
    "lkh_dries[\"Sybil_lkh\"] = j"
   ]
  },
  {
   "cell_type": "code",
   "execution_count": 488,
   "id": "0d291256",
   "metadata": {},
   "outputs": [],
   "source": [
    "lkh_dries.to_csv(\"./lkh_dries.csv\")"
   ]
  },
  {
   "cell_type": "code",
   "execution_count": 387,
   "id": "d5696429",
   "metadata": {},
   "outputs": [
    {
     "name": "stdout",
     "output_type": "stream",
     "text": [
      "The cohen_kappa_score for dries and lkh is: 0.0\n"
     ]
    }
   ],
   "source": [
    "calculate_cohen(\"dries\", \"lkh\", lkh_dries)"
   ]
  },
  {
   "cell_type": "markdown",
   "id": "fc9962b9",
   "metadata": {},
   "source": [
    "The Cohen kappa score for Dries and Lkh is 0. This is because they agreed twice and disagree twice.\n",
    "\n",
    "The disagreement is based on the low activity on github and the use of gitcoin."
   ]
  },
  {
   "cell_type": "code",
   "execution_count": 529,
   "id": "24906760",
   "metadata": {},
   "outputs": [],
   "source": [
    "j = []\n",
    "for i in range(lkh_jammie.shape[0]):\n",
    "    ll = np.where(lkh_jammie.loc[i, \"Is Sybil_lkh\"] == \"T\", 1, 0)\n",
    "    j.append(ll)\n",
    "    \n",
    "p = []\n",
    "for i in range(lkh_jammie.shape[0]):\n",
    "    ll = np.where(lkh_jammie.loc[i, \"Is Sybil_jammie\"] == \"T\", 1, 0)\n",
    "    p.append(ll)\n",
    "    \n",
    "    \n",
    "lkh_jammie[\"Sybil_lkh\"] = j\n",
    "lkh_jammie[\"Sybil_jammie\"] = p\n",
    "lkh_jammie.to_csv(\"./lkh_jammie.csv\")"
   ]
  },
  {
   "cell_type": "code",
   "execution_count": 404,
   "id": "ee5bac92",
   "metadata": {
    "scrolled": true
   },
   "outputs": [
    {
     "name": "stdout",
     "output_type": "stream",
     "text": [
      "First reviewer's name: lkh\n",
      "Second reviewer's name: jammie\n",
      "The cohen_kappa_score for lkh and jammie is: -0.6666666666666667\n"
     ]
    }
   ],
   "source": [
    "calculate_cohen(lkh_jammie)"
   ]
  },
  {
   "cell_type": "markdown",
   "id": "f9b6dcc2",
   "metadata": {},
   "source": [
    "The cohen_kappa_score for lkh and jammie is: -0.6666666666666667\n",
    "\n",
    "This is because they agreed once and they disgreed four times."
   ]
  },
  {
   "cell_type": "code",
   "execution_count": 663,
   "id": "b2bce29e",
   "metadata": {},
   "outputs": [
    {
     "data": {
      "text/html": [
       "<div>\n",
       "<style scoped>\n",
       "    .dataframe tbody tr th:only-of-type {\n",
       "        vertical-align: middle;\n",
       "    }\n",
       "\n",
       "    .dataframe tbody tr th {\n",
       "        vertical-align: top;\n",
       "    }\n",
       "\n",
       "    .dataframe thead th {\n",
       "        text-align: right;\n",
       "    }\n",
       "</style>\n",
       "<table border=\"1\" class=\"dataframe\">\n",
       "  <thead>\n",
       "    <tr style=\"text-align: right;\">\n",
       "      <th></th>\n",
       "      <th>Handles</th>\n",
       "      <th>Is Sybil_jammie</th>\n",
       "      <th>Is Sybil_lkh</th>\n",
       "      <th>Confidence_jammie</th>\n",
       "      <th>Confidence_lkh</th>\n",
       "      <th>Notes_jammie</th>\n",
       "      <th>Notes_lkh</th>\n",
       "      <th>Sybil_lkh</th>\n",
       "      <th>Sybil_jammie</th>\n",
       "    </tr>\n",
       "  </thead>\n",
       "  <tbody>\n",
       "    <tr>\n",
       "      <th>0</th>\n",
       "      <td>birdbeyondl</td>\n",
       "      <td>F</td>\n",
       "      <td>T</td>\n",
       "      <td>low</td>\n",
       "      <td>high</td>\n",
       "      <td>few github activity from last month but no activity on gitcoin</td>\n",
       "      <td>inactive time ago in github and gitcoin &amp;  only activity on gitcoin was contribution</td>\n",
       "      <td>1</td>\n",
       "      <td>0</td>\n",
       "    </tr>\n",
       "    <tr>\n",
       "      <th>1</th>\n",
       "      <td>drbalikci</td>\n",
       "      <td>T</td>\n",
       "      <td>F</td>\n",
       "      <td>high</td>\n",
       "      <td>so-so</td>\n",
       "      <td>both accounts are new</td>\n",
       "      <td>recent github and gitcoin account, no contribution at all. and never use any of gitcoin products</td>\n",
       "      <td>0</td>\n",
       "      <td>1</td>\n",
       "    </tr>\n",
       "    <tr>\n",
       "      <th>2</th>\n",
       "      <td>kuangzhicheng203</td>\n",
       "      <td>F</td>\n",
       "      <td>T</td>\n",
       "      <td>so-so</td>\n",
       "      <td>so-so</td>\n",
       "      <td>very active on gitcoin with funding but not active at github</td>\n",
       "      <td>not active in github and gitcoin, he only did contribution to grants on gitcoin. no quests no ha...</td>\n",
       "      <td>1</td>\n",
       "      <td>0</td>\n",
       "    </tr>\n",
       "    <tr>\n",
       "      <th>3</th>\n",
       "      <td>nick90020888</td>\n",
       "      <td>T</td>\n",
       "      <td>F</td>\n",
       "      <td>high</td>\n",
       "      <td>low</td>\n",
       "      <td>new gitcoin and github, no activity at all</td>\n",
       "      <td>empty github, but gitcoin is old and there are multiple contribution</td>\n",
       "      <td>0</td>\n",
       "      <td>1</td>\n",
       "    </tr>\n",
       "    <tr>\n",
       "      <th>4</th>\n",
       "      <td>taresky</td>\n",
       "      <td>F</td>\n",
       "      <td>F</td>\n",
       "      <td>high</td>\n",
       "      <td>so-so</td>\n",
       "      <td>active gitcoin with funding and active github also</td>\n",
       "      <td>old github but not active much, he add he's website on gitcoin</td>\n",
       "      <td>0</td>\n",
       "      <td>0</td>\n",
       "    </tr>\n",
       "  </tbody>\n",
       "</table>\n",
       "</div>"
      ],
      "text/plain": [
       "            Handles Is Sybil_jammie Is Sybil_lkh Confidence_jammie  \\\n",
       "0       birdbeyondl               F            T               low   \n",
       "1         drbalikci               T            F              high   \n",
       "2  kuangzhicheng203               F            T             so-so   \n",
       "3      nick90020888               T            F              high   \n",
       "4           taresky               F            F              high   \n",
       "\n",
       "  Confidence_lkh  \\\n",
       "0           high   \n",
       "1          so-so   \n",
       "2          so-so   \n",
       "3            low   \n",
       "4          so-so   \n",
       "\n",
       "                                                     Notes_jammie  \\\n",
       "0  few github activity from last month but no activity on gitcoin   \n",
       "1                                           both accounts are new   \n",
       "2    very active on gitcoin with funding but not active at github   \n",
       "3                      new gitcoin and github, no activity at all   \n",
       "4              active gitcoin with funding and active github also   \n",
       "\n",
       "                                                                                             Notes_lkh  \\\n",
       "0                 inactive time ago in github and gitcoin &  only activity on gitcoin was contribution   \n",
       "1     recent github and gitcoin account, no contribution at all. and never use any of gitcoin products   \n",
       "2  not active in github and gitcoin, he only did contribution to grants on gitcoin. no quests no ha...   \n",
       "3                                 empty github, but gitcoin is old and there are multiple contribution   \n",
       "4                                       old github but not active much, he add he's website on gitcoin   \n",
       "\n",
       "  Sybil_lkh Sybil_jammie  \n",
       "0         1            0  \n",
       "1         0            1  \n",
       "2         1            0  \n",
       "3         0            1  \n",
       "4         0            0  "
      ]
     },
     "execution_count": 663,
     "metadata": {},
     "output_type": "execute_result"
    }
   ],
   "source": [
    "lkh_jammie"
   ]
  },
  {
   "cell_type": "code",
   "execution_count": 12,
   "id": "42ea1aa5",
   "metadata": {},
   "outputs": [
    {
     "ename": "NameError",
     "evalue": "name 'all_data' is not defined",
     "output_type": "error",
     "traceback": [
      "\u001b[1;31m---------------------------------------------------------------------------\u001b[0m",
      "\u001b[1;31mNameError\u001b[0m                                 Traceback (most recent call last)",
      "\u001b[1;32m~\\AppData\\Local\\Temp/ipykernel_16484/4119700531.py\u001b[0m in \u001b[0;36m<module>\u001b[1;34m\u001b[0m\n\u001b[1;32m----> 1\u001b[1;33m \u001b[0mlkh_emmanuel\u001b[0m \u001b[1;33m=\u001b[0m \u001b[0mcreate_table\u001b[0m\u001b[1;33m(\u001b[0m\u001b[0mlkh\u001b[0m\u001b[1;33m,\u001b[0m \u001b[0memmanuel\u001b[0m\u001b[1;33m,\u001b[0m \u001b[0mall_data\u001b[0m\u001b[1;33m)\u001b[0m\u001b[1;33m\u001b[0m\u001b[1;33m\u001b[0m\u001b[0m\n\u001b[0m",
      "\u001b[1;31mNameError\u001b[0m: name 'all_data' is not defined"
     ]
    }
   ],
   "source": [
    "lkh_emmanuel = create_table(lkh, emmanuel, all_data)"
   ]
  },
  {
   "cell_type": "code",
   "execution_count": null,
   "id": "256bf30c",
   "metadata": {},
   "outputs": [],
   "source": [
    "j = []\n",
    "for i in range(lkh_jammie.shape[0]):\n",
    "    ll = np.where(lkh_jammie.loc[i, \"Is Sybil_lkh\"] == \"T\", 1, 0)\n",
    "    j.append(ll)\n",
    "    \n",
    "p = []\n",
    "for i in range(lkh_jammie.shape[0]):\n",
    "    ll = np.where(lkh_jammie.loc[i, \"Is Sybil_jammie\"] == \"T\", 1, 0)\n",
    "    p.append(ll)\n",
    "    \n",
    "    \n",
    "lkh_jammie[\"Sybil_lkh\"] = j\n",
    "lkh_jammie[\"Sybil_jammie\"] = p\n",
    "lkh_jammie.to_csv(\"./lkh_jammie.csv\")"
   ]
  },
  {
   "cell_type": "code",
   "execution_count": 612,
   "id": "76c6ffd6",
   "metadata": {},
   "outputs": [
    {
     "name": "stdout",
     "output_type": "stream",
     "text": [
      "First reviewer's name: lkh\n",
      "Second reviewer's name: emmanuel\n"
     ]
    }
   ],
   "source": [
    "new_lkh_emmanuel = create_kappa_table(lkh_emmanuel)\n",
    "new_lkh_emmanuel.to_csv(\"./lkh_emmanuel.csv\")"
   ]
  },
  {
   "cell_type": "code",
   "execution_count": 664,
   "id": "6b41358e",
   "metadata": {},
   "outputs": [
    {
     "data": {
      "text/html": [
       "<div>\n",
       "<style scoped>\n",
       "    .dataframe tbody tr th:only-of-type {\n",
       "        vertical-align: middle;\n",
       "    }\n",
       "\n",
       "    .dataframe tbody tr th {\n",
       "        vertical-align: top;\n",
       "    }\n",
       "\n",
       "    .dataframe thead th {\n",
       "        text-align: right;\n",
       "    }\n",
       "</style>\n",
       "<table border=\"1\" class=\"dataframe\">\n",
       "  <thead>\n",
       "    <tr style=\"text-align: right;\">\n",
       "      <th></th>\n",
       "      <th>Handles</th>\n",
       "      <th>Is Sybil_emmanuel</th>\n",
       "      <th>Is Sybil_lkh</th>\n",
       "      <th>Confidence_emmanuel</th>\n",
       "      <th>Confidence_lkh</th>\n",
       "      <th>Notes_emmanuel</th>\n",
       "      <th>Notes_lkh</th>\n",
       "      <th>Sybil_lkh</th>\n",
       "      <th>Sybil_emmanuel</th>\n",
       "    </tr>\n",
       "  </thead>\n",
       "  <tbody>\n",
       "    <tr>\n",
       "      <th>0</th>\n",
       "      <td>7826t</td>\n",
       "      <td>T</td>\n",
       "      <td>T</td>\n",
       "      <td>so-so</td>\n",
       "      <td>high</td>\n",
       "      <td>New gitcoin and github accounts with zero activityin both</td>\n",
       "      <td>new gitcoin and github account, with no repos</td>\n",
       "      <td>1</td>\n",
       "      <td>1</td>\n",
       "    </tr>\n",
       "    <tr>\n",
       "      <th>1</th>\n",
       "      <td>awaer88</td>\n",
       "      <td>F</td>\n",
       "      <td>F</td>\n",
       "      <td>high</td>\n",
       "      <td>so-so</td>\n",
       "      <td>Github older than 4 years with low activity and gitcoin older than 8 months with high reliabilit...</td>\n",
       "      <td>old account, and only use kudos and quest. never used grant product</td>\n",
       "      <td>0</td>\n",
       "      <td>0</td>\n",
       "    </tr>\n",
       "    <tr>\n",
       "      <th>2</th>\n",
       "      <td>eolszewski</td>\n",
       "      <td>F</td>\n",
       "      <td>F</td>\n",
       "      <td>high</td>\n",
       "      <td>so-so</td>\n",
       "      <td>Github account older than 7 years with very high contributions and gitcoin account over 3 years ...</td>\n",
       "      <td>old github account with many repos and activities, with a new gitcoin account &amp; only one contrib...</td>\n",
       "      <td>0</td>\n",
       "      <td>0</td>\n",
       "    </tr>\n",
       "    <tr>\n",
       "      <th>3</th>\n",
       "      <td>schmackofant</td>\n",
       "      <td>F</td>\n",
       "      <td>F</td>\n",
       "      <td>low</td>\n",
       "      <td>high</td>\n",
       "      <td>Github has some activities, gitcoin is new but with some grants funding</td>\n",
       "      <td>even not active on gitcoin but he is active on github</td>\n",
       "      <td>0</td>\n",
       "      <td>0</td>\n",
       "    </tr>\n",
       "  </tbody>\n",
       "</table>\n",
       "</div>"
      ],
      "text/plain": [
       "        Handles Is Sybil_emmanuel Is Sybil_lkh Confidence_emmanuel  \\\n",
       "0         7826t                 T            T               so-so   \n",
       "1       awaer88                 F            F                high   \n",
       "2    eolszewski                 F            F                high   \n",
       "3  schmackofant                 F            F                 low   \n",
       "\n",
       "  Confidence_lkh  \\\n",
       "0           high   \n",
       "1          so-so   \n",
       "2          so-so   \n",
       "3           high   \n",
       "\n",
       "                                                                                        Notes_emmanuel  \\\n",
       "0                                            New gitcoin and github accounts with zero activityin both   \n",
       "1  Github older than 4 years with low activity and gitcoin older than 8 months with high reliabilit...   \n",
       "2  Github account older than 7 years with very high contributions and gitcoin account over 3 years ...   \n",
       "3                              Github has some activities, gitcoin is new but with some grants funding   \n",
       "\n",
       "                                                                                             Notes_lkh  \\\n",
       "0                                                        new gitcoin and github account, with no repos   \n",
       "1                                  old account, and only use kudos and quest. never used grant product   \n",
       "2  old github account with many repos and activities, with a new gitcoin account & only one contrib...   \n",
       "3                                                even not active on gitcoin but he is active on github   \n",
       "\n",
       "  Sybil_lkh Sybil_emmanuel  \n",
       "0         1              1  \n",
       "1         0              0  \n",
       "2         0              0  \n",
       "3         0              0  "
      ]
     },
     "execution_count": 664,
     "metadata": {},
     "output_type": "execute_result"
    }
   ],
   "source": [
    "lkh_emmanuel"
   ]
  },
  {
   "cell_type": "code",
   "execution_count": 407,
   "id": "ca7284ec",
   "metadata": {},
   "outputs": [
    {
     "name": "stdout",
     "output_type": "stream",
     "text": [
      "First reviewer's name: lkh\n",
      "Second reviewer's name: emmanuel\n",
      "The cohen_kappa_score for lkh and emmanuel is: 1.0\n"
     ]
    }
   ],
   "source": [
    "calculate_cohen(lkh_emmanuel)"
   ]
  },
  {
   "cell_type": "markdown",
   "id": "d344a53c",
   "metadata": {},
   "source": [
    "The cohen_kappa_score for lkh and emmanuel is: 1.0\n",
    "\n",
    "This is because they agreed four times"
   ]
  },
  {
   "cell_type": "code",
   "execution_count": 427,
   "id": "f94d0466",
   "metadata": {},
   "outputs": [
    {
     "data": {
      "text/plain": [
       "<BarContainer object of 3 artists>"
      ]
     },
     "execution_count": 427,
     "metadata": {},
     "output_type": "execute_result"
    },
    {
     "data": {
      "image/png": "[encoded data removed]",
      "text/plain": [
       "<Figure size 432x288 with 1 Axes>"
      ]
     },
     "metadata": {
      "needs_background": "light"
     },
     "output_type": "display_data"
    }
   ],
   "source": [
    "import matplotlib.pyplot as plt\n",
    "plt.bar([\"Jammie\", \"Dries\", \"Emmanuel\"], [0.0, -0.67, 1.0])"
   ]
  },
  {
   "cell_type": "code",
   "execution_count": 415,
   "id": "fa504f9a",
   "metadata": {},
   "outputs": [],
   "source": [
    "lkh_cohen = pd.DataFrame([\"Dries\", \"Jammie\", \"Emmanuel\"], columns = [\"Reviwers\"])\n",
    "lkh_cohen[\"values\"] = [0.0, -0.67, 1.0]"
   ]
  },
  {
   "cell_type": "code",
   "execution_count": 420,
   "id": "64ab8f66",
   "metadata": {},
   "outputs": [
    {
     "data": {
      "text/plain": [
       "<AxesSubplot:>"
      ]
     },
     "execution_count": 420,
     "metadata": {},
     "output_type": "execute_result"
    },
    {
     "data": {
      "image/png": "[encoded data removed]",
      "text/plain": [
       "<Figure size 432x288 with 1 Axes>"
      ]
     },
     "metadata": {
      "needs_background": "light"
     },
     "output_type": "display_data"
    }
   ],
   "source": [
    "lkh_cohen.plot.bar()"
   ]
  },
  {
   "cell_type": "markdown",
   "id": "d0fd4cda",
   "metadata": {},
   "source": [
    "## Dries correlation with other reviewers"
   ]
  },
  {
   "cell_type": "code",
   "execution_count": 424,
   "id": "9e91de35",
   "metadata": {},
   "outputs": [
    {
     "name": "stdout",
     "output_type": "stream",
     "text": [
      "First reviwer's name: dries\n",
      "Second reviwer's name: lkh\n"
     ]
    }
   ],
   "source": [
    "dries_lkh = create_table(dries, lkh, all_data)"
   ]
  },
  {
   "cell_type": "code",
   "execution_count": 665,
   "id": "20fd205d",
   "metadata": {},
   "outputs": [
    {
     "data": {
      "text/html": [
       "<div>\n",
       "<style scoped>\n",
       "    .dataframe tbody tr th:only-of-type {\n",
       "        vertical-align: middle;\n",
       "    }\n",
       "\n",
       "    .dataframe tbody tr th {\n",
       "        vertical-align: top;\n",
       "    }\n",
       "\n",
       "    .dataframe thead th {\n",
       "        text-align: right;\n",
       "    }\n",
       "</style>\n",
       "<table border=\"1\" class=\"dataframe\">\n",
       "  <thead>\n",
       "    <tr style=\"text-align: right;\">\n",
       "      <th></th>\n",
       "      <th>Handles</th>\n",
       "      <th>Is Sybil_lkh</th>\n",
       "      <th>Is Sybil_dries</th>\n",
       "      <th>Confidence_lkh</th>\n",
       "      <th>Confidence_dries</th>\n",
       "      <th>Notes_lkh</th>\n",
       "      <th>Notes_dries</th>\n",
       "    </tr>\n",
       "  </thead>\n",
       "  <tbody>\n",
       "    <tr>\n",
       "      <th>0</th>\n",
       "      <td>hakank07</td>\n",
       "      <td>T</td>\n",
       "      <td>F</td>\n",
       "      <td>so-so</td>\n",
       "      <td>so-so</td>\n",
       "      <td>empty github, and even old gitcoin he only use grant product</td>\n",
       "      <td>No real GitHub activity but medium activity on Gitcoin with high reliability.</td>\n",
       "    </tr>\n",
       "    <tr>\n",
       "      <th>1</th>\n",
       "      <td>jcarvajalmunera</td>\n",
       "      <td>T</td>\n",
       "      <td>T</td>\n",
       "      <td>high</td>\n",
       "      <td>so-so</td>\n",
       "      <td>gitcoin Reliability: Unproven , its Inactive on both github and gitcoin even the account create ...</td>\n",
       "      <td>No activity on GitHub and low activity on Gitcoin.</td>\n",
       "    </tr>\n",
       "    <tr>\n",
       "      <th>2</th>\n",
       "      <td>johniohn</td>\n",
       "      <td>F</td>\n",
       "      <td>T</td>\n",
       "      <td>so-so</td>\n",
       "      <td>High</td>\n",
       "      <td>Reliability: Unproven on gitcoin. old account but inactive. and never use any of gitcoin products</td>\n",
       "      <td>No real activity on Gitcoin and GitHub has sus activity where 3 repos were created at the same t...</td>\n",
       "    </tr>\n",
       "    <tr>\n",
       "      <th>3</th>\n",
       "      <td>owocki</td>\n",
       "      <td>F</td>\n",
       "      <td>F</td>\n",
       "      <td>high</td>\n",
       "      <td>High</td>\n",
       "      <td>lol, thats Owocki's original account :)</td>\n",
       "      <td>Our fearless leader seems legit.</td>\n",
       "    </tr>\n",
       "  </tbody>\n",
       "</table>\n",
       "</div>"
      ],
      "text/plain": [
       "           Handles Is Sybil_lkh Is Sybil_dries Confidence_lkh  \\\n",
       "0         hakank07            T              F          so-so   \n",
       "1  jcarvajalmunera            T              T           high   \n",
       "2         johniohn            F              T          so-so   \n",
       "3           owocki            F              F           high   \n",
       "\n",
       "  Confidence_dries  \\\n",
       "0            so-so   \n",
       "1            so-so   \n",
       "2             High   \n",
       "3             High   \n",
       "\n",
       "                                                                                             Notes_lkh  \\\n",
       "0                                         empty github, and even old gitcoin he only use grant product   \n",
       "1  gitcoin Reliability: Unproven , its Inactive on both github and gitcoin even the account create ...   \n",
       "2    Reliability: Unproven on gitcoin. old account but inactive. and never use any of gitcoin products   \n",
       "3                                                             lol, thats Owocki's original account :)    \n",
       "\n",
       "                                                                                           Notes_dries  \n",
       "0                       No real GitHub activity but medium activity on Gitcoin with high reliability.   \n",
       "1                                                  No activity on GitHub and low activity on Gitcoin.   \n",
       "2  No real activity on Gitcoin and GitHub has sus activity where 3 repos were created at the same t...  \n",
       "3                                                                     Our fearless leader seems legit.  "
      ]
     },
     "execution_count": 665,
     "metadata": {},
     "output_type": "execute_result"
    }
   ],
   "source": [
    "dries_lkh"
   ]
  },
  {
   "cell_type": "code",
   "execution_count": 426,
   "id": "1ce8df8f",
   "metadata": {},
   "outputs": [
    {
     "name": "stdout",
     "output_type": "stream",
     "text": [
      "First reviewer's name: dries\n",
      "Second reviewer's name: lkh\n",
      "The cohen_kappa_score for dries and lkh is: 0.0\n"
     ]
    }
   ],
   "source": [
    "calculate_cohen(dries_lkh)"
   ]
  },
  {
   "cell_type": "markdown",
   "id": "a61ae3bc",
   "metadata": {},
   "source": [
    "The cohen_kappa_score for dries and lkh is: 0.0\n",
    "\n",
    "This is because they agreed and this agreed the same number of times"
   ]
  },
  {
   "cell_type": "code",
   "execution_count": 428,
   "id": "7a30dba6",
   "metadata": {},
   "outputs": [
    {
     "name": "stdout",
     "output_type": "stream",
     "text": [
      "First reviwer's name: dries\n",
      "Second reviwer's name: pavel\n"
     ]
    }
   ],
   "source": [
    "## Dries and pavel\n",
    "dries_pavel = create_table(dries, pavel, all_data)"
   ]
  },
  {
   "cell_type": "code",
   "execution_count": 429,
   "id": "21df532e",
   "metadata": {},
   "outputs": [
    {
     "data": {
      "text/html": [
       "<div>\n",
       "<style scoped>\n",
       "    .dataframe tbody tr th:only-of-type {\n",
       "        vertical-align: middle;\n",
       "    }\n",
       "\n",
       "    .dataframe tbody tr th {\n",
       "        vertical-align: top;\n",
       "    }\n",
       "\n",
       "    .dataframe thead th {\n",
       "        text-align: right;\n",
       "    }\n",
       "</style>\n",
       "<table border=\"1\" class=\"dataframe\">\n",
       "  <thead>\n",
       "    <tr style=\"text-align: right;\">\n",
       "      <th></th>\n",
       "      <th>Handles</th>\n",
       "      <th>Is Sybil_pavel</th>\n",
       "      <th>Is Sybil_dries</th>\n",
       "      <th>Confidence_pavel</th>\n",
       "      <th>Confidence_dries</th>\n",
       "      <th>Notes_pavel</th>\n",
       "      <th>Notes_dries</th>\n",
       "    </tr>\n",
       "  </thead>\n",
       "  <tbody>\n",
       "    <tr>\n",
       "      <th>0</th>\n",
       "      <td>celir</td>\n",
       "      <td>F</td>\n",
       "      <td>F</td>\n",
       "      <td>so-so</td>\n",
       "      <td>High</td>\n",
       "      <td>good amount of contr</td>\n",
       "      <td>High GitHub activity over several years.</td>\n",
       "    </tr>\n",
       "    <tr>\n",
       "      <th>1</th>\n",
       "      <td>doublelou</td>\n",
       "      <td>F</td>\n",
       "      <td>F</td>\n",
       "      <td>so-so</td>\n",
       "      <td>Low</td>\n",
       "      <td>gtc history</td>\n",
       "      <td>GitHub account has no activities and contribut...</td>\n",
       "    </tr>\n",
       "    <tr>\n",
       "      <th>2</th>\n",
       "      <td>jcarvajalmunera</td>\n",
       "      <td>F</td>\n",
       "      <td>T</td>\n",
       "      <td>low</td>\n",
       "      <td>so-so</td>\n",
       "      <td>newbie</td>\n",
       "      <td>No activity on GitHub and low activity on Gitc...</td>\n",
       "    </tr>\n",
       "    <tr>\n",
       "      <th>3</th>\n",
       "      <td>mayxd</td>\n",
       "      <td>F</td>\n",
       "      <td>F</td>\n",
       "      <td>low</td>\n",
       "      <td>High</td>\n",
       "      <td>newbie</td>\n",
       "      <td>High GitHub activity over several years.</td>\n",
       "    </tr>\n",
       "  </tbody>\n",
       "</table>\n",
       "</div>"
      ],
      "text/plain": [
       "           Handles Is Sybil_pavel Is Sybil_dries Confidence_pavel  \\\n",
       "0            celir              F              F            so-so   \n",
       "1        doublelou              F              F            so-so   \n",
       "2  jcarvajalmunera              F              T              low   \n",
       "3            mayxd              F              F              low   \n",
       "\n",
       "  Confidence_dries           Notes_pavel  \\\n",
       "0             High  good amount of contr   \n",
       "1              Low           gtc history   \n",
       "2            so-so                newbie   \n",
       "3             High                newbie   \n",
       "\n",
       "                                         Notes_dries  \n",
       "0           High GitHub activity over several years.  \n",
       "1  GitHub account has no activities and contribut...  \n",
       "2  No activity on GitHub and low activity on Gitc...  \n",
       "3           High GitHub activity over several years.  "
      ]
     },
     "execution_count": 429,
     "metadata": {},
     "output_type": "execute_result"
    }
   ],
   "source": [
    "dries_pavel"
   ]
  },
  {
   "cell_type": "code",
   "execution_count": 669,
   "id": "7020e6be",
   "metadata": {},
   "outputs": [
    {
     "name": "stdout",
     "output_type": "stream",
     "text": [
      "First reviewer's name: dries\n",
      "Second reviewer's name: pavel\n",
      "The cohen_kappa_score for dries and pavel is: 0.0\n"
     ]
    }
   ],
   "source": [
    "calculate_cohen(dries_pavel)"
   ]
  },
  {
   "cell_type": "markdown",
   "id": "1a267ad8",
   "metadata": {},
   "source": [
    "The cohen kappa dries and pavel is 0, because they disagree three times and agree once."
   ]
  },
  {
   "cell_type": "code",
   "execution_count": 614,
   "id": "06645c2a",
   "metadata": {},
   "outputs": [
    {
     "name": "stdout",
     "output_type": "stream",
     "text": [
      "First reviewer's name: dries\n",
      "Second reviewer's name: pavel\n"
     ]
    }
   ],
   "source": [
    "new_dries_pavel = create_kappa_table(dries_pavel)\n",
    "new_dries_pavel.to_csv(\"./dries_pavel.csv\")"
   ]
  },
  {
   "cell_type": "code",
   "execution_count": 433,
   "id": "7d93a547",
   "metadata": {},
   "outputs": [
    {
     "name": "stdout",
     "output_type": "stream",
     "text": [
      "First reviwer's name: dries\n",
      "Second reviwer's name: jammie\n"
     ]
    },
    {
     "data": {
      "text/html": [
       "<div>\n",
       "<style scoped>\n",
       "    .dataframe tbody tr th:only-of-type {\n",
       "        vertical-align: middle;\n",
       "    }\n",
       "\n",
       "    .dataframe tbody tr th {\n",
       "        vertical-align: top;\n",
       "    }\n",
       "\n",
       "    .dataframe thead th {\n",
       "        text-align: right;\n",
       "    }\n",
       "</style>\n",
       "<table border=\"1\" class=\"dataframe\">\n",
       "  <thead>\n",
       "    <tr style=\"text-align: right;\">\n",
       "      <th></th>\n",
       "      <th>Handles</th>\n",
       "      <th>Is Sybil_jammie</th>\n",
       "      <th>Is Sybil_dries</th>\n",
       "      <th>Confidence_jammie</th>\n",
       "      <th>Confidence_dries</th>\n",
       "      <th>Notes_jammie</th>\n",
       "      <th>Notes_dries</th>\n",
       "    </tr>\n",
       "  </thead>\n",
       "  <tbody>\n",
       "    <tr>\n",
       "      <th>0</th>\n",
       "      <td>celir</td>\n",
       "      <td>F</td>\n",
       "      <td>F</td>\n",
       "      <td>low</td>\n",
       "      <td>High</td>\n",
       "      <td>a little activity on github but none on gitcoin</td>\n",
       "      <td>High GitHub activity over several years.</td>\n",
       "    </tr>\n",
       "    <tr>\n",
       "      <th>1</th>\n",
       "      <td>fatih4402</td>\n",
       "      <td>T</td>\n",
       "      <td>T</td>\n",
       "      <td>high</td>\n",
       "      <td>so-so</td>\n",
       "      <td>new github and a dollar funding to gitcoin</td>\n",
       "      <td>New GitHub account with no real activity on Gi...</td>\n",
       "    </tr>\n",
       "    <tr>\n",
       "      <th>2</th>\n",
       "      <td>gmifrfr</td>\n",
       "      <td>T</td>\n",
       "      <td>T</td>\n",
       "      <td>high</td>\n",
       "      <td>High</td>\n",
       "      <td>new gitcoin and github, no activity at all</td>\n",
       "      <td>New GitHub and Gitcoin account with no other a...</td>\n",
       "    </tr>\n",
       "  </tbody>\n",
       "</table>\n",
       "</div>"
      ],
      "text/plain": [
       "     Handles Is Sybil_jammie Is Sybil_dries Confidence_jammie  \\\n",
       "0      celir               F              F               low   \n",
       "1  fatih4402               T              T              high   \n",
       "2    gmifrfr               T              T              high   \n",
       "\n",
       "  Confidence_dries                                     Notes_jammie  \\\n",
       "0             High  a little activity on github but none on gitcoin   \n",
       "1            so-so       new github and a dollar funding to gitcoin   \n",
       "2             High       new gitcoin and github, no activity at all   \n",
       "\n",
       "                                         Notes_dries  \n",
       "0           High GitHub activity over several years.  \n",
       "1  New GitHub account with no real activity on Gi...  \n",
       "2  New GitHub and Gitcoin account with no other a...  "
      ]
     },
     "execution_count": 433,
     "metadata": {},
     "output_type": "execute_result"
    }
   ],
   "source": [
    "dries_jammie= create_table(dries, jammie, all_data)\n",
    "dries_jammie"
   ]
  },
  {
   "cell_type": "code",
   "execution_count": 615,
   "id": "60359c33",
   "metadata": {},
   "outputs": [
    {
     "name": "stdout",
     "output_type": "stream",
     "text": [
      "First reviewer's name: dries\n",
      "Second reviewer's name: jammie\n"
     ]
    }
   ],
   "source": [
    "new_dries_jammie = create_kappa_table(dries_jammie)\n",
    "new_dries_jammie.to_csv(\"./dries_jammie.csv\")"
   ]
  },
  {
   "cell_type": "code",
   "execution_count": 434,
   "id": "c1329002",
   "metadata": {},
   "outputs": [
    {
     "name": "stdout",
     "output_type": "stream",
     "text": [
      "First reviewer's name: dries\n",
      "Second reviewer's name: jammie\n",
      "The cohen_kappa_score for dries and jammie is: 1.0\n"
     ]
    }
   ],
   "source": [
    "calculate_cohen(dries_jammie)"
   ]
  },
  {
   "cell_type": "markdown",
   "id": "f2132acb",
   "metadata": {},
   "source": [
    "The cohen_kappa_score for dries and jammie is: 1.0, this is because they agree all the time."
   ]
  },
  {
   "cell_type": "code",
   "execution_count": 435,
   "id": "fffa0223",
   "metadata": {},
   "outputs": [
    {
     "name": "stdout",
     "output_type": "stream",
     "text": [
      "First reviwer's name: dries\n",
      "Second reviwer's name: chance\n"
     ]
    }
   ],
   "source": [
    "## Dries and Chance\n",
    "dries_chance = create_table(dries, chance, all_data)"
   ]
  },
  {
   "cell_type": "code",
   "execution_count": 436,
   "id": "a111e3d8",
   "metadata": {},
   "outputs": [
    {
     "data": {
      "text/html": [
       "<div>\n",
       "<style scoped>\n",
       "    .dataframe tbody tr th:only-of-type {\n",
       "        vertical-align: middle;\n",
       "    }\n",
       "\n",
       "    .dataframe tbody tr th {\n",
       "        vertical-align: top;\n",
       "    }\n",
       "\n",
       "    .dataframe thead th {\n",
       "        text-align: right;\n",
       "    }\n",
       "</style>\n",
       "<table border=\"1\" class=\"dataframe\">\n",
       "  <thead>\n",
       "    <tr style=\"text-align: right;\">\n",
       "      <th></th>\n",
       "      <th>Handles</th>\n",
       "      <th>Is Sybil_chance</th>\n",
       "      <th>Is Sybil_dries</th>\n",
       "      <th>Confidence_chance</th>\n",
       "      <th>Confidence_dries</th>\n",
       "      <th>Notes_chance</th>\n",
       "      <th>Notes_dries</th>\n",
       "    </tr>\n",
       "  </thead>\n",
       "  <tbody>\n",
       "    <tr>\n",
       "      <th>0</th>\n",
       "      <td>bhaumik</td>\n",
       "      <td>F</td>\n",
       "      <td>F</td>\n",
       "      <td>so-so</td>\n",
       "      <td>High</td>\n",
       "      <td>new gitcoin but made donations this round, ver...</td>\n",
       "      <td>GitHub account is from 2013 with few-many cont...</td>\n",
       "    </tr>\n",
       "    <tr>\n",
       "      <th>1</th>\n",
       "      <td>fergthh</td>\n",
       "      <td>F</td>\n",
       "      <td>F</td>\n",
       "      <td>high</td>\n",
       "      <td>High</td>\n",
       "      <td>active gitcoin over many rounds, legit looking...</td>\n",
       "      <td>High GitHub activity over several years.</td>\n",
       "    </tr>\n",
       "    <tr>\n",
       "      <th>2</th>\n",
       "      <td>owtawa</td>\n",
       "      <td>T</td>\n",
       "      <td>T</td>\n",
       "      <td>so-so</td>\n",
       "      <td>High</td>\n",
       "      <td>new gitcoin, new github, no activity at all</td>\n",
       "      <td>New GitHub account and no activity on GitHub a...</td>\n",
       "    </tr>\n",
       "    <tr>\n",
       "      <th>3</th>\n",
       "      <td>rockxie</td>\n",
       "      <td>T</td>\n",
       "      <td>F</td>\n",
       "      <td>low</td>\n",
       "      <td>High</td>\n",
       "      <td>gitcoin seems deleted, long history of github ...</td>\n",
       "      <td>No Gitcoin account? But a lot of contributions...</td>\n",
       "    </tr>\n",
       "  </tbody>\n",
       "</table>\n",
       "</div>"
      ],
      "text/plain": [
       "   Handles Is Sybil_chance Is Sybil_dries Confidence_chance Confidence_dries  \\\n",
       "0  bhaumik               F              F             so-so             High   \n",
       "1  fergthh               F              F              high             High   \n",
       "2   owtawa               T              T             so-so             High   \n",
       "3  rockxie               T              F               low             High   \n",
       "\n",
       "                                        Notes_chance  \\\n",
       "0  new gitcoin but made donations this round, ver...   \n",
       "1  active gitcoin over many rounds, legit looking...   \n",
       "2        new gitcoin, new github, no activity at all   \n",
       "3  gitcoin seems deleted, long history of github ...   \n",
       "\n",
       "                                         Notes_dries  \n",
       "0  GitHub account is from 2013 with few-many cont...  \n",
       "1           High GitHub activity over several years.  \n",
       "2  New GitHub account and no activity on GitHub a...  \n",
       "3  No Gitcoin account? But a lot of contributions...  "
      ]
     },
     "execution_count": 436,
     "metadata": {},
     "output_type": "execute_result"
    }
   ],
   "source": [
    "dries_chance"
   ]
  },
  {
   "cell_type": "code",
   "execution_count": 437,
   "id": "3262e1be",
   "metadata": {},
   "outputs": [
    {
     "name": "stdout",
     "output_type": "stream",
     "text": [
      "First reviewer's name: dries\n",
      "Second reviewer's name: chance\n",
      "The cohen_kappa_score for dries and chance is: 0.5\n"
     ]
    }
   ],
   "source": [
    "calculate_cohen(dries_chance)"
   ]
  },
  {
   "cell_type": "markdown",
   "id": "b1189a32",
   "metadata": {},
   "source": [
    "The cohen_kappa_score for dries and chance is: 0.5, this is because they agree three times and disagree once."
   ]
  },
  {
   "cell_type": "code",
   "execution_count": 616,
   "id": "59ae94f5",
   "metadata": {},
   "outputs": [
    {
     "name": "stdout",
     "output_type": "stream",
     "text": [
      "First reviewer's name: dries\n",
      "Second reviewer's name: chance\n"
     ]
    }
   ],
   "source": [
    "new_dries_chance = create_kappa_table(dries_chance)\n",
    "new_dries_chance.to_csv(\"./dries_chance.csv\")"
   ]
  },
  {
   "cell_type": "code",
   "execution_count": 438,
   "id": "b7dc4e7b",
   "metadata": {},
   "outputs": [
    {
     "name": "stdout",
     "output_type": "stream",
     "text": [
      "First reviwer's name: dries\n",
      "Second reviwer's name: emmanuel\n"
     ]
    },
    {
     "data": {
      "text/html": [
       "<div>\n",
       "<style scoped>\n",
       "    .dataframe tbody tr th:only-of-type {\n",
       "        vertical-align: middle;\n",
       "    }\n",
       "\n",
       "    .dataframe tbody tr th {\n",
       "        vertical-align: top;\n",
       "    }\n",
       "\n",
       "    .dataframe thead th {\n",
       "        text-align: right;\n",
       "    }\n",
       "</style>\n",
       "<table border=\"1\" class=\"dataframe\">\n",
       "  <thead>\n",
       "    <tr style=\"text-align: right;\">\n",
       "      <th></th>\n",
       "      <th>Handles</th>\n",
       "      <th>Is Sybil_emmanuel</th>\n",
       "      <th>Is Sybil_dries</th>\n",
       "      <th>Confidence_emmanuel</th>\n",
       "      <th>Confidence_dries</th>\n",
       "      <th>Notes_emmanuel</th>\n",
       "      <th>Notes_dries</th>\n",
       "    </tr>\n",
       "  </thead>\n",
       "  <tbody>\n",
       "    <tr>\n",
       "      <th>0</th>\n",
       "      <td>jupiterr-chen</td>\n",
       "      <td>F</td>\n",
       "      <td>F</td>\n",
       "      <td>so-so</td>\n",
       "      <td>so-so</td>\n",
       "      <td>Github account is quite old with some activity...</td>\n",
       "      <td>GitHub account is from 2013 with few-many cont...</td>\n",
       "    </tr>\n",
       "    <tr>\n",
       "      <th>1</th>\n",
       "      <td>lacrissashontasia58</td>\n",
       "      <td>T</td>\n",
       "      <td>T</td>\n",
       "      <td>so-so</td>\n",
       "      <td>High</td>\n",
       "      <td>New accountson gitcoin and github with zero ac...</td>\n",
       "      <td>New GitHub account and no activity on GitHub a...</td>\n",
       "    </tr>\n",
       "    <tr>\n",
       "      <th>2</th>\n",
       "      <td>mapl3sn0w</td>\n",
       "      <td>F</td>\n",
       "      <td>F</td>\n",
       "      <td>so-so</td>\n",
       "      <td>so-so</td>\n",
       "      <td>Github account is quite active, also gitcoin a...</td>\n",
       "      <td>New GitHub account and but a repeated worker.</td>\n",
       "    </tr>\n",
       "    <tr>\n",
       "      <th>3</th>\n",
       "      <td>zemberek82</td>\n",
       "      <td>T</td>\n",
       "      <td>T</td>\n",
       "      <td>so-so</td>\n",
       "      <td>so-so</td>\n",
       "      <td>Github has almost no works, gitcoin has lots o...</td>\n",
       "      <td>No real activity on GitHub or Gitcoin except f...</td>\n",
       "    </tr>\n",
       "  </tbody>\n",
       "</table>\n",
       "</div>"
      ],
      "text/plain": [
       "               Handles Is Sybil_emmanuel Is Sybil_dries Confidence_emmanuel  \\\n",
       "0        jupiterr-chen                 F              F               so-so   \n",
       "1  lacrissashontasia58                 T              T               so-so   \n",
       "2            mapl3sn0w                 F              F               so-so   \n",
       "3           zemberek82                 T              T               so-so   \n",
       "\n",
       "  Confidence_dries                                     Notes_emmanuel  \\\n",
       "0            so-so  Github account is quite old with some activity...   \n",
       "1             High  New accountson gitcoin and github with zero ac...   \n",
       "2            so-so  Github account is quite active, also gitcoin a...   \n",
       "3            so-so  Github has almost no works, gitcoin has lots o...   \n",
       "\n",
       "                                         Notes_dries  \n",
       "0  GitHub account is from 2013 with few-many cont...  \n",
       "1  New GitHub account and no activity on GitHub a...  \n",
       "2      New GitHub account and but a repeated worker.  \n",
       "3  No real activity on GitHub or Gitcoin except f...  "
      ]
     },
     "execution_count": 438,
     "metadata": {},
     "output_type": "execute_result"
    }
   ],
   "source": [
    "## Dries and Emmanuel\n",
    "dries_emmanuel = create_table(dries, emmanuel, all_data)\n",
    "dries_emmanuel"
   ]
  },
  {
   "cell_type": "code",
   "execution_count": 439,
   "id": "f60960cb",
   "metadata": {},
   "outputs": [
    {
     "name": "stdout",
     "output_type": "stream",
     "text": [
      "First reviewer's name: dries\n",
      "Second reviewer's name: emmanuel\n",
      "The cohen_kappa_score for dries and emmanuel is: 1.0\n"
     ]
    }
   ],
   "source": [
    "calculate_cohen(dries_emmanuel)"
   ]
  },
  {
   "cell_type": "markdown",
   "id": "e7bbf59f",
   "metadata": {},
   "source": [
    "The cohen_kappa_score for dries and emmanuel is: 1.0, This is because they have agreed in on all the instances reviewed."
   ]
  },
  {
   "cell_type": "code",
   "execution_count": 617,
   "id": "e20b61fb",
   "metadata": {},
   "outputs": [
    {
     "name": "stdout",
     "output_type": "stream",
     "text": [
      "First reviewer's name: dries\n",
      "Second reviewer's name: emmanuel\n"
     ]
    }
   ],
   "source": [
    "new_dries_emmanuel = create_kappa_table(dries_emmanuel)\n",
    "new_dries_emmanuel.to_csv(\"./dries_emmanuel.csv\")"
   ]
  },
  {
   "cell_type": "code",
   "execution_count": 440,
   "id": "9e1848ce",
   "metadata": {},
   "outputs": [
    {
     "name": "stdout",
     "output_type": "stream",
     "text": [
      "First reviwer's name: dries\n",
      "Second reviwer's name: am\n"
     ]
    },
    {
     "data": {
      "text/html": [
       "<div>\n",
       "<style scoped>\n",
       "    .dataframe tbody tr th:only-of-type {\n",
       "        vertical-align: middle;\n",
       "    }\n",
       "\n",
       "    .dataframe tbody tr th {\n",
       "        vertical-align: top;\n",
       "    }\n",
       "\n",
       "    .dataframe thead th {\n",
       "        text-align: right;\n",
       "    }\n",
       "</style>\n",
       "<table border=\"1\" class=\"dataframe\">\n",
       "  <thead>\n",
       "    <tr style=\"text-align: right;\">\n",
       "      <th></th>\n",
       "      <th>Handles</th>\n",
       "      <th>Is Sybil_am</th>\n",
       "      <th>Is Sybil_dries</th>\n",
       "      <th>Confidence_am</th>\n",
       "      <th>Confidence_dries</th>\n",
       "      <th>Notes_am</th>\n",
       "      <th>Notes_dries</th>\n",
       "    </tr>\n",
       "  </thead>\n",
       "  <tbody>\n",
       "    <tr>\n",
       "      <th>0</th>\n",
       "      <td>bhaumik</td>\n",
       "      <td>F</td>\n",
       "      <td>F</td>\n",
       "      <td>so-so</td>\n",
       "      <td>High</td>\n",
       "      <td>mild contributions, submitted own grant, no re...</td>\n",
       "      <td>GitHub account is from 2013 with few-many cont...</td>\n",
       "    </tr>\n",
       "    <tr>\n",
       "      <th>1</th>\n",
       "      <td>drcrypto14</td>\n",
       "      <td>F</td>\n",
       "      <td>T</td>\n",
       "      <td>so-so</td>\n",
       "      <td>High</td>\n",
       "      <td>new account, no activity</td>\n",
       "      <td>New GitHub account but no activity on GitHub a...</td>\n",
       "    </tr>\n",
       "    <tr>\n",
       "      <th>2</th>\n",
       "      <td>gaojianclare</td>\n",
       "      <td>T</td>\n",
       "      <td>T</td>\n",
       "      <td>high</td>\n",
       "      <td>High</td>\n",
       "      <td>Contributes 2 DAI to dozens of grants, all act...</td>\n",
       "      <td>Low contributions with multiple grants and no ...</td>\n",
       "    </tr>\n",
       "  </tbody>\n",
       "</table>\n",
       "</div>"
      ],
      "text/plain": [
       "        Handles Is Sybil_am Is Sybil_dries Confidence_am Confidence_dries  \\\n",
       "0       bhaumik           F              F         so-so             High   \n",
       "1    drcrypto14           F              T         so-so             High   \n",
       "2  gaojianclare           T              T          high             High   \n",
       "\n",
       "                                            Notes_am  \\\n",
       "0  mild contributions, submitted own grant, no re...   \n",
       "1                           new account, no activity   \n",
       "2  Contributes 2 DAI to dozens of grants, all act...   \n",
       "\n",
       "                                         Notes_dries  \n",
       "0  GitHub account is from 2013 with few-many cont...  \n",
       "1  New GitHub account but no activity on GitHub a...  \n",
       "2  Low contributions with multiple grants and no ...  "
      ]
     },
     "execution_count": 440,
     "metadata": {},
     "output_type": "execute_result"
    }
   ],
   "source": [
    "## Dries and Am\n",
    "dries_am = create_table(dries, am, all_data)\n",
    "dries_am"
   ]
  },
  {
   "cell_type": "code",
   "execution_count": 441,
   "id": "6eaec238",
   "metadata": {},
   "outputs": [
    {
     "name": "stdout",
     "output_type": "stream",
     "text": [
      "First reviewer's name: dries\n",
      "Second reviewer's name: am\n",
      "The cohen_kappa_score for dries and am is: 0.3999999999999999\n"
     ]
    }
   ],
   "source": [
    "calculate_cohen(dries_am)"
   ]
  },
  {
   "cell_type": "markdown",
   "id": "bae2face",
   "metadata": {},
   "source": [
    "The cohen_kappa_score for dries and am is: 0.39, this is because they agreed two out of the three handles reviewed."
   ]
  },
  {
   "cell_type": "code",
   "execution_count": 618,
   "id": "2d678afd",
   "metadata": {},
   "outputs": [
    {
     "name": "stdout",
     "output_type": "stream",
     "text": [
      "First reviewer's name: dries\n",
      "Second reviewer's name: am\n"
     ]
    }
   ],
   "source": [
    "new_dries_am = create_kappa_table(dries_am)\n",
    "new_dries_am.to_csv(\"./dries_am.csv\")"
   ]
  },
  {
   "cell_type": "code",
   "execution_count": 444,
   "id": "e83686b1",
   "metadata": {},
   "outputs": [
    {
     "data": {
      "image/png": "[encoded data removed]",
      "text/plain": [
       "<Figure size 432x288 with 1 Axes>"
      ]
     },
     "metadata": {
      "needs_background": "light"
     },
     "output_type": "display_data"
    }
   ],
   "source": [
    "plt.title(\"A correlation of Dries and other reviewers by Cohen-kappa\")\n",
    "plt.bar([\"Lkh\", \"Pavel\", \"Jammie\", \"Chance\", \"Emmanuel\", \"Am\"], [0.0, 0.0, 1.0, 0.5, 1.0, 0.39])\n",
    "plt.grid()\n",
    "plt.show()"
   ]
  },
  {
   "cell_type": "markdown",
   "id": "29b0ada5",
   "metadata": {},
   "source": [
    "## David Correlation with reviewers"
   ]
  },
  {
   "cell_type": "code",
   "execution_count": 446,
   "id": "c286ceaa",
   "metadata": {},
   "outputs": [
    {
     "name": "stdout",
     "output_type": "stream",
     "text": [
      "First reviwer's name: david\n",
      "Second reviwer's name: lkh\n"
     ]
    },
    {
     "data": {
      "text/html": [
       "<div>\n",
       "<style scoped>\n",
       "    .dataframe tbody tr th:only-of-type {\n",
       "        vertical-align: middle;\n",
       "    }\n",
       "\n",
       "    .dataframe tbody tr th {\n",
       "        vertical-align: top;\n",
       "    }\n",
       "\n",
       "    .dataframe thead th {\n",
       "        text-align: right;\n",
       "    }\n",
       "</style>\n",
       "<table border=\"1\" class=\"dataframe\">\n",
       "  <thead>\n",
       "    <tr style=\"text-align: right;\">\n",
       "      <th></th>\n",
       "      <th>Handles</th>\n",
       "      <th>Is Sybil_lkh</th>\n",
       "      <th>Is Sybil_david</th>\n",
       "      <th>Confidence_lkh</th>\n",
       "      <th>Confidence_david</th>\n",
       "      <th>Notes_lkh</th>\n",
       "      <th>Notes_david</th>\n",
       "    </tr>\n",
       "  </thead>\n",
       "  <tbody>\n",
       "    <tr>\n",
       "      <th>0</th>\n",
       "      <td>birdbeyondl</td>\n",
       "      <td>T</td>\n",
       "      <td>NaN</td>\n",
       "      <td>high</td>\n",
       "      <td>NaN</td>\n",
       "      <td>inactive time ago in github and gitcoin &amp;  onl...</td>\n",
       "      <td>NaN</td>\n",
       "    </tr>\n",
       "    <tr>\n",
       "      <th>1</th>\n",
       "      <td>toicours</td>\n",
       "      <td>F</td>\n",
       "      <td>NaN</td>\n",
       "      <td>high</td>\n",
       "      <td>NaN</td>\n",
       "      <td>old github account (since 2017) and there some...</td>\n",
       "      <td>NaN</td>\n",
       "    </tr>\n",
       "  </tbody>\n",
       "</table>\n",
       "</div>"
      ],
      "text/plain": [
       "       Handles Is Sybil_lkh Is Sybil_david Confidence_lkh Confidence_david  \\\n",
       "0  birdbeyondl            T            NaN           high              NaN   \n",
       "1     toicours            F            NaN           high              NaN   \n",
       "\n",
       "                                           Notes_lkh Notes_david  \n",
       "0  inactive time ago in github and gitcoin &  onl...         NaN  \n",
       "1  old github account (since 2017) and there some...         NaN  "
      ]
     },
     "execution_count": 446,
     "metadata": {},
     "output_type": "execute_result"
    }
   ],
   "source": [
    "## David and lkh\n",
    "david_lkh = create_table(david, lkh, all_data)\n",
    "david_lkh"
   ]
  },
  {
   "cell_type": "code",
   "execution_count": 447,
   "id": "bcd00997",
   "metadata": {},
   "outputs": [
    {
     "name": "stdout",
     "output_type": "stream",
     "text": [
      "First reviwer's name: jammie\n",
      "Second reviwer's name: david\n"
     ]
    }
   ],
   "source": [
    "## David and Jammie\n",
    "david_jammie = create_table(david, jammie, all_data)"
   ]
  },
  {
   "cell_type": "code",
   "execution_count": 448,
   "id": "650cd0b6",
   "metadata": {},
   "outputs": [
    {
     "data": {
      "text/html": [
       "<div>\n",
       "<style scoped>\n",
       "    .dataframe tbody tr th:only-of-type {\n",
       "        vertical-align: middle;\n",
       "    }\n",
       "\n",
       "    .dataframe tbody tr th {\n",
       "        vertical-align: top;\n",
       "    }\n",
       "\n",
       "    .dataframe thead th {\n",
       "        text-align: right;\n",
       "    }\n",
       "</style>\n",
       "<table border=\"1\" class=\"dataframe\">\n",
       "  <thead>\n",
       "    <tr style=\"text-align: right;\">\n",
       "      <th></th>\n",
       "      <th>Handles</th>\n",
       "      <th>Is Sybil_david</th>\n",
       "      <th>Is Sybil_jammie</th>\n",
       "      <th>Confidence_david</th>\n",
       "      <th>Confidence_jammie</th>\n",
       "      <th>Notes_david</th>\n",
       "      <th>Notes_jammie</th>\n",
       "    </tr>\n",
       "  </thead>\n",
       "  <tbody>\n",
       "    <tr>\n",
       "      <th>0</th>\n",
       "      <td>birdbeyondl</td>\n",
       "      <td>F</td>\n",
       "      <td>NaN</td>\n",
       "      <td>low</td>\n",
       "      <td>NaN</td>\n",
       "      <td>few github activity from last month but no act...</td>\n",
       "      <td>NaN</td>\n",
       "    </tr>\n",
       "    <tr>\n",
       "      <th>1</th>\n",
       "      <td>imnisen</td>\n",
       "      <td>F</td>\n",
       "      <td>NaN</td>\n",
       "      <td>so-so</td>\n",
       "      <td>NaN</td>\n",
       "      <td>active github profile but no activiy on gitcoin</td>\n",
       "      <td>NaN</td>\n",
       "    </tr>\n",
       "  </tbody>\n",
       "</table>\n",
       "</div>"
      ],
      "text/plain": [
       "       Handles Is Sybil_david Is Sybil_jammie Confidence_david  \\\n",
       "0  birdbeyondl              F             NaN              low   \n",
       "1      imnisen              F             NaN            so-so   \n",
       "\n",
       "  Confidence_jammie                                        Notes_david  \\\n",
       "0               NaN  few github activity from last month but no act...   \n",
       "1               NaN    active github profile but no activiy on gitcoin   \n",
       "\n",
       "  Notes_jammie  \n",
       "0          NaN  \n",
       "1          NaN  "
      ]
     },
     "execution_count": 448,
     "metadata": {},
     "output_type": "execute_result"
    }
   ],
   "source": [
    "david_jammie"
   ]
  },
  {
   "cell_type": "code",
   "execution_count": 500,
   "id": "1f3643b5",
   "metadata": {},
   "outputs": [
    {
     "name": "stdout",
     "output_type": "stream",
     "text": [
      "lkh 1\n",
      "dries 2\n",
      "david 1\n",
      "zerb 1\n",
      "bfa 0\n",
      "pascal 1\n",
      "pavel 4\n",
      "jammie 2\n",
      "walter 1\n",
      "chance 0\n",
      "ann 1\n",
      "dogg 1\n",
      "sid 0\n",
      "joe 3\n",
      "fizzy 4\n",
      "am 3\n",
      "mount 1\n",
      "vik 0\n",
      "emmanuel 3\n"
     ]
    }
   ],
   "source": [
    "list_data = [\"lkh\", \"dries\", \"david\", \"zerb\", \"bfa\", \"pascal\", \"pavel\", \"jammie\", \"walter\",\n",
    "             \"chance\", \"ann\", \"dogg\", \"sid\", \"joe\", \"fizzy\", \"am\", \"mount\", \"vik\", \"emmanuel\", \"greg\"]\n",
    "for i in list_data:\n",
    "    if i != \"greg\":\n",
    "        counts = all_data[[\"greg\",  i]].dropna(how=\"any\").shape[0]\n",
    "        print(i, counts)"
   ]
  },
  {
   "cell_type": "markdown",
   "id": "4bf3e5f3",
   "metadata": {},
   "source": [
    "## Zerb Correlation with other reviewers"
   ]
  },
  {
   "cell_type": "code",
   "execution_count": 452,
   "id": "f52edf1f",
   "metadata": {},
   "outputs": [
    {
     "name": "stdout",
     "output_type": "stream",
     "text": [
      "First reviwer's name: zerb\n",
      "Second reviwer's name: am\n"
     ]
    },
    {
     "data": {
      "text/html": [
       "<div>\n",
       "<style scoped>\n",
       "    .dataframe tbody tr th:only-of-type {\n",
       "        vertical-align: middle;\n",
       "    }\n",
       "\n",
       "    .dataframe tbody tr th {\n",
       "        vertical-align: top;\n",
       "    }\n",
       "\n",
       "    .dataframe thead th {\n",
       "        text-align: right;\n",
       "    }\n",
       "</style>\n",
       "<table border=\"1\" class=\"dataframe\">\n",
       "  <thead>\n",
       "    <tr style=\"text-align: right;\">\n",
       "      <th></th>\n",
       "      <th>Handles</th>\n",
       "      <th>Is Sybil_am</th>\n",
       "      <th>Is Sybil_zerb</th>\n",
       "      <th>Confidence_am</th>\n",
       "      <th>Confidence_zerb</th>\n",
       "      <th>Notes_am</th>\n",
       "      <th>Notes_zerb</th>\n",
       "    </tr>\n",
       "  </thead>\n",
       "  <tbody>\n",
       "    <tr>\n",
       "      <th>0</th>\n",
       "      <td>bhaumik</td>\n",
       "      <td>F</td>\n",
       "      <td>F</td>\n",
       "      <td>so-so</td>\n",
       "      <td>So-so</td>\n",
       "      <td>mild contributions, submitted own grant, no re...</td>\n",
       "      <td>Not a lot of github activity, but he joined in...</td>\n",
       "    </tr>\n",
       "    <tr>\n",
       "      <th>1</th>\n",
       "      <td>jay7002</td>\n",
       "      <td>T</td>\n",
       "      <td>F</td>\n",
       "      <td>so-so</td>\n",
       "      <td>low</td>\n",
       "      <td>small amounts to mulitple accounts. No activit...</td>\n",
       "      <td>A lot of donations on GTC, no clear pattern...</td>\n",
       "    </tr>\n",
       "    <tr>\n",
       "      <th>2</th>\n",
       "      <td>myfeir</td>\n",
       "      <td>T</td>\n",
       "      <td>T</td>\n",
       "      <td>low</td>\n",
       "      <td>so-so</td>\n",
       "      <td>small amounts to multiple accounts. No external</td>\n",
       "      <td>Joined both platforms 2 months ago, 152 donations</td>\n",
       "    </tr>\n",
       "    <tr>\n",
       "      <th>3</th>\n",
       "      <td>vijayer</td>\n",
       "      <td>T</td>\n",
       "      <td>F</td>\n",
       "      <td>low</td>\n",
       "      <td>High</td>\n",
       "      <td>small amounts to multiple accounts. very activ...</td>\n",
       "      <td>Huge amount of real contributions on github</td>\n",
       "    </tr>\n",
       "    <tr>\n",
       "      <th>4</th>\n",
       "      <td>weiyeyan</td>\n",
       "      <td>T</td>\n",
       "      <td>F</td>\n",
       "      <td>high</td>\n",
       "      <td>low</td>\n",
       "      <td>brand new account and only activity is mulitpl...</td>\n",
       "      <td>SImilar donation pattern</td>\n",
       "    </tr>\n",
       "  </tbody>\n",
       "</table>\n",
       "</div>"
      ],
      "text/plain": [
       "    Handles Is Sybil_am Is Sybil_zerb Confidence_am Confidence_zerb  \\\n",
       "0   bhaumik           F             F         so-so           So-so   \n",
       "1   jay7002           T             F         so-so             low   \n",
       "2    myfeir           T             T           low           so-so   \n",
       "3   vijayer           T             F           low            High   \n",
       "4  weiyeyan           T             F          high             low   \n",
       "\n",
       "                                            Notes_am  \\\n",
       "0  mild contributions, submitted own grant, no re...   \n",
       "1  small amounts to mulitple accounts. No activit...   \n",
       "2   small amounts to multiple accounts. No external    \n",
       "3  small amounts to multiple accounts. very activ...   \n",
       "4  brand new account and only activity is mulitpl...   \n",
       "\n",
       "                                          Notes_zerb  \n",
       "0  Not a lot of github activity, but he joined in...  \n",
       "1     A lot of donations on GTC, no clear pattern...  \n",
       "2  Joined both platforms 2 months ago, 152 donations  \n",
       "3        Huge amount of real contributions on github  \n",
       "4                           SImilar donation pattern  "
      ]
     },
     "execution_count": 452,
     "metadata": {},
     "output_type": "execute_result"
    }
   ],
   "source": [
    "## David and Am\n",
    "zerb_am = create_table(zerb, am, all_data)\n",
    "zerb_am"
   ]
  },
  {
   "cell_type": "code",
   "execution_count": 453,
   "id": "f1a7e0b1",
   "metadata": {},
   "outputs": [
    {
     "name": "stdout",
     "output_type": "stream",
     "text": [
      "First reviewer's name: zerb\n",
      "Second reviewer's name: am\n",
      "The cohen_kappa_score for zerb and am is: 0.11764705882352955\n"
     ]
    }
   ],
   "source": [
    "calculate_cohen(zerb_am)"
   ]
  },
  {
   "cell_type": "markdown",
   "id": "e3aa3da9",
   "metadata": {},
   "source": [
    "The cohen_kappa_score for zerb and am is: 0.12, this is because agree two out of five times. "
   ]
  },
  {
   "cell_type": "code",
   "execution_count": 621,
   "id": "ccdfe451",
   "metadata": {},
   "outputs": [
    {
     "name": "stdout",
     "output_type": "stream",
     "text": [
      "First reviewer's name: zerb\n",
      "Second reviewer's name: am\n"
     ]
    }
   ],
   "source": [
    "new_zerb_am = create_kappa_table(zerb_am)\n",
    "new_zerb_am.to_csv(\"./zerb_am.csv\")"
   ]
  },
  {
   "cell_type": "code",
   "execution_count": 454,
   "id": "135f5e20",
   "metadata": {},
   "outputs": [
    {
     "name": "stdout",
     "output_type": "stream",
     "text": [
      "First reviwer's name: zerb\n",
      "Second reviwer's name: pavel\n"
     ]
    },
    {
     "data": {
      "text/html": [
       "<div>\n",
       "<style scoped>\n",
       "    .dataframe tbody tr th:only-of-type {\n",
       "        vertical-align: middle;\n",
       "    }\n",
       "\n",
       "    .dataframe tbody tr th {\n",
       "        vertical-align: top;\n",
       "    }\n",
       "\n",
       "    .dataframe thead th {\n",
       "        text-align: right;\n",
       "    }\n",
       "</style>\n",
       "<table border=\"1\" class=\"dataframe\">\n",
       "  <thead>\n",
       "    <tr style=\"text-align: right;\">\n",
       "      <th></th>\n",
       "      <th>Handles</th>\n",
       "      <th>Is Sybil_pavel</th>\n",
       "      <th>Is Sybil_zerb</th>\n",
       "      <th>Confidence_pavel</th>\n",
       "      <th>Confidence_zerb</th>\n",
       "      <th>Notes_pavel</th>\n",
       "      <th>Notes_zerb</th>\n",
       "    </tr>\n",
       "  </thead>\n",
       "  <tbody>\n",
       "    <tr>\n",
       "      <th>0</th>\n",
       "      <td>haihanzhang</td>\n",
       "      <td>F</td>\n",
       "      <td>T</td>\n",
       "      <td>low</td>\n",
       "      <td>High</td>\n",
       "      <td>newbie</td>\n",
       "      <td>Predictable donation pattern, joined Github 25...</td>\n",
       "    </tr>\n",
       "    <tr>\n",
       "      <th>1</th>\n",
       "      <td>karelnagel</td>\n",
       "      <td>F</td>\n",
       "      <td>F</td>\n",
       "      <td>low</td>\n",
       "      <td>High</td>\n",
       "      <td>newbie</td>\n",
       "      <td>A lot of contributions on Github</td>\n",
       "    </tr>\n",
       "    <tr>\n",
       "      <th>2</th>\n",
       "      <td>sorrowblood</td>\n",
       "      <td>F</td>\n",
       "      <td>T</td>\n",
       "      <td>low</td>\n",
       "      <td>so-so</td>\n",
       "      <td>newbie</td>\n",
       "      <td>Joined both platforms on 2 Dec, no activity</td>\n",
       "    </tr>\n",
       "    <tr>\n",
       "      <th>3</th>\n",
       "      <td>zeptimus</td>\n",
       "      <td>F</td>\n",
       "      <td>F</td>\n",
       "      <td>high</td>\n",
       "      <td>High</td>\n",
       "      <td>good history</td>\n",
       "      <td>A lot of github activity and member of the TEC</td>\n",
       "    </tr>\n",
       "  </tbody>\n",
       "</table>\n",
       "</div>"
      ],
      "text/plain": [
       "       Handles Is Sybil_pavel Is Sybil_zerb Confidence_pavel Confidence_zerb  \\\n",
       "0  haihanzhang              F             T              low            High   \n",
       "1   karelnagel              F             F              low            High   \n",
       "2  sorrowblood              F             T              low           so-so   \n",
       "3     zeptimus              F             F             high            High   \n",
       "\n",
       "    Notes_pavel                                         Notes_zerb  \n",
       "0        newbie  Predictable donation pattern, joined Github 25...  \n",
       "1        newbie                   A lot of contributions on Github  \n",
       "2        newbie        Joined both platforms on 2 Dec, no activity  \n",
       "3  good history     A lot of github activity and member of the TEC  "
      ]
     },
     "execution_count": 454,
     "metadata": {},
     "output_type": "execute_result"
    }
   ],
   "source": [
    "## Zerb and Pavel\n",
    "zerb_pavel = create_table(zerb, pavel, all_data)\n",
    "zerb_pavel"
   ]
  },
  {
   "cell_type": "code",
   "execution_count": 455,
   "id": "acfcd33d",
   "metadata": {},
   "outputs": [
    {
     "name": "stdout",
     "output_type": "stream",
     "text": [
      "First reviewer's name: zerb\n",
      "Second reviewer's name: pavel\n",
      "The cohen_kappa_score for zerb and pavel is: 0.0\n"
     ]
    }
   ],
   "source": [
    "calculate_cohen(zerb_pavel)"
   ]
  },
  {
   "cell_type": "markdown",
   "id": "c8664ca7",
   "metadata": {},
   "source": [
    "The cohen_kappa_score for zerb and pavel is: 0.0, This is because they agree two times and disagreed twice.\n"
   ]
  },
  {
   "cell_type": "code",
   "execution_count": 622,
   "id": "ffa0a0a8",
   "metadata": {
    "scrolled": true
   },
   "outputs": [
    {
     "name": "stdout",
     "output_type": "stream",
     "text": [
      "First reviewer's name: zerb\n",
      "Second reviewer's name: pavel\n"
     ]
    }
   ],
   "source": [
    "new_zerb_pavel = create_kappa_table(zerb_pavel)\n",
    "new_zerb_pavel.to_csv(\"./zerb_pavel.csv\")"
   ]
  },
  {
   "cell_type": "code",
   "execution_count": 456,
   "id": "19823350",
   "metadata": {},
   "outputs": [
    {
     "name": "stdout",
     "output_type": "stream",
     "text": [
      "First reviwer's name: zerb\n",
      "Second reviwer's name: jammie\n"
     ]
    },
    {
     "data": {
      "text/html": [
       "<div>\n",
       "<style scoped>\n",
       "    .dataframe tbody tr th:only-of-type {\n",
       "        vertical-align: middle;\n",
       "    }\n",
       "\n",
       "    .dataframe tbody tr th {\n",
       "        vertical-align: top;\n",
       "    }\n",
       "\n",
       "    .dataframe thead th {\n",
       "        text-align: right;\n",
       "    }\n",
       "</style>\n",
       "<table border=\"1\" class=\"dataframe\">\n",
       "  <thead>\n",
       "    <tr style=\"text-align: right;\">\n",
       "      <th></th>\n",
       "      <th>Handles</th>\n",
       "      <th>Is Sybil_jammie</th>\n",
       "      <th>Is Sybil_zerb</th>\n",
       "      <th>Confidence_jammie</th>\n",
       "      <th>Confidence_zerb</th>\n",
       "      <th>Notes_jammie</th>\n",
       "      <th>Notes_zerb</th>\n",
       "    </tr>\n",
       "  </thead>\n",
       "  <tbody>\n",
       "    <tr>\n",
       "      <th>0</th>\n",
       "      <td>drbalikci</td>\n",
       "      <td>T</td>\n",
       "      <td>T</td>\n",
       "      <td>high</td>\n",
       "      <td>so-so</td>\n",
       "      <td>both accounts are new</td>\n",
       "      <td>No activity</td>\n",
       "    </tr>\n",
       "    <tr>\n",
       "      <th>1</th>\n",
       "      <td>jsartorius</td>\n",
       "      <td>F</td>\n",
       "      <td>F</td>\n",
       "      <td>low</td>\n",
       "      <td>so-so</td>\n",
       "      <td>info from github looks origianl but new gitcoin</td>\n",
       "      <td>Low activity on github, but has some contribut...</td>\n",
       "    </tr>\n",
       "    <tr>\n",
       "      <th>2</th>\n",
       "      <td>whateverright</td>\n",
       "      <td>T</td>\n",
       "      <td>T</td>\n",
       "      <td>high</td>\n",
       "      <td>so-so</td>\n",
       "      <td>both accounts are new</td>\n",
       "      <td>Joined both platform 4 days ago, no activity</td>\n",
       "    </tr>\n",
       "  </tbody>\n",
       "</table>\n",
       "</div>"
      ],
      "text/plain": [
       "         Handles Is Sybil_jammie Is Sybil_zerb Confidence_jammie  \\\n",
       "0      drbalikci               T             T              high   \n",
       "1     jsartorius               F             F               low   \n",
       "2  whateverright               T             T              high   \n",
       "\n",
       "  Confidence_zerb                                      Notes_jammie  \\\n",
       "0           so-so                             both accounts are new   \n",
       "1           so-so  info from github looks origianl but new gitcoin    \n",
       "2           so-so                             both accounts are new   \n",
       "\n",
       "                                          Notes_zerb  \n",
       "0                                        No activity  \n",
       "1  Low activity on github, but has some contribut...  \n",
       "2       Joined both platform 4 days ago, no activity  "
      ]
     },
     "execution_count": 456,
     "metadata": {},
     "output_type": "execute_result"
    }
   ],
   "source": [
    "## Zerb and Jammie\n",
    "zerb_jammie = create_table(zerb, jammie, all_data)\n",
    "zerb_jammie"
   ]
  },
  {
   "cell_type": "code",
   "execution_count": 457,
   "id": "ab6cb6bd",
   "metadata": {},
   "outputs": [
    {
     "name": "stdout",
     "output_type": "stream",
     "text": [
      "First reviewer's name: zerb\n",
      "Second reviewer's name: jammie\n",
      "The cohen_kappa_score for zerb and jammie is: 1.0\n"
     ]
    }
   ],
   "source": [
    "calculate_cohen(zerb_jammie)"
   ]
  },
  {
   "cell_type": "markdown",
   "id": "eb553389",
   "metadata": {},
   "source": [
    "The cohen kappa score between Zerb and Jammie is 1.0 because they agreed all the three times."
   ]
  },
  {
   "cell_type": "code",
   "execution_count": 623,
   "id": "327bb4c8",
   "metadata": {},
   "outputs": [
    {
     "name": "stdout",
     "output_type": "stream",
     "text": [
      "First reviewer's name: zerb\n",
      "Second reviewer's name: pavel\n"
     ]
    }
   ],
   "source": [
    "new_zerb_pavel = create_kappa_table(zerb_pavel)\n",
    "new_zerb_pavel.to_csv(\"./zerb_pavel.csv\")"
   ]
  },
  {
   "cell_type": "code",
   "execution_count": 458,
   "id": "76117958",
   "metadata": {},
   "outputs": [
    {
     "name": "stdout",
     "output_type": "stream",
     "text": [
      "First reviwer's name: zerb\n",
      "Second reviwer's name: walter\n"
     ]
    },
    {
     "data": {
      "text/html": [
       "<div>\n",
       "<style scoped>\n",
       "    .dataframe tbody tr th:only-of-type {\n",
       "        vertical-align: middle;\n",
       "    }\n",
       "\n",
       "    .dataframe tbody tr th {\n",
       "        vertical-align: top;\n",
       "    }\n",
       "\n",
       "    .dataframe thead th {\n",
       "        text-align: right;\n",
       "    }\n",
       "</style>\n",
       "<table border=\"1\" class=\"dataframe\">\n",
       "  <thead>\n",
       "    <tr style=\"text-align: right;\">\n",
       "      <th></th>\n",
       "      <th>Handles</th>\n",
       "      <th>Is Sybil_walter</th>\n",
       "      <th>Is Sybil_zerb</th>\n",
       "      <th>Confidence_walter</th>\n",
       "      <th>Confidence_zerb</th>\n",
       "      <th>Notes_walter</th>\n",
       "      <th>Notes_zerb</th>\n",
       "    </tr>\n",
       "  </thead>\n",
       "  <tbody>\n",
       "    <tr>\n",
       "      <th>0</th>\n",
       "      <td>weiyeyan</td>\n",
       "      <td>NaN</td>\n",
       "      <td>F</td>\n",
       "      <td>NaN</td>\n",
       "      <td>low</td>\n",
       "      <td>NaN</td>\n",
       "      <td>SImilar donation pattern</td>\n",
       "    </tr>\n",
       "    <tr>\n",
       "      <th>1</th>\n",
       "      <td>zcfrank1st</td>\n",
       "      <td>NaN</td>\n",
       "      <td>F</td>\n",
       "      <td>NaN</td>\n",
       "      <td>High</td>\n",
       "      <td>NaN</td>\n",
       "      <td>Old github user, a lot of repos</td>\n",
       "    </tr>\n",
       "    <tr>\n",
       "      <th>2</th>\n",
       "      <td>zeptimus</td>\n",
       "      <td>NaN</td>\n",
       "      <td>F</td>\n",
       "      <td>NaN</td>\n",
       "      <td>High</td>\n",
       "      <td>NaN</td>\n",
       "      <td>A lot of github activity and member of the TEC</td>\n",
       "    </tr>\n",
       "  </tbody>\n",
       "</table>\n",
       "</div>"
      ],
      "text/plain": [
       "      Handles Is Sybil_walter Is Sybil_zerb Confidence_walter Confidence_zerb  \\\n",
       "0    weiyeyan             NaN             F               NaN             low   \n",
       "1  zcfrank1st             NaN             F               NaN            High   \n",
       "2    zeptimus             NaN             F               NaN            High   \n",
       "\n",
       "  Notes_walter                                      Notes_zerb  \n",
       "0          NaN                        SImilar donation pattern  \n",
       "1          NaN                 Old github user, a lot of repos  \n",
       "2          NaN  A lot of github activity and member of the TEC  "
      ]
     },
     "execution_count": 458,
     "metadata": {},
     "output_type": "execute_result"
    }
   ],
   "source": [
    "## Zerb and Walter\n",
    "zerb_walter = create_table(zerb, walter, all_data)\n",
    "zerb_walter"
   ]
  },
  {
   "cell_type": "code",
   "execution_count": 461,
   "id": "42242f52",
   "metadata": {},
   "outputs": [
    {
     "data": {
      "image/png": "[encoded data removed]",
      "text/plain": [
       "<Figure size 432x288 with 1 Axes>"
      ]
     },
     "metadata": {
      "needs_background": "light"
     },
     "output_type": "display_data"
    }
   ],
   "source": [
    "plt.title(\"A correlation of Zerb and other reviewers by Cohen-kappa\")\n",
    "plt.bar([\"Am\", \"Pavel\", \"Jammie\"], [0.118, 0.0, 0.1])\n",
    "plt.grid()\n",
    "plt.show()"
   ]
  },
  {
   "cell_type": "markdown",
   "id": "467bc175",
   "metadata": {},
   "source": [
    "## BFA Correlation with other reviewers"
   ]
  },
  {
   "cell_type": "code",
   "execution_count": 462,
   "id": "275184b4",
   "metadata": {},
   "outputs": [
    {
     "name": "stdout",
     "output_type": "stream",
     "text": [
      "First reviwer's name: bfa\n",
      "Second reviwer's name: fizzy\n"
     ]
    },
    {
     "data": {
      "text/html": [
       "<div>\n",
       "<style scoped>\n",
       "    .dataframe tbody tr th:only-of-type {\n",
       "        vertical-align: middle;\n",
       "    }\n",
       "\n",
       "    .dataframe tbody tr th {\n",
       "        vertical-align: top;\n",
       "    }\n",
       "\n",
       "    .dataframe thead th {\n",
       "        text-align: right;\n",
       "    }\n",
       "</style>\n",
       "<table border=\"1\" class=\"dataframe\">\n",
       "  <thead>\n",
       "    <tr style=\"text-align: right;\">\n",
       "      <th></th>\n",
       "      <th>Handles</th>\n",
       "      <th>Is Sybil_fizzy</th>\n",
       "      <th>Is Sybil_bfa</th>\n",
       "      <th>Confidence_fizzy</th>\n",
       "      <th>Confidence_bfa</th>\n",
       "      <th>Notes_fizzy</th>\n",
       "      <th>Notes_bfa</th>\n",
       "    </tr>\n",
       "  </thead>\n",
       "  <tbody>\n",
       "    <tr>\n",
       "      <th>0</th>\n",
       "      <td>dotwing</td>\n",
       "      <td>F</td>\n",
       "      <td>F</td>\n",
       "      <td>high</td>\n",
       "      <td>so-so</td>\n",
       "      <td>actively contributing to grants in the past ye...</td>\n",
       "      <td>Joined G/H with no history and Gitcoin in Nov ...</td>\n",
       "    </tr>\n",
       "    <tr>\n",
       "      <th>1</th>\n",
       "      <td>guldara</td>\n",
       "      <td>F</td>\n",
       "      <td>F</td>\n",
       "      <td>high</td>\n",
       "      <td>low</td>\n",
       "      <td>active gitcoin user donating to several grants</td>\n",
       "      <td>Github account created in Sept 19, 2020 with n...</td>\n",
       "    </tr>\n",
       "    <tr>\n",
       "      <th>2</th>\n",
       "      <td>kimberlypadilla</td>\n",
       "      <td>T</td>\n",
       "      <td>T</td>\n",
       "      <td>high</td>\n",
       "      <td>so-so</td>\n",
       "      <td>$1 contributions to 2-5 projects; suspicious g...</td>\n",
       "      <td>Med activities both on g/h and gitcoin</td>\n",
       "    </tr>\n",
       "    <tr>\n",
       "      <th>3</th>\n",
       "      <td>yu114498755</td>\n",
       "      <td>F</td>\n",
       "      <td>F</td>\n",
       "      <td>high</td>\n",
       "      <td>so-so</td>\n",
       "      <td>new gitcoin; new github with no activity; bunc...</td>\n",
       "      <td>No g/h history. Donated scantly to about 23 gr...</td>\n",
       "    </tr>\n",
       "  </tbody>\n",
       "</table>\n",
       "</div>"
      ],
      "text/plain": [
       "           Handles Is Sybil_fizzy Is Sybil_bfa Confidence_fizzy  \\\n",
       "0          dotwing              F            F             high   \n",
       "1          guldara              F            F             high   \n",
       "2  kimberlypadilla              T            T             high   \n",
       "3      yu114498755              F            F             high   \n",
       "\n",
       "  Confidence_bfa                                        Notes_fizzy  \\\n",
       "0          so-so  actively contributing to grants in the past ye...   \n",
       "1            low     active gitcoin user donating to several grants   \n",
       "2          so-so  $1 contributions to 2-5 projects; suspicious g...   \n",
       "3          so-so  new gitcoin; new github with no activity; bunc...   \n",
       "\n",
       "                                           Notes_bfa  \n",
       "0  Joined G/H with no history and Gitcoin in Nov ...  \n",
       "1  Github account created in Sept 19, 2020 with n...  \n",
       "2             Med activities both on g/h and gitcoin  \n",
       "3  No g/h history. Donated scantly to about 23 gr...  "
      ]
     },
     "execution_count": 462,
     "metadata": {},
     "output_type": "execute_result"
    }
   ],
   "source": [
    "## Bfa and fizzy\n",
    "bfa_fizzy = create_table(bfa, fizzy, all_data)\n",
    "bfa_fizzy"
   ]
  },
  {
   "cell_type": "code",
   "execution_count": 463,
   "id": "7267a6a9",
   "metadata": {},
   "outputs": [
    {
     "name": "stdout",
     "output_type": "stream",
     "text": [
      "First reviewer's name: bfa\n",
      "Second reviewer's name: fizzy\n",
      "The cohen_kappa_score for bfa and fizzy is: 1.0\n"
     ]
    }
   ],
   "source": [
    "calculate_cohen(bfa_fizzy)"
   ]
  },
  {
   "cell_type": "markdown",
   "id": "f5b25209",
   "metadata": {},
   "source": [
    "The Cohen kappa score of BFA and Fizzy is 1.0, because they agree all the times they reviewed the same handle."
   ]
  },
  {
   "cell_type": "code",
   "execution_count": 624,
   "id": "e3b69e66",
   "metadata": {},
   "outputs": [
    {
     "name": "stdout",
     "output_type": "stream",
     "text": [
      "First reviewer's name: bfa\n",
      "Second reviewer's name: fizzy\n"
     ]
    }
   ],
   "source": [
    "new_bfa_fizzy = create_kappa_table(bfa_fizzy)\n",
    "new_bfa_fizzy.to_csv(\"./bfa_fizzy.csv\")"
   ]
  },
  {
   "cell_type": "code",
   "execution_count": 464,
   "id": "ed4e8916",
   "metadata": {},
   "outputs": [
    {
     "name": "stdout",
     "output_type": "stream",
     "text": [
      "First reviwer's name: bfa\n",
      "Second reviwer's name: sid\n"
     ]
    },
    {
     "data": {
      "text/html": [
       "<div>\n",
       "<style scoped>\n",
       "    .dataframe tbody tr th:only-of-type {\n",
       "        vertical-align: middle;\n",
       "    }\n",
       "\n",
       "    .dataframe tbody tr th {\n",
       "        vertical-align: top;\n",
       "    }\n",
       "\n",
       "    .dataframe thead th {\n",
       "        text-align: right;\n",
       "    }\n",
       "</style>\n",
       "<table border=\"1\" class=\"dataframe\">\n",
       "  <thead>\n",
       "    <tr style=\"text-align: right;\">\n",
       "      <th></th>\n",
       "      <th>Handles</th>\n",
       "      <th>Is Sybil_sid</th>\n",
       "      <th>Is Sybil_bfa</th>\n",
       "      <th>Confidence_sid</th>\n",
       "      <th>Confidence_bfa</th>\n",
       "      <th>Notes_sid</th>\n",
       "      <th>Notes_bfa</th>\n",
       "    </tr>\n",
       "  </thead>\n",
       "  <tbody>\n",
       "    <tr>\n",
       "      <th>0</th>\n",
       "      <td>colinhzn</td>\n",
       "      <td>F</td>\n",
       "      <td>T</td>\n",
       "      <td>so-so</td>\n",
       "      <td>high</td>\n",
       "      <td>Has contributed to a few grants, active twitter</td>\n",
       "      <td>Joined g/h with no activities and gitcoin Sept...</td>\n",
       "    </tr>\n",
       "    <tr>\n",
       "      <th>1</th>\n",
       "      <td>hoavantruong</td>\n",
       "      <td>T</td>\n",
       "      <td>F</td>\n",
       "      <td>so-so</td>\n",
       "      <td>so-so</td>\n",
       "      <td>Funded to a lot of legit projects but sybil vibes</td>\n",
       "      <td>With notable activies on the gitcoin account b...</td>\n",
       "    </tr>\n",
       "    <tr>\n",
       "      <th>2</th>\n",
       "      <td>whoisivan</td>\n",
       "      <td>T</td>\n",
       "      <td>F</td>\n",
       "      <td>so-so</td>\n",
       "      <td>so-so</td>\n",
       "      <td>Funding only recently, inactive on github</td>\n",
       "      <td>Low activites on gitcoin with no acitivies on ...</td>\n",
       "    </tr>\n",
       "  </tbody>\n",
       "</table>\n",
       "</div>"
      ],
      "text/plain": [
       "        Handles Is Sybil_sid Is Sybil_bfa Confidence_sid Confidence_bfa  \\\n",
       "0      colinhzn            F            T          so-so           high   \n",
       "1  hoavantruong            T            F          so-so          so-so   \n",
       "2     whoisivan            T            F          so-so          so-so   \n",
       "\n",
       "                                           Notes_sid  \\\n",
       "0    Has contributed to a few grants, active twitter   \n",
       "1  Funded to a lot of legit projects but sybil vibes   \n",
       "2          Funding only recently, inactive on github   \n",
       "\n",
       "                                           Notes_bfa  \n",
       "0  Joined g/h with no activities and gitcoin Sept...  \n",
       "1  With notable activies on the gitcoin account b...  \n",
       "2  Low activites on gitcoin with no acitivies on ...  "
      ]
     },
     "execution_count": 464,
     "metadata": {},
     "output_type": "execute_result"
    }
   ],
   "source": [
    "## Bfa and Sid\n",
    "bfa_sid = create_table(bfa, sid, all_data)\n",
    "bfa_sid"
   ]
  },
  {
   "cell_type": "code",
   "execution_count": 465,
   "id": "91dd3323",
   "metadata": {},
   "outputs": [
    {
     "name": "stdout",
     "output_type": "stream",
     "text": [
      "First reviewer's name: bfa\n",
      "Second reviewer's name: sid\n",
      "The cohen_kappa_score for bfa and sid is: -0.8000000000000003\n"
     ]
    }
   ],
   "source": [
    "calculate_cohen(bfa_sid)"
   ]
  },
  {
   "cell_type": "markdown",
   "id": "4790beb4",
   "metadata": {},
   "source": [
    "The cohen_kappa_score for bfa and sid is: -0.800. Due to their lack of agreement."
   ]
  },
  {
   "cell_type": "code",
   "execution_count": 625,
   "id": "5b4465ee",
   "metadata": {},
   "outputs": [
    {
     "name": "stdout",
     "output_type": "stream",
     "text": [
      "First reviewer's name: bfa\n",
      "Second reviewer's name: sid\n"
     ]
    }
   ],
   "source": [
    "new_bfa_sid = create_kappa_table(bfa_sid)\n",
    "new_bfa_sid.to_csv(\"./bfa_sid.csv\")"
   ]
  },
  {
   "cell_type": "code",
   "execution_count": 466,
   "id": "fc6f2f8c",
   "metadata": {},
   "outputs": [
    {
     "name": "stdout",
     "output_type": "stream",
     "text": [
      "First reviwer's name: bfa\n",
      "Second reviwer's name: am\n"
     ]
    },
    {
     "data": {
      "text/html": [
       "<div>\n",
       "<style scoped>\n",
       "    .dataframe tbody tr th:only-of-type {\n",
       "        vertical-align: middle;\n",
       "    }\n",
       "\n",
       "    .dataframe tbody tr th {\n",
       "        vertical-align: top;\n",
       "    }\n",
       "\n",
       "    .dataframe thead th {\n",
       "        text-align: right;\n",
       "    }\n",
       "</style>\n",
       "<table border=\"1\" class=\"dataframe\">\n",
       "  <thead>\n",
       "    <tr style=\"text-align: right;\">\n",
       "      <th></th>\n",
       "      <th>Handles</th>\n",
       "      <th>Is Sybil_am</th>\n",
       "      <th>Is Sybil_bfa</th>\n",
       "      <th>Confidence_am</th>\n",
       "      <th>Confidence_bfa</th>\n",
       "      <th>Notes_am</th>\n",
       "      <th>Notes_bfa</th>\n",
       "    </tr>\n",
       "  </thead>\n",
       "  <tbody>\n",
       "    <tr>\n",
       "      <th>0</th>\n",
       "      <td>alexdavidkim</td>\n",
       "      <td>F</td>\n",
       "      <td>T</td>\n",
       "      <td>so-so</td>\n",
       "      <td>so-so</td>\n",
       "      <td>new account, just two small grants funded</td>\n",
       "      <td>G/h created in May 2020 with few contributions...</td>\n",
       "    </tr>\n",
       "    <tr>\n",
       "      <th>1</th>\n",
       "      <td>gaojianclare</td>\n",
       "      <td>T</td>\n",
       "      <td>F</td>\n",
       "      <td>high</td>\n",
       "      <td>so-so</td>\n",
       "      <td>Contributes 2 DAI to dozens of grants, all act...</td>\n",
       "      <td>G/H account was created  Sept 2021 with no his...</td>\n",
       "    </tr>\n",
       "    <tr>\n",
       "      <th>2</th>\n",
       "      <td>heheqqww</td>\n",
       "      <td>T</td>\n",
       "      <td>F</td>\n",
       "      <td>low</td>\n",
       "      <td>so-so</td>\n",
       "      <td>small amounts to multiple accounts. No external</td>\n",
       "      <td>Med activities both on g/h and gitcoin</td>\n",
       "    </tr>\n",
       "  </tbody>\n",
       "</table>\n",
       "</div>"
      ],
      "text/plain": [
       "        Handles Is Sybil_am Is Sybil_bfa Confidence_am Confidence_bfa  \\\n",
       "0  alexdavidkim           F            T         so-so          so-so   \n",
       "1  gaojianclare           T            F          high          so-so   \n",
       "2      heheqqww           T            F           low          so-so   \n",
       "\n",
       "                                            Notes_am  \\\n",
       "0          new account, just two small grants funded   \n",
       "1  Contributes 2 DAI to dozens of grants, all act...   \n",
       "2   small amounts to multiple accounts. No external    \n",
       "\n",
       "                                           Notes_bfa  \n",
       "0  G/h created in May 2020 with few contributions...  \n",
       "1  G/H account was created  Sept 2021 with no his...  \n",
       "2             Med activities both on g/h and gitcoin  "
      ]
     },
     "execution_count": 466,
     "metadata": {},
     "output_type": "execute_result"
    }
   ],
   "source": [
    "## Bfa and Am\n",
    "bfa_am = create_table(bfa, am, all_data)\n",
    "bfa_am"
   ]
  },
  {
   "cell_type": "code",
   "execution_count": 467,
   "id": "fb16dd30",
   "metadata": {},
   "outputs": [
    {
     "name": "stdout",
     "output_type": "stream",
     "text": [
      "First reviewer's name: bfa\n",
      "Second reviewer's name: am\n",
      "The cohen_kappa_score for bfa and am is: -0.8000000000000003\n"
     ]
    }
   ],
   "source": [
    "calculate_cohen(bfa_am)"
   ]
  },
  {
   "cell_type": "markdown",
   "id": "7be9f77b",
   "metadata": {},
   "source": [
    "The cohen_kappa_score for BFA and Am is: -0.800. Due to their lack of agreement."
   ]
  },
  {
   "cell_type": "code",
   "execution_count": 626,
   "id": "d4e53145",
   "metadata": {
    "collapsed": true
   },
   "outputs": [
    {
     "name": "stdout",
     "output_type": "stream",
     "text": [
      "First reviewer's name: bfa\n",
      "Second reviewer's name: am\n"
     ]
    }
   ],
   "source": [
    "new_bfa_am = create_kappa_table(bfa_am)\n",
    "new_bfa_am.to_csv(\"./bfa_am.csv\")"
   ]
  },
  {
   "cell_type": "code",
   "execution_count": 469,
   "id": "fa3f9c07",
   "metadata": {},
   "outputs": [
    {
     "data": {
      "image/png": "[encoded data removed]",
      "text/plain": [
       "<Figure size 432x288 with 1 Axes>"
      ]
     },
     "metadata": {
      "needs_background": "light"
     },
     "output_type": "display_data"
    }
   ],
   "source": [
    "plt.title(\"A correlation of BFA and other reviewers by Cohen-kappa\")\n",
    "plt.bar([\"Fizzy\", \"Sid\", \"Am\", ], [1.0, -0.8, -0.8])\n",
    "plt.grid()\n",
    "plt.show()"
   ]
  },
  {
   "cell_type": "markdown",
   "id": "2bd1f64c",
   "metadata": {},
   "source": [
    "## PASCAL"
   ]
  },
  {
   "cell_type": "code",
   "execution_count": 501,
   "id": "3f1f268c",
   "metadata": {},
   "outputs": [
    {
     "name": "stdout",
     "output_type": "stream",
     "text": [
      "First reviwer's name: pascal\n",
      "Second reviwer's name: sid\n",
      "First reviewer's name: pascal\n",
      "Second reviewer's name: sid\n",
      "The cohen_kappa_score for pascal and sid is: -0.125\n"
     ]
    }
   ],
   "source": [
    "pascal_sid = create_table(pascal, sid, all_data)\n",
    "calculate_cohen(pascal_sid)"
   ]
  },
  {
   "cell_type": "code",
   "execution_count": 8,
   "id": "fdae37a1",
   "metadata": {},
   "outputs": [
    {
     "data": {
      "image/png": "[encoded data removed]",
      "text/plain": [
       "<Figure size 432x288 with 1 Axes>"
      ]
     },
     "metadata": {
      "needs_background": "light"
     },
     "output_type": "display_data"
    }
   ],
   "source": [
    "plt.title(\"A correlation of BFA and other reviewers by Cohen-kappa\")\n",
    "plt.bar([\"sid\"], [-0.125])\n",
    "plt.grid()\n",
    "plt.show()"
   ]
  },
  {
   "cell_type": "code",
   "execution_count": 503,
   "id": "3d24e7ed",
   "metadata": {},
   "outputs": [
    {
     "name": "stdout",
     "output_type": "stream",
     "text": [
      "First reviwer's name: pascal\n",
      "Second reviwer's name: fizzy\n"
     ]
    },
    {
     "data": {
      "text/html": [
       "<div>\n",
       "<style scoped>\n",
       "    .dataframe tbody tr th:only-of-type {\n",
       "        vertical-align: middle;\n",
       "    }\n",
       "\n",
       "    .dataframe tbody tr th {\n",
       "        vertical-align: top;\n",
       "    }\n",
       "\n",
       "    .dataframe thead th {\n",
       "        text-align: right;\n",
       "    }\n",
       "</style>\n",
       "<table border=\"1\" class=\"dataframe\">\n",
       "  <thead>\n",
       "    <tr style=\"text-align: right;\">\n",
       "      <th></th>\n",
       "      <th>Handles</th>\n",
       "      <th>Is Sybil_fizzy</th>\n",
       "      <th>Is Sybil_pascal</th>\n",
       "      <th>Confidence_fizzy</th>\n",
       "      <th>Confidence_pascal</th>\n",
       "      <th>Notes_fizzy</th>\n",
       "      <th>Notes_pascal</th>\n",
       "    </tr>\n",
       "  </thead>\n",
       "  <tbody>\n",
       "    <tr>\n",
       "      <th>0</th>\n",
       "      <td>fanffu</td>\n",
       "      <td>F</td>\n",
       "      <td>NaN</td>\n",
       "      <td>high</td>\n",
       "      <td>NaN</td>\n",
       "      <td>$5 contributions to over a dozen grants</td>\n",
       "      <td>NaN</td>\n",
       "    </tr>\n",
       "    <tr>\n",
       "      <th>1</th>\n",
       "      <td>njskyzz</td>\n",
       "      <td>F</td>\n",
       "      <td>NaN</td>\n",
       "      <td>high</td>\n",
       "      <td>NaN</td>\n",
       "      <td>actively contributing gitcoin user; low github...</td>\n",
       "      <td>NaN</td>\n",
       "    </tr>\n",
       "    <tr>\n",
       "      <th>2</th>\n",
       "      <td>robocups</td>\n",
       "      <td>T</td>\n",
       "      <td>NaN</td>\n",
       "      <td>high</td>\n",
       "      <td>NaN</td>\n",
       "      <td>$2 contributed to 2/3 grants</td>\n",
       "      <td>NaN</td>\n",
       "    </tr>\n",
       "  </tbody>\n",
       "</table>\n",
       "</div>"
      ],
      "text/plain": [
       "    Handles Is Sybil_fizzy Is Sybil_pascal Confidence_fizzy Confidence_pascal  \\\n",
       "0    fanffu              F             NaN             high               NaN   \n",
       "1   njskyzz              F             NaN             high               NaN   \n",
       "2  robocups              T             NaN             high               NaN   \n",
       "\n",
       "                                         Notes_fizzy Notes_pascal  \n",
       "0            $5 contributions to over a dozen grants          NaN  \n",
       "1  actively contributing gitcoin user; low github...          NaN  \n",
       "2                       $2 contributed to 2/3 grants          NaN  "
      ]
     },
     "execution_count": 503,
     "metadata": {},
     "output_type": "execute_result"
    }
   ],
   "source": [
    "pascal_fizzy = create_table(pascal, fizzy, all_data)\n",
    "pascal_fizzy"
   ]
  },
  {
   "cell_type": "code",
   "execution_count": 505,
   "id": "0fcce3ec",
   "metadata": {},
   "outputs": [
    {
     "name": "stdout",
     "output_type": "stream",
     "text": [
      "First reviwer's name: pascal\n",
      "Second reviwer's name: emmanuel\n"
     ]
    },
    {
     "data": {
      "text/html": [
       "<div>\n",
       "<style scoped>\n",
       "    .dataframe tbody tr th:only-of-type {\n",
       "        vertical-align: middle;\n",
       "    }\n",
       "\n",
       "    .dataframe tbody tr th {\n",
       "        vertical-align: top;\n",
       "    }\n",
       "\n",
       "    .dataframe thead th {\n",
       "        text-align: right;\n",
       "    }\n",
       "</style>\n",
       "<table border=\"1\" class=\"dataframe\">\n",
       "  <thead>\n",
       "    <tr style=\"text-align: right;\">\n",
       "      <th></th>\n",
       "      <th>Handles</th>\n",
       "      <th>Is Sybil_emmanuel</th>\n",
       "      <th>Is Sybil_pascal</th>\n",
       "      <th>Confidence_emmanuel</th>\n",
       "      <th>Confidence_pascal</th>\n",
       "      <th>Notes_emmanuel</th>\n",
       "      <th>Notes_pascal</th>\n",
       "    </tr>\n",
       "  </thead>\n",
       "  <tbody>\n",
       "    <tr>\n",
       "      <th>0</th>\n",
       "      <td>fanffu</td>\n",
       "      <td>F</td>\n",
       "      <td>NaN</td>\n",
       "      <td>so-so</td>\n",
       "      <td>NaN</td>\n",
       "      <td>Github is quite new, however gitcoin has some ...</td>\n",
       "      <td>NaN</td>\n",
       "    </tr>\n",
       "    <tr>\n",
       "      <th>1</th>\n",
       "      <td>jaxo4life</td>\n",
       "      <td>F</td>\n",
       "      <td>NaN</td>\n",
       "      <td>so-so</td>\n",
       "      <td>NaN</td>\n",
       "      <td>Little activities on github, but some activiti...</td>\n",
       "      <td>NaN</td>\n",
       "    </tr>\n",
       "    <tr>\n",
       "      <th>2</th>\n",
       "      <td>jupiterr-chen</td>\n",
       "      <td>F</td>\n",
       "      <td>NaN</td>\n",
       "      <td>so-so</td>\n",
       "      <td>NaN</td>\n",
       "      <td>Github account is quite old with some activity...</td>\n",
       "      <td>NaN</td>\n",
       "    </tr>\n",
       "    <tr>\n",
       "      <th>3</th>\n",
       "      <td>myxiao7</td>\n",
       "      <td>F</td>\n",
       "      <td>NaN</td>\n",
       "      <td>low</td>\n",
       "      <td>NaN</td>\n",
       "      <td>Though github account is quite old with some a...</td>\n",
       "      <td>NaN</td>\n",
       "    </tr>\n",
       "  </tbody>\n",
       "</table>\n",
       "</div>"
      ],
      "text/plain": [
       "         Handles Is Sybil_emmanuel Is Sybil_pascal Confidence_emmanuel  \\\n",
       "0         fanffu                 F             NaN               so-so   \n",
       "1      jaxo4life                 F             NaN               so-so   \n",
       "2  jupiterr-chen                 F             NaN               so-so   \n",
       "3        myxiao7                 F             NaN                 low   \n",
       "\n",
       "  Confidence_pascal                                     Notes_emmanuel  \\\n",
       "0               NaN  Github is quite new, however gitcoin has some ...   \n",
       "1               NaN  Little activities on github, but some activiti...   \n",
       "2               NaN  Github account is quite old with some activity...   \n",
       "3               NaN  Though github account is quite old with some a...   \n",
       "\n",
       "  Notes_pascal  \n",
       "0          NaN  \n",
       "1          NaN  \n",
       "2          NaN  \n",
       "3          NaN  "
      ]
     },
     "execution_count": 505,
     "metadata": {},
     "output_type": "execute_result"
    }
   ],
   "source": [
    "pascal_emmanuel = create_table(pascal, emmanuel, all_data)\n",
    "pascal_emmanuel"
   ]
  },
  {
   "cell_type": "markdown",
   "id": "c8fce80c",
   "metadata": {},
   "source": [
    "## PAVEL"
   ]
  },
  {
   "cell_type": "code",
   "execution_count": 507,
   "id": "a9d401cc",
   "metadata": {},
   "outputs": [
    {
     "name": "stdout",
     "output_type": "stream",
     "text": [
      "First reviwer's name: pavel\n",
      "Second reviwer's name: dries\n",
      "First reviewer's name: pavel\n",
      "Second reviewer's name: dries\n",
      "The cohen_kappa_score for pavel and dries is: 0.0\n"
     ]
    }
   ],
   "source": [
    "pavel_dries = create_table(pavel, dries, all_data)\n",
    "calculate_cohen(pavel_dries)"
   ]
  },
  {
   "cell_type": "code",
   "execution_count": 670,
   "id": "76f0ac76",
   "metadata": {},
   "outputs": [
    {
     "data": {
      "text/html": [
       "<div>\n",
       "<style scoped>\n",
       "    .dataframe tbody tr th:only-of-type {\n",
       "        vertical-align: middle;\n",
       "    }\n",
       "\n",
       "    .dataframe tbody tr th {\n",
       "        vertical-align: top;\n",
       "    }\n",
       "\n",
       "    .dataframe thead th {\n",
       "        text-align: right;\n",
       "    }\n",
       "</style>\n",
       "<table border=\"1\" class=\"dataframe\">\n",
       "  <thead>\n",
       "    <tr style=\"text-align: right;\">\n",
       "      <th></th>\n",
       "      <th>Handles</th>\n",
       "      <th>Is Sybil_dries</th>\n",
       "      <th>Is Sybil_pavel</th>\n",
       "      <th>Confidence_dries</th>\n",
       "      <th>Confidence_pavel</th>\n",
       "      <th>Notes_dries</th>\n",
       "      <th>Notes_pavel</th>\n",
       "    </tr>\n",
       "  </thead>\n",
       "  <tbody>\n",
       "    <tr>\n",
       "      <th>0</th>\n",
       "      <td>celir</td>\n",
       "      <td>F</td>\n",
       "      <td>F</td>\n",
       "      <td>High</td>\n",
       "      <td>so-so</td>\n",
       "      <td>High GitHub activity over several years.</td>\n",
       "      <td>good amount of contr</td>\n",
       "    </tr>\n",
       "    <tr>\n",
       "      <th>1</th>\n",
       "      <td>doublelou</td>\n",
       "      <td>F</td>\n",
       "      <td>F</td>\n",
       "      <td>Low</td>\n",
       "      <td>so-so</td>\n",
       "      <td>GitHub account has no activities and contribution to many grants with a low amount</td>\n",
       "      <td>gtc history</td>\n",
       "    </tr>\n",
       "    <tr>\n",
       "      <th>2</th>\n",
       "      <td>jcarvajalmunera</td>\n",
       "      <td>T</td>\n",
       "      <td>F</td>\n",
       "      <td>so-so</td>\n",
       "      <td>low</td>\n",
       "      <td>No activity on GitHub and low activity on Gitcoin.</td>\n",
       "      <td>newbie</td>\n",
       "    </tr>\n",
       "    <tr>\n",
       "      <th>3</th>\n",
       "      <td>mayxd</td>\n",
       "      <td>F</td>\n",
       "      <td>F</td>\n",
       "      <td>High</td>\n",
       "      <td>low</td>\n",
       "      <td>High GitHub activity over several years.</td>\n",
       "      <td>newbie</td>\n",
       "    </tr>\n",
       "  </tbody>\n",
       "</table>\n",
       "</div>"
      ],
      "text/plain": [
       "           Handles Is Sybil_dries Is Sybil_pavel Confidence_dries  \\\n",
       "0            celir              F              F             High   \n",
       "1        doublelou              F              F              Low   \n",
       "2  jcarvajalmunera              T              F            so-so   \n",
       "3            mayxd              F              F             High   \n",
       "\n",
       "  Confidence_pavel  \\\n",
       "0            so-so   \n",
       "1            so-so   \n",
       "2              low   \n",
       "3              low   \n",
       "\n",
       "                                                                          Notes_dries  \\\n",
       "0                                            High GitHub activity over several years.   \n",
       "1  GitHub account has no activities and contribution to many grants with a low amount   \n",
       "2                                 No activity on GitHub and low activity on Gitcoin.    \n",
       "3                                            High GitHub activity over several years.   \n",
       "\n",
       "            Notes_pavel  \n",
       "0  good amount of contr  \n",
       "1           gtc history  \n",
       "2                newbie  \n",
       "3                newbie  "
      ]
     },
     "execution_count": 670,
     "metadata": {},
     "output_type": "execute_result"
    }
   ],
   "source": [
    "pavel_dries"
   ]
  },
  {
   "cell_type": "markdown",
   "id": "ba9f0873",
   "metadata": {},
   "source": [
    "The cohen_kappa_score for pavel and dries is: 0.0, because they agreed two times of four."
   ]
  },
  {
   "cell_type": "code",
   "execution_count": 628,
   "id": "70e24a92",
   "metadata": {},
   "outputs": [
    {
     "name": "stdout",
     "output_type": "stream",
     "text": [
      "First reviewer's name: pavel\n",
      "Second reviewer's name: zerb\n"
     ]
    },
    {
     "data": {
      "text/html": [
       "<div>\n",
       "<style scoped>\n",
       "    .dataframe tbody tr th:only-of-type {\n",
       "        vertical-align: middle;\n",
       "    }\n",
       "\n",
       "    .dataframe tbody tr th {\n",
       "        vertical-align: top;\n",
       "    }\n",
       "\n",
       "    .dataframe thead th {\n",
       "        text-align: right;\n",
       "    }\n",
       "</style>\n",
       "<table border=\"1\" class=\"dataframe\">\n",
       "  <thead>\n",
       "    <tr style=\"text-align: right;\">\n",
       "      <th></th>\n",
       "      <th>Handles</th>\n",
       "      <th>Is Sybil_zerb</th>\n",
       "      <th>Is Sybil_pavel</th>\n",
       "      <th>Confidence_zerb</th>\n",
       "      <th>Confidence_pavel</th>\n",
       "      <th>Notes_zerb</th>\n",
       "      <th>Notes_pavel</th>\n",
       "      <th>Sybil_pavel</th>\n",
       "      <th>Sybil_zerb</th>\n",
       "    </tr>\n",
       "  </thead>\n",
       "  <tbody>\n",
       "    <tr>\n",
       "      <th>0</th>\n",
       "      <td>haihanzhang</td>\n",
       "      <td>T</td>\n",
       "      <td>F</td>\n",
       "      <td>High</td>\n",
       "      <td>low</td>\n",
       "      <td>Predictable donation pattern, joined Github 25...</td>\n",
       "      <td>newbie</td>\n",
       "      <td>0</td>\n",
       "      <td>1</td>\n",
       "    </tr>\n",
       "    <tr>\n",
       "      <th>1</th>\n",
       "      <td>karelnagel</td>\n",
       "      <td>F</td>\n",
       "      <td>F</td>\n",
       "      <td>High</td>\n",
       "      <td>low</td>\n",
       "      <td>A lot of contributions on Github</td>\n",
       "      <td>newbie</td>\n",
       "      <td>0</td>\n",
       "      <td>0</td>\n",
       "    </tr>\n",
       "    <tr>\n",
       "      <th>2</th>\n",
       "      <td>sorrowblood</td>\n",
       "      <td>T</td>\n",
       "      <td>F</td>\n",
       "      <td>so-so</td>\n",
       "      <td>low</td>\n",
       "      <td>Joined both platforms on 2 Dec, no activity</td>\n",
       "      <td>newbie</td>\n",
       "      <td>0</td>\n",
       "      <td>1</td>\n",
       "    </tr>\n",
       "    <tr>\n",
       "      <th>3</th>\n",
       "      <td>zeptimus</td>\n",
       "      <td>F</td>\n",
       "      <td>F</td>\n",
       "      <td>High</td>\n",
       "      <td>high</td>\n",
       "      <td>A lot of github activity and member of the TEC</td>\n",
       "      <td>good history</td>\n",
       "      <td>0</td>\n",
       "      <td>0</td>\n",
       "    </tr>\n",
       "  </tbody>\n",
       "</table>\n",
       "</div>"
      ],
      "text/plain": [
       "       Handles Is Sybil_zerb Is Sybil_pavel Confidence_zerb Confidence_pavel  \\\n",
       "0  haihanzhang             T              F            High              low   \n",
       "1   karelnagel             F              F            High              low   \n",
       "2  sorrowblood             T              F           so-so              low   \n",
       "3     zeptimus             F              F            High             high   \n",
       "\n",
       "                                          Notes_zerb   Notes_pavel  \\\n",
       "0  Predictable donation pattern, joined Github 25...        newbie   \n",
       "1                   A lot of contributions on Github        newbie   \n",
       "2        Joined both platforms on 2 Dec, no activity        newbie   \n",
       "3     A lot of github activity and member of the TEC  good history   \n",
       "\n",
       "  Sybil_pavel Sybil_zerb  \n",
       "0           0          1  \n",
       "1           0          0  \n",
       "2           0          1  \n",
       "3           0          0  "
      ]
     },
     "execution_count": 628,
     "metadata": {},
     "output_type": "execute_result"
    }
   ],
   "source": [
    "new_pavel_zerb = create_kappa_table(pavel_zerb)\n",
    "new_pavel_zerb"
   ]
  },
  {
   "cell_type": "code",
   "execution_count": 508,
   "id": "19c6965e",
   "metadata": {},
   "outputs": [
    {
     "name": "stdout",
     "output_type": "stream",
     "text": [
      "First reviwer's name: pavel\n",
      "Second reviwer's name: zerb\n",
      "First reviewer's name: pavel\n",
      "Second reviewer's name: zerb\n",
      "The cohen_kappa_score for pavel and zerb is: 0.0\n"
     ]
    }
   ],
   "source": [
    "pavel_zerb = create_table(pavel, zerb, all_data)\n",
    "calculate_cohen(pavel_zerb)"
   ]
  },
  {
   "cell_type": "markdown",
   "id": "897a2e71",
   "metadata": {},
   "source": [
    "The cohen_kappa_score for pavel and zerb is: 0.0, because they agree two times of four."
   ]
  },
  {
   "cell_type": "code",
   "execution_count": 509,
   "id": "ec745465",
   "metadata": {},
   "outputs": [
    {
     "name": "stdout",
     "output_type": "stream",
     "text": [
      "First reviwer's name: pavel\n",
      "Second reviwer's name: jammie\n",
      "First reviewer's name: pavel\n",
      "Second reviewer's name: jammie\n",
      "The cohen_kappa_score for pavel and jammie is: 0.0\n"
     ]
    }
   ],
   "source": [
    "pavel_jammie = create_table(pavel, jammie, all_data)\n",
    "calculate_cohen(pavel_jammie)"
   ]
  },
  {
   "cell_type": "code",
   "execution_count": 672,
   "id": "840afe72",
   "metadata": {},
   "outputs": [
    {
     "data": {
      "text/html": [
       "<div>\n",
       "<style scoped>\n",
       "    .dataframe tbody tr th:only-of-type {\n",
       "        vertical-align: middle;\n",
       "    }\n",
       "\n",
       "    .dataframe tbody tr th {\n",
       "        vertical-align: top;\n",
       "    }\n",
       "\n",
       "    .dataframe thead th {\n",
       "        text-align: right;\n",
       "    }\n",
       "</style>\n",
       "<table border=\"1\" class=\"dataframe\">\n",
       "  <thead>\n",
       "    <tr style=\"text-align: right;\">\n",
       "      <th></th>\n",
       "      <th>Handles</th>\n",
       "      <th>Is Sybil_jammie</th>\n",
       "      <th>Is Sybil_pavel</th>\n",
       "      <th>Confidence_jammie</th>\n",
       "      <th>Confidence_pavel</th>\n",
       "      <th>Notes_jammie</th>\n",
       "      <th>Notes_pavel</th>\n",
       "      <th>Sybil_pavel</th>\n",
       "      <th>Sybil_jammie</th>\n",
       "    </tr>\n",
       "  </thead>\n",
       "  <tbody>\n",
       "    <tr>\n",
       "      <th>0</th>\n",
       "      <td>birdmore</td>\n",
       "      <td>T</td>\n",
       "      <td>F</td>\n",
       "      <td>high</td>\n",
       "      <td>low</td>\n",
       "      <td>both accounts are new</td>\n",
       "      <td>very similar set of grants, potentially similar people or the same behaviour?</td>\n",
       "      <td>0</td>\n",
       "      <td>1</td>\n",
       "    </tr>\n",
       "    <tr>\n",
       "      <th>1</th>\n",
       "      <td>celir</td>\n",
       "      <td>F</td>\n",
       "      <td>F</td>\n",
       "      <td>low</td>\n",
       "      <td>so-so</td>\n",
       "      <td>a little activity on github but none on gitcoin</td>\n",
       "      <td>good amount of contr</td>\n",
       "      <td>0</td>\n",
       "      <td>0</td>\n",
       "    </tr>\n",
       "    <tr>\n",
       "      <th>2</th>\n",
       "      <td>descript</td>\n",
       "      <td>F</td>\n",
       "      <td>F</td>\n",
       "      <td>so-so</td>\n",
       "      <td>so-so</td>\n",
       "      <td>active on gitcoin with high funding but no activity on github</td>\n",
       "      <td>gtc hry</td>\n",
       "      <td>0</td>\n",
       "      <td>0</td>\n",
       "    </tr>\n",
       "    <tr>\n",
       "      <th>3</th>\n",
       "      <td>imgsu</td>\n",
       "      <td>F</td>\n",
       "      <td>F</td>\n",
       "      <td>so-so</td>\n",
       "      <td>high</td>\n",
       "      <td>good amount of funding on gitcoin with activity but new github</td>\n",
       "      <td>donations are to only well-known good actors. If they have little pool over time they are follow...</td>\n",
       "      <td>0</td>\n",
       "      <td>0</td>\n",
       "    </tr>\n",
       "    <tr>\n",
       "      <th>4</th>\n",
       "      <td>js139240221</td>\n",
       "      <td>T</td>\n",
       "      <td>F</td>\n",
       "      <td>so-so</td>\n",
       "      <td>so-so</td>\n",
       "      <td>very little activity on github and gitcoin</td>\n",
       "      <td>good history of grants</td>\n",
       "      <td>0</td>\n",
       "      <td>1</td>\n",
       "    </tr>\n",
       "    <tr>\n",
       "      <th>5</th>\n",
       "      <td>kares0x</td>\n",
       "      <td>T</td>\n",
       "      <td>F</td>\n",
       "      <td>low</td>\n",
       "      <td>low</td>\n",
       "      <td>very low activity on both gitcoin and github</td>\n",
       "      <td>newbie</td>\n",
       "      <td>0</td>\n",
       "      <td>1</td>\n",
       "    </tr>\n",
       "  </tbody>\n",
       "</table>\n",
       "</div>"
      ],
      "text/plain": [
       "       Handles Is Sybil_jammie Is Sybil_pavel Confidence_jammie  \\\n",
       "0     birdmore               T              F              high   \n",
       "1        celir               F              F               low   \n",
       "2     descript               F              F             so-so   \n",
       "3        imgsu               F              F             so-so   \n",
       "4  js139240221               T              F             so-so   \n",
       "5      kares0x               T              F               low   \n",
       "\n",
       "  Confidence_pavel  \\\n",
       "0              low   \n",
       "1            so-so   \n",
       "2            so-so   \n",
       "3             high   \n",
       "4            so-so   \n",
       "5              low   \n",
       "\n",
       "                                                     Notes_jammie  \\\n",
       "0                                           both accounts are new   \n",
       "1                 a little activity on github but none on gitcoin   \n",
       "2   active on gitcoin with high funding but no activity on github   \n",
       "3  good amount of funding on gitcoin with activity but new github   \n",
       "4                     very little activity on github and gitcoin    \n",
       "5                    very low activity on both gitcoin and github   \n",
       "\n",
       "                                                                                           Notes_pavel  \\\n",
       "0                        very similar set of grants, potentially similar people or the same behaviour?   \n",
       "1                                                                                 good amount of contr   \n",
       "2                                                                                              gtc hry   \n",
       "3  donations are to only well-known good actors. If they have little pool over time they are follow...   \n",
       "4                                                                               good history of grants   \n",
       "5                                                                                               newbie   \n",
       "\n",
       "  Sybil_pavel Sybil_jammie  \n",
       "0           0            1  \n",
       "1           0            0  \n",
       "2           0            0  \n",
       "3           0            0  \n",
       "4           0            1  \n",
       "5           0            1  "
      ]
     },
     "execution_count": 672,
     "metadata": {},
     "output_type": "execute_result"
    }
   ],
   "source": [
    "pavel_jammie"
   ]
  },
  {
   "cell_type": "markdown",
   "id": "8083ea41",
   "metadata": {},
   "source": [
    "The cohen_kappa_score for pavel and jammie is: 0.0, because they have the same number of agreement and disagreement."
   ]
  },
  {
   "cell_type": "code",
   "execution_count": 630,
   "id": "bb8afdf6",
   "metadata": {},
   "outputs": [
    {
     "name": "stdout",
     "output_type": "stream",
     "text": [
      "First reviewer's name: pavel\n",
      "Second reviewer's name: jammie\n"
     ]
    }
   ],
   "source": [
    "new_pavel_jammie = create_kappa_table(pavel_jammie)\n",
    "new_pavel_jammie.to_csv(\"./pavel_jammie.csv\")"
   ]
  },
  {
   "cell_type": "code",
   "execution_count": 627,
   "id": "9dbac3fc",
   "metadata": {
    "collapsed": true
   },
   "outputs": [
    {
     "name": "stdout",
     "output_type": "stream",
     "text": [
      "First reviwer's name: pavel\n",
      "Second reviwer's name: ann\n",
      "First reviewer's name: pavel\n",
      "Second reviewer's name: ann\n",
      "The cohen_kappa_score for pavel and ann is: nan\n"
     ]
    },
    {
     "name": "stderr",
     "output_type": "stream",
     "text": [
      "C:\\Users\\user\\AppData\\Roaming\\Python\\Python37\\site-packages\\sklearn\\metrics\\_classification.py:658: RuntimeWarning: invalid value encountered in true_divide\n",
      "  k = np.sum(w_mat * confusion) / np.sum(w_mat * expected)\n"
     ]
    }
   ],
   "source": [
    "pavel_ann = create_table(pavel, ann, all_data)\n",
    "calculate_cohen(pavel_ann)"
   ]
  },
  {
   "cell_type": "code",
   "execution_count": 631,
   "id": "fc9b74a3",
   "metadata": {
    "scrolled": true
   },
   "outputs": [
    {
     "name": "stdout",
     "output_type": "stream",
     "text": [
      "First reviewer's name: pavel\n",
      "Second reviewer's name: ann\n"
     ]
    }
   ],
   "source": [
    "new_pavel_ann = create_kappa_table(pavel_ann)\n",
    "new_pavel_ann.to_csv(\"./pavel_ann.csv\")"
   ]
  },
  {
   "cell_type": "code",
   "execution_count": 512,
   "id": "bebb2594",
   "metadata": {},
   "outputs": [
    {
     "name": "stdout",
     "output_type": "stream",
     "text": [
      "First reviwer's name: pavel\n",
      "Second reviwer's name: dogg\n",
      "First reviewer's name: pavel\n",
      "Second reviewer's name: dogg\n",
      "The cohen_kappa_score for pavel and dogg is: 0.0\n"
     ]
    }
   ],
   "source": [
    "pavel_dogg = create_table(pavel, dogg, all_data)\n",
    "calculate_cohen(pavel_dogg)"
   ]
  },
  {
   "cell_type": "markdown",
   "id": "e143d656",
   "metadata": {},
   "source": [
    "The cohen_kappa_score for pavel and dogg is: 0.0, because they have 3 disagreement and just one agreement."
   ]
  },
  {
   "cell_type": "code",
   "execution_count": 673,
   "id": "b10ccf31",
   "metadata": {},
   "outputs": [
    {
     "data": {
      "text/html": [
       "<div>\n",
       "<style scoped>\n",
       "    .dataframe tbody tr th:only-of-type {\n",
       "        vertical-align: middle;\n",
       "    }\n",
       "\n",
       "    .dataframe tbody tr th {\n",
       "        vertical-align: top;\n",
       "    }\n",
       "\n",
       "    .dataframe thead th {\n",
       "        text-align: right;\n",
       "    }\n",
       "</style>\n",
       "<table border=\"1\" class=\"dataframe\">\n",
       "  <thead>\n",
       "    <tr style=\"text-align: right;\">\n",
       "      <th></th>\n",
       "      <th>Handles</th>\n",
       "      <th>Is Sybil_dogg</th>\n",
       "      <th>Is Sybil_pavel</th>\n",
       "      <th>Confidence_dogg</th>\n",
       "      <th>Confidence_pavel</th>\n",
       "      <th>Notes_dogg</th>\n",
       "      <th>Notes_pavel</th>\n",
       "      <th>Sybil_pavel</th>\n",
       "      <th>Sybil_dogg</th>\n",
       "    </tr>\n",
       "  </thead>\n",
       "  <tbody>\n",
       "    <tr>\n",
       "      <th>0</th>\n",
       "      <td>andrev976</td>\n",
       "      <td>F</td>\n",
       "      <td>F</td>\n",
       "      <td>so-so</td>\n",
       "      <td>low</td>\n",
       "      <td>Joined Gitcoin in June 202 with medium activity and #2384 in the Funders leaderboard, GitHub acc...</td>\n",
       "      <td>newbie</td>\n",
       "      <td>0</td>\n",
       "      <td>0</td>\n",
       "    </tr>\n",
       "    <tr>\n",
       "      <th>1</th>\n",
       "      <td>jhtwtpi</td>\n",
       "      <td>F</td>\n",
       "      <td>T</td>\n",
       "      <td>low</td>\n",
       "      <td>high</td>\n",
       "      <td>Gitcoin account newly created, Joined GitHub in August 2016 with low contributions</td>\n",
       "      <td>no history+ contribution to potentially bad grant</td>\n",
       "      <td>1</td>\n",
       "      <td>0</td>\n",
       "    </tr>\n",
       "    <tr>\n",
       "      <th>2</th>\n",
       "      <td>kares0x</td>\n",
       "      <td>F</td>\n",
       "      <td>F</td>\n",
       "      <td>low</td>\n",
       "      <td>low</td>\n",
       "      <td>Joined Gitcoin in April 2021 with low activity on the account, GitHub account created in July 20...</td>\n",
       "      <td>newbie</td>\n",
       "      <td>0</td>\n",
       "      <td>0</td>\n",
       "    </tr>\n",
       "    <tr>\n",
       "      <th>3</th>\n",
       "      <td>kargakis</td>\n",
       "      <td>F</td>\n",
       "      <td>F</td>\n",
       "      <td>high</td>\n",
       "      <td>high</td>\n",
       "      <td>Joined Gitcoin in April 2020 with low-moderate activity, GiHub account created in March 2013 wit...</td>\n",
       "      <td>good github + large txs</td>\n",
       "      <td>0</td>\n",
       "      <td>0</td>\n",
       "    </tr>\n",
       "  </tbody>\n",
       "</table>\n",
       "</div>"
      ],
      "text/plain": [
       "     Handles Is Sybil_dogg Is Sybil_pavel Confidence_dogg Confidence_pavel  \\\n",
       "0  andrev976             F              F           so-so              low   \n",
       "1    jhtwtpi             F              T             low             high   \n",
       "2    kares0x             F              F             low              low   \n",
       "3   kargakis             F              F            high             high   \n",
       "\n",
       "                                                                                            Notes_dogg  \\\n",
       "0  Joined Gitcoin in June 202 with medium activity and #2384 in the Funders leaderboard, GitHub acc...   \n",
       "1                   Gitcoin account newly created, Joined GitHub in August 2016 with low contributions   \n",
       "2  Joined Gitcoin in April 2021 with low activity on the account, GitHub account created in July 20...   \n",
       "3  Joined Gitcoin in April 2020 with low-moderate activity, GiHub account created in March 2013 wit...   \n",
       "\n",
       "                                         Notes_pavel Sybil_pavel Sybil_dogg  \n",
       "0                                             newbie           0          0  \n",
       "1  no history+ contribution to potentially bad grant           1          0  \n",
       "2                                             newbie           0          0  \n",
       "3                            good github + large txs           0          0  "
      ]
     },
     "execution_count": 673,
     "metadata": {},
     "output_type": "execute_result"
    }
   ],
   "source": [
    "pavel_dogg"
   ]
  },
  {
   "cell_type": "code",
   "execution_count": 632,
   "id": "a010d46e",
   "metadata": {},
   "outputs": [
    {
     "name": "stdout",
     "output_type": "stream",
     "text": [
      "First reviewer's name: pavel\n",
      "Second reviewer's name: dogg\n"
     ]
    }
   ],
   "source": [
    "new_pavel_dogg = create_kappa_table(pavel_dogg)\n",
    "new_pavel_dogg.to_csv(\"./pavel_dogg.csv\")"
   ]
  },
  {
   "cell_type": "code",
   "execution_count": 513,
   "id": "fe0e04d1",
   "metadata": {},
   "outputs": [
    {
     "name": "stdout",
     "output_type": "stream",
     "text": [
      "First reviwer's name: pavel\n",
      "Second reviwer's name: am\n",
      "First reviewer's name: pavel\n",
      "Second reviewer's name: am\n",
      "The cohen_kappa_score for pavel and am is: 0.0\n"
     ]
    }
   ],
   "source": [
    "pavel_am = create_table(pavel, am, all_data)\n",
    "calculate_cohen(pavel_am)"
   ]
  },
  {
   "cell_type": "code",
   "execution_count": 674,
   "id": "f64da1ce",
   "metadata": {},
   "outputs": [
    {
     "data": {
      "text/html": [
       "<div>\n",
       "<style scoped>\n",
       "    .dataframe tbody tr th:only-of-type {\n",
       "        vertical-align: middle;\n",
       "    }\n",
       "\n",
       "    .dataframe tbody tr th {\n",
       "        vertical-align: top;\n",
       "    }\n",
       "\n",
       "    .dataframe thead th {\n",
       "        text-align: right;\n",
       "    }\n",
       "</style>\n",
       "<table border=\"1\" class=\"dataframe\">\n",
       "  <thead>\n",
       "    <tr style=\"text-align: right;\">\n",
       "      <th></th>\n",
       "      <th>Handles</th>\n",
       "      <th>Is Sybil_am</th>\n",
       "      <th>Is Sybil_pavel</th>\n",
       "      <th>Confidence_am</th>\n",
       "      <th>Confidence_pavel</th>\n",
       "      <th>Notes_am</th>\n",
       "      <th>Notes_pavel</th>\n",
       "      <th>Sybil_pavel</th>\n",
       "      <th>Sybil_am</th>\n",
       "    </tr>\n",
       "  </thead>\n",
       "  <tbody>\n",
       "    <tr>\n",
       "      <th>0</th>\n",
       "      <td>fallowu</td>\n",
       "      <td>F</td>\n",
       "      <td>F</td>\n",
       "      <td>so-so</td>\n",
       "      <td>low</td>\n",
       "      <td>older account, active on github</td>\n",
       "      <td>newbie</td>\n",
       "      <td>0</td>\n",
       "      <td>0</td>\n",
       "    </tr>\n",
       "    <tr>\n",
       "      <th>1</th>\n",
       "      <td>hommy-huang</td>\n",
       "      <td>T</td>\n",
       "      <td>F</td>\n",
       "      <td>low</td>\n",
       "      <td>so-so</td>\n",
       "      <td>3 dai to multiple grants, no github activity or external links</td>\n",
       "      <td>good history</td>\n",
       "      <td>0</td>\n",
       "      <td>1</td>\n",
       "    </tr>\n",
       "    <tr>\n",
       "      <th>2</th>\n",
       "      <td>kargakis</td>\n",
       "      <td>F</td>\n",
       "      <td>F</td>\n",
       "      <td>high</td>\n",
       "      <td>high</td>\n",
       "      <td>mild user, targeted funding to 2 projects. Active on github/twitter</td>\n",
       "      <td>good github + large txs</td>\n",
       "      <td>0</td>\n",
       "      <td>0</td>\n",
       "    </tr>\n",
       "  </tbody>\n",
       "</table>\n",
       "</div>"
      ],
      "text/plain": [
       "       Handles Is Sybil_am Is Sybil_pavel Confidence_am Confidence_pavel  \\\n",
       "0      fallowu           F              F         so-so              low   \n",
       "1  hommy-huang           T              F           low            so-so   \n",
       "2     kargakis           F              F          high             high   \n",
       "\n",
       "                                                              Notes_am  \\\n",
       "0                                      older account, active on github   \n",
       "1       3 dai to multiple grants, no github activity or external links   \n",
       "2  mild user, targeted funding to 2 projects. Active on github/twitter   \n",
       "\n",
       "               Notes_pavel Sybil_pavel Sybil_am  \n",
       "0                   newbie           0        0  \n",
       "1             good history           0        1  \n",
       "2  good github + large txs           0        0  "
      ]
     },
     "execution_count": 674,
     "metadata": {},
     "output_type": "execute_result"
    }
   ],
   "source": [
    "pavel_am"
   ]
  },
  {
   "cell_type": "markdown",
   "id": "9cd8bba4",
   "metadata": {},
   "source": [
    "The cohen_kappa_score for pavel and am is: 0.0"
   ]
  },
  {
   "cell_type": "code",
   "execution_count": 633,
   "id": "7a59debb",
   "metadata": {},
   "outputs": [
    {
     "name": "stdout",
     "output_type": "stream",
     "text": [
      "First reviewer's name: pavel\n",
      "Second reviewer's name: am\n"
     ]
    }
   ],
   "source": [
    "new_pavel_am = create_kappa_table(pavel_am)\n",
    "new_pavel_am.to_csv(\"./pavel_am.csv\")"
   ]
  },
  {
   "cell_type": "code",
   "execution_count": 514,
   "id": "b2bc2fcb",
   "metadata": {},
   "outputs": [
    {
     "data": {
      "text/html": [
       "<div>\n",
       "<style scoped>\n",
       "    .dataframe tbody tr th:only-of-type {\n",
       "        vertical-align: middle;\n",
       "    }\n",
       "\n",
       "    .dataframe tbody tr th {\n",
       "        vertical-align: top;\n",
       "    }\n",
       "\n",
       "    .dataframe thead th {\n",
       "        text-align: right;\n",
       "    }\n",
       "</style>\n",
       "<table border=\"1\" class=\"dataframe\">\n",
       "  <thead>\n",
       "    <tr style=\"text-align: right;\">\n",
       "      <th></th>\n",
       "      <th>Handles</th>\n",
       "      <th>Is Sybil_am</th>\n",
       "      <th>Is Sybil_pavel</th>\n",
       "      <th>Confidence_am</th>\n",
       "      <th>Confidence_pavel</th>\n",
       "      <th>Notes_am</th>\n",
       "      <th>Notes_pavel</th>\n",
       "    </tr>\n",
       "  </thead>\n",
       "  <tbody>\n",
       "    <tr>\n",
       "      <th>0</th>\n",
       "      <td>fallowu</td>\n",
       "      <td>F</td>\n",
       "      <td>F</td>\n",
       "      <td>so-so</td>\n",
       "      <td>low</td>\n",
       "      <td>older account, active on github</td>\n",
       "      <td>newbie</td>\n",
       "    </tr>\n",
       "    <tr>\n",
       "      <th>1</th>\n",
       "      <td>hommy-huang</td>\n",
       "      <td>T</td>\n",
       "      <td>F</td>\n",
       "      <td>low</td>\n",
       "      <td>so-so</td>\n",
       "      <td>3 dai to multiple grants, no github activity o...</td>\n",
       "      <td>good history</td>\n",
       "    </tr>\n",
       "    <tr>\n",
       "      <th>2</th>\n",
       "      <td>kargakis</td>\n",
       "      <td>F</td>\n",
       "      <td>F</td>\n",
       "      <td>high</td>\n",
       "      <td>high</td>\n",
       "      <td>mild user, targeted funding to 2 projects. Act...</td>\n",
       "      <td>good github + large txs</td>\n",
       "    </tr>\n",
       "  </tbody>\n",
       "</table>\n",
       "</div>"
      ],
      "text/plain": [
       "       Handles Is Sybil_am Is Sybil_pavel Confidence_am Confidence_pavel  \\\n",
       "0      fallowu           F              F         so-so              low   \n",
       "1  hommy-huang           T              F           low            so-so   \n",
       "2     kargakis           F              F          high             high   \n",
       "\n",
       "                                            Notes_am              Notes_pavel  \n",
       "0                    older account, active on github                   newbie  \n",
       "1  3 dai to multiple grants, no github activity o...             good history  \n",
       "2  mild user, targeted funding to 2 projects. Act...  good github + large txs  "
      ]
     },
     "execution_count": 514,
     "metadata": {},
     "output_type": "execute_result"
    }
   ],
   "source": [
    "pavel_am"
   ]
  },
  {
   "cell_type": "code",
   "execution_count": 675,
   "id": "deea194a",
   "metadata": {},
   "outputs": [
    {
     "data": {
      "text/html": [
       "<div>\n",
       "<style scoped>\n",
       "    .dataframe tbody tr th:only-of-type {\n",
       "        vertical-align: middle;\n",
       "    }\n",
       "\n",
       "    .dataframe tbody tr th {\n",
       "        vertical-align: top;\n",
       "    }\n",
       "\n",
       "    .dataframe thead th {\n",
       "        text-align: right;\n",
       "    }\n",
       "</style>\n",
       "<table border=\"1\" class=\"dataframe\">\n",
       "  <thead>\n",
       "    <tr style=\"text-align: right;\">\n",
       "      <th></th>\n",
       "      <th>Handles</th>\n",
       "      <th>Is Sybil_greg</th>\n",
       "      <th>Is Sybil_pavel</th>\n",
       "      <th>Confidence_greg</th>\n",
       "      <th>Confidence_pavel</th>\n",
       "      <th>Notes_greg</th>\n",
       "      <th>Notes_pavel</th>\n",
       "      <th>Sybil_pavel</th>\n",
       "      <th>Sybil_greg</th>\n",
       "    </tr>\n",
       "  </thead>\n",
       "  <tbody>\n",
       "    <tr>\n",
       "      <th>0</th>\n",
       "      <td>imgsu</td>\n",
       "      <td>F</td>\n",
       "      <td>F</td>\n",
       "      <td>so-so</td>\n",
       "      <td>high</td>\n",
       "      <td>empty github</td>\n",
       "      <td>donations are to only well-known good actors. If they have little pool over time they are follow...</td>\n",
       "      <td>0</td>\n",
       "      <td>0</td>\n",
       "    </tr>\n",
       "    <tr>\n",
       "      <th>1</th>\n",
       "      <td>nirroolat</td>\n",
       "      <td>F</td>\n",
       "      <td>F</td>\n",
       "      <td>so-so</td>\n",
       "      <td>high</td>\n",
       "      <td>inactivity</td>\n",
       "      <td>gc history + good txs</td>\n",
       "      <td>0</td>\n",
       "      <td>0</td>\n",
       "    </tr>\n",
       "    <tr>\n",
       "      <th>2</th>\n",
       "      <td>ziki06</td>\n",
       "      <td>T</td>\n",
       "      <td>F</td>\n",
       "      <td>high</td>\n",
       "      <td>low</td>\n",
       "      <td>recent account</td>\n",
       "      <td>newbie</td>\n",
       "      <td>0</td>\n",
       "      <td>1</td>\n",
       "    </tr>\n",
       "    <tr>\n",
       "      <th>3</th>\n",
       "      <td>zllzdd</td>\n",
       "      <td>F</td>\n",
       "      <td>F</td>\n",
       "      <td>so-so</td>\n",
       "      <td>low</td>\n",
       "      <td>recent profile, varied contributions</td>\n",
       "      <td>obviously free-riding single grant but with other numerous grants</td>\n",
       "      <td>0</td>\n",
       "      <td>0</td>\n",
       "    </tr>\n",
       "  </tbody>\n",
       "</table>\n",
       "</div>"
      ],
      "text/plain": [
       "     Handles Is Sybil_greg Is Sybil_pavel Confidence_greg Confidence_pavel  \\\n",
       "0      imgsu             F              F           so-so             high   \n",
       "1  nirroolat             F              F           so-so             high   \n",
       "2     ziki06             T              F            high              low   \n",
       "3     zllzdd             F              F           so-so              low   \n",
       "\n",
       "                             Notes_greg  \\\n",
       "0                          empty github   \n",
       "1                            inactivity   \n",
       "2                        recent account   \n",
       "3  recent profile, varied contributions   \n",
       "\n",
       "                                                                                           Notes_pavel  \\\n",
       "0  donations are to only well-known good actors. If they have little pool over time they are follow...   \n",
       "1                                                                                gc history + good txs   \n",
       "2                                                                                               newbie   \n",
       "3                                    obviously free-riding single grant but with other numerous grants   \n",
       "\n",
       "  Sybil_pavel Sybil_greg  \n",
       "0           0          0  \n",
       "1           0          0  \n",
       "2           0          1  \n",
       "3           0          0  "
      ]
     },
     "execution_count": 675,
     "metadata": {},
     "output_type": "execute_result"
    }
   ],
   "source": [
    "pavel_greg"
   ]
  },
  {
   "cell_type": "markdown",
   "id": "99eeeddb",
   "metadata": {},
   "source": [
    "The cohen_kappa_score for pavel and greg is: 0.0"
   ]
  },
  {
   "cell_type": "code",
   "execution_count": 515,
   "id": "90875776",
   "metadata": {},
   "outputs": [
    {
     "name": "stdout",
     "output_type": "stream",
     "text": [
      "First reviwer's name: pavel\n",
      "Second reviwer's name: greg\n",
      "First reviewer's name: pavel\n",
      "Second reviewer's name: greg\n",
      "The cohen_kappa_score for pavel and greg is: 0.0\n"
     ]
    }
   ],
   "source": [
    "pavel_greg = create_table(pavel, greg, all_data)\n",
    "calculate_cohen(pavel_greg)"
   ]
  },
  {
   "cell_type": "code",
   "execution_count": 634,
   "id": "7bb960c7",
   "metadata": {},
   "outputs": [
    {
     "name": "stdout",
     "output_type": "stream",
     "text": [
      "First reviewer's name: pavel\n",
      "Second reviewer's name: greg\n"
     ]
    }
   ],
   "source": [
    "new_pavel_greg = create_kappa_table(pavel_greg)\n",
    "new_pavel_greg.to_csv(\"./pavel_greg.csv\")"
   ]
  },
  {
   "cell_type": "code",
   "execution_count": 10,
   "id": "933050cb",
   "metadata": {},
   "outputs": [
    {
     "data": {
      "image/png": "[encoded data removed]",
      "text/plain": [
       "<Figure size 432x288 with 1 Axes>"
      ]
     },
     "metadata": {
      "needs_background": "light"
     },
     "output_type": "display_data"
    }
   ],
   "source": [
    "plt.title(\"A correlation of Pavel and other reviewers by Cohen-kappa\")\n",
    "plt.bar([\"Dries\", \"Zerb\", \"Dogg\", \"Am\", \"Greg\"], [0, 0, 0, 0,0])\n",
    "plt.grid()\n",
    "plt.show()"
   ]
  },
  {
   "cell_type": "markdown",
   "id": "a4787f5e",
   "metadata": {},
   "source": [
    "## Jammie"
   ]
  },
  {
   "cell_type": "code",
   "execution_count": 516,
   "id": "df1c4009",
   "metadata": {},
   "outputs": [
    {
     "name": "stdout",
     "output_type": "stream",
     "text": [
      "First reviwer's name: jammie\n",
      "Second reviwer's name: lkh\n",
      "First reviewer's name: jammie\n",
      "Second reviewer's name: lkh\n",
      "The cohen_kappa_score for jammie and lkh is: -0.6666666666666667\n"
     ]
    }
   ],
   "source": [
    "jammie_lkh = create_table(jammie, lkh, all_data)\n",
    "calculate_cohen(jammie_lkh)"
   ]
  },
  {
   "cell_type": "markdown",
   "id": "e2645808",
   "metadata": {},
   "source": [
    "The cohen_kappa_score for jammie and lkh is: -0.6666666666666667"
   ]
  },
  {
   "cell_type": "code",
   "execution_count": 676,
   "id": "5baeea04",
   "metadata": {},
   "outputs": [
    {
     "data": {
      "text/html": [
       "<div>\n",
       "<style scoped>\n",
       "    .dataframe tbody tr th:only-of-type {\n",
       "        vertical-align: middle;\n",
       "    }\n",
       "\n",
       "    .dataframe tbody tr th {\n",
       "        vertical-align: top;\n",
       "    }\n",
       "\n",
       "    .dataframe thead th {\n",
       "        text-align: right;\n",
       "    }\n",
       "</style>\n",
       "<table border=\"1\" class=\"dataframe\">\n",
       "  <thead>\n",
       "    <tr style=\"text-align: right;\">\n",
       "      <th></th>\n",
       "      <th>Handles</th>\n",
       "      <th>Is Sybil_lkh</th>\n",
       "      <th>Is Sybil_jammie</th>\n",
       "      <th>Confidence_lkh</th>\n",
       "      <th>Confidence_jammie</th>\n",
       "      <th>Notes_lkh</th>\n",
       "      <th>Notes_jammie</th>\n",
       "    </tr>\n",
       "  </thead>\n",
       "  <tbody>\n",
       "    <tr>\n",
       "      <th>0</th>\n",
       "      <td>birdbeyondl</td>\n",
       "      <td>T</td>\n",
       "      <td>F</td>\n",
       "      <td>high</td>\n",
       "      <td>low</td>\n",
       "      <td>inactive time ago in github and gitcoin &amp;  only activity on gitcoin was contribution</td>\n",
       "      <td>few github activity from last month but no activity on gitcoin</td>\n",
       "    </tr>\n",
       "    <tr>\n",
       "      <th>1</th>\n",
       "      <td>drbalikci</td>\n",
       "      <td>F</td>\n",
       "      <td>T</td>\n",
       "      <td>so-so</td>\n",
       "      <td>high</td>\n",
       "      <td>recent github and gitcoin account, no contribution at all. and never use any of gitcoin products</td>\n",
       "      <td>both accounts are new</td>\n",
       "    </tr>\n",
       "    <tr>\n",
       "      <th>2</th>\n",
       "      <td>kuangzhicheng203</td>\n",
       "      <td>T</td>\n",
       "      <td>F</td>\n",
       "      <td>so-so</td>\n",
       "      <td>so-so</td>\n",
       "      <td>not active in github and gitcoin, he only did contribution to grants on gitcoin. no quests no ha...</td>\n",
       "      <td>very active on gitcoin with funding but not active at github</td>\n",
       "    </tr>\n",
       "    <tr>\n",
       "      <th>3</th>\n",
       "      <td>nick90020888</td>\n",
       "      <td>F</td>\n",
       "      <td>T</td>\n",
       "      <td>low</td>\n",
       "      <td>high</td>\n",
       "      <td>empty github, but gitcoin is old and there are multiple contribution</td>\n",
       "      <td>new gitcoin and github, no activity at all</td>\n",
       "    </tr>\n",
       "    <tr>\n",
       "      <th>4</th>\n",
       "      <td>taresky</td>\n",
       "      <td>F</td>\n",
       "      <td>F</td>\n",
       "      <td>so-so</td>\n",
       "      <td>high</td>\n",
       "      <td>old github but not active much, he add he's website on gitcoin</td>\n",
       "      <td>active gitcoin with funding and active github also</td>\n",
       "    </tr>\n",
       "  </tbody>\n",
       "</table>\n",
       "</div>"
      ],
      "text/plain": [
       "            Handles Is Sybil_lkh Is Sybil_jammie Confidence_lkh  \\\n",
       "0       birdbeyondl            T               F           high   \n",
       "1         drbalikci            F               T          so-so   \n",
       "2  kuangzhicheng203            T               F          so-so   \n",
       "3      nick90020888            F               T            low   \n",
       "4           taresky            F               F          so-so   \n",
       "\n",
       "  Confidence_jammie  \\\n",
       "0               low   \n",
       "1              high   \n",
       "2             so-so   \n",
       "3              high   \n",
       "4              high   \n",
       "\n",
       "                                                                                             Notes_lkh  \\\n",
       "0                 inactive time ago in github and gitcoin &  only activity on gitcoin was contribution   \n",
       "1     recent github and gitcoin account, no contribution at all. and never use any of gitcoin products   \n",
       "2  not active in github and gitcoin, he only did contribution to grants on gitcoin. no quests no ha...   \n",
       "3                                 empty github, but gitcoin is old and there are multiple contribution   \n",
       "4                                       old github but not active much, he add he's website on gitcoin   \n",
       "\n",
       "                                                     Notes_jammie  \n",
       "0  few github activity from last month but no activity on gitcoin  \n",
       "1                                           both accounts are new  \n",
       "2    very active on gitcoin with funding but not active at github  \n",
       "3                      new gitcoin and github, no activity at all  \n",
       "4              active gitcoin with funding and active github also  "
      ]
     },
     "execution_count": 676,
     "metadata": {},
     "output_type": "execute_result"
    }
   ],
   "source": [
    "jammie_lkh"
   ]
  },
  {
   "cell_type": "code",
   "execution_count": 517,
   "id": "0a93c591",
   "metadata": {},
   "outputs": [
    {
     "name": "stdout",
     "output_type": "stream",
     "text": [
      "First reviwer's name: jammie\n",
      "Second reviwer's name: dries\n",
      "First reviewer's name: jammie\n",
      "Second reviewer's name: dries\n",
      "The cohen_kappa_score for jammie and dries is: 1.0\n"
     ]
    }
   ],
   "source": [
    "jammie_dries = create_table(jammie, dries, all_data)\n",
    "calculate_cohen(jammie_dries)"
   ]
  },
  {
   "cell_type": "markdown",
   "id": "99d3e087",
   "metadata": {},
   "source": [
    "The cohen_kappa_score for jammie and dries is: 1.0, because they have agreed all the times"
   ]
  },
  {
   "cell_type": "code",
   "execution_count": 677,
   "id": "5523f20f",
   "metadata": {},
   "outputs": [
    {
     "data": {
      "text/html": [
       "<div>\n",
       "<style scoped>\n",
       "    .dataframe tbody tr th:only-of-type {\n",
       "        vertical-align: middle;\n",
       "    }\n",
       "\n",
       "    .dataframe tbody tr th {\n",
       "        vertical-align: top;\n",
       "    }\n",
       "\n",
       "    .dataframe thead th {\n",
       "        text-align: right;\n",
       "    }\n",
       "</style>\n",
       "<table border=\"1\" class=\"dataframe\">\n",
       "  <thead>\n",
       "    <tr style=\"text-align: right;\">\n",
       "      <th></th>\n",
       "      <th>Handles</th>\n",
       "      <th>Is Sybil_dries</th>\n",
       "      <th>Is Sybil_jammie</th>\n",
       "      <th>Confidence_dries</th>\n",
       "      <th>Confidence_jammie</th>\n",
       "      <th>Notes_dries</th>\n",
       "      <th>Notes_jammie</th>\n",
       "    </tr>\n",
       "  </thead>\n",
       "  <tbody>\n",
       "    <tr>\n",
       "      <th>0</th>\n",
       "      <td>celir</td>\n",
       "      <td>F</td>\n",
       "      <td>F</td>\n",
       "      <td>High</td>\n",
       "      <td>low</td>\n",
       "      <td>High GitHub activity over several years.</td>\n",
       "      <td>a little activity on github but none on gitcoin</td>\n",
       "    </tr>\n",
       "    <tr>\n",
       "      <th>1</th>\n",
       "      <td>fatih4402</td>\n",
       "      <td>T</td>\n",
       "      <td>T</td>\n",
       "      <td>so-so</td>\n",
       "      <td>high</td>\n",
       "      <td>New GitHub account with no real activity on Gitcoin.</td>\n",
       "      <td>new github and a dollar funding to gitcoin</td>\n",
       "    </tr>\n",
       "    <tr>\n",
       "      <th>2</th>\n",
       "      <td>gmifrfr</td>\n",
       "      <td>T</td>\n",
       "      <td>T</td>\n",
       "      <td>High</td>\n",
       "      <td>high</td>\n",
       "      <td>New GitHub and Gitcoin account with no other activity.</td>\n",
       "      <td>new gitcoin and github, no activity at all</td>\n",
       "    </tr>\n",
       "  </tbody>\n",
       "</table>\n",
       "</div>"
      ],
      "text/plain": [
       "     Handles Is Sybil_dries Is Sybil_jammie Confidence_dries  \\\n",
       "0      celir              F               F             High   \n",
       "1  fatih4402              T               T            so-so   \n",
       "2    gmifrfr              T               T             High   \n",
       "\n",
       "  Confidence_jammie                                             Notes_dries  \\\n",
       "0               low                High GitHub activity over several years.   \n",
       "1              high    New GitHub account with no real activity on Gitcoin.   \n",
       "2              high  New GitHub and Gitcoin account with no other activity.   \n",
       "\n",
       "                                      Notes_jammie  \n",
       "0  a little activity on github but none on gitcoin  \n",
       "1       new github and a dollar funding to gitcoin  \n",
       "2       new gitcoin and github, no activity at all  "
      ]
     },
     "execution_count": 677,
     "metadata": {},
     "output_type": "execute_result"
    }
   ],
   "source": [
    "jammie_dries"
   ]
  },
  {
   "cell_type": "code",
   "execution_count": 518,
   "id": "636794f5",
   "metadata": {},
   "outputs": [
    {
     "name": "stdout",
     "output_type": "stream",
     "text": [
      "First reviwer's name: jammie\n",
      "Second reviwer's name: zerb\n",
      "First reviewer's name: jammie\n",
      "Second reviewer's name: zerb\n",
      "The cohen_kappa_score for jammie and zerb is: 1.0\n"
     ]
    }
   ],
   "source": [
    "jammie_zerb = create_table(jammie, zerb, all_data)\n",
    "calculate_cohen(jammie_zerb)"
   ]
  },
  {
   "cell_type": "markdown",
   "id": "f64fafe3",
   "metadata": {},
   "source": [
    "The cohen_kappa_score for jammie and zerb is: 1.0, because they have agreed all the time."
   ]
  },
  {
   "cell_type": "code",
   "execution_count": 519,
   "id": "c9f954c5",
   "metadata": {},
   "outputs": [
    {
     "name": "stdout",
     "output_type": "stream",
     "text": [
      "First reviwer's name: jammie\n",
      "Second reviwer's name: pavel\n",
      "First reviewer's name: jammie\n",
      "Second reviewer's name: pavel\n",
      "The cohen_kappa_score for jammie and pavel is: 0.0\n"
     ]
    }
   ],
   "source": [
    "jammie_pavel = create_table(jammie, pavel, all_data)\n",
    "calculate_cohen(jammie_pavel)"
   ]
  },
  {
   "cell_type": "code",
   "execution_count": null,
   "id": "47bbbb12",
   "metadata": {},
   "outputs": [],
   "source": [
    "jammie_pavel"
   ]
  },
  {
   "cell_type": "code",
   "execution_count": 520,
   "id": "9d8aab6f",
   "metadata": {},
   "outputs": [
    {
     "name": "stdout",
     "output_type": "stream",
     "text": [
      "First reviwer's name: jammie\n",
      "Second reviwer's name: dogg\n",
      "First reviewer's name: jammie\n",
      "Second reviewer's name: dogg\n",
      "The cohen_kappa_score for jammie and dogg is: 0.0\n"
     ]
    }
   ],
   "source": [
    "jammie_dogg = create_table(jammie, dogg, all_data)\n",
    "calculate_cohen(jammie_dogg)"
   ]
  },
  {
   "cell_type": "code",
   "execution_count": 636,
   "id": "91b409fb",
   "metadata": {},
   "outputs": [
    {
     "name": "stdout",
     "output_type": "stream",
     "text": [
      "First reviewer's name: jammie\n",
      "Second reviewer's name: dogg\n"
     ]
    }
   ],
   "source": [
    "new_jammie_dogg = create_kappa_table(jammie_dogg)\n",
    "new_jammie_dogg.to_csv(\"./jammie_dogg.csv\")"
   ]
  },
  {
   "cell_type": "code",
   "execution_count": 521,
   "id": "c265b944",
   "metadata": {},
   "outputs": [
    {
     "name": "stdout",
     "output_type": "stream",
     "text": [
      "First reviwer's name: jammie\n",
      "Second reviwer's name: fizzy\n",
      "First reviewer's name: jammie\n",
      "Second reviewer's name: fizzy\n",
      "The cohen_kappa_score for jammie and fizzy is: 1.0\n"
     ]
    }
   ],
   "source": [
    "jammie_fizzy = create_table(jammie, fizzy, all_data)\n",
    "calculate_cohen(jammie_fizzy)"
   ]
  },
  {
   "cell_type": "code",
   "execution_count": 637,
   "id": "8712e8bf",
   "metadata": {},
   "outputs": [
    {
     "name": "stdout",
     "output_type": "stream",
     "text": [
      "First reviewer's name: jammie\n",
      "Second reviewer's name: fizzy\n"
     ]
    }
   ],
   "source": [
    "new_jammie_fizzy = create_kappa_table(jammie_fizzy)\n",
    "new_jammie_fizzy.to_csv(\"./jammie_fizzy.csv\")"
   ]
  },
  {
   "cell_type": "code",
   "execution_count": 14,
   "id": "4bc45633",
   "metadata": {},
   "outputs": [
    {
     "data": {
      "image/png": "[encoded data removed]",
      "text/plain": [
       "<Figure size 432x288 with 1 Axes>"
      ]
     },
     "metadata": {
      "needs_background": "light"
     },
     "output_type": "display_data"
    }
   ],
   "source": [
    "plt.title(\"A correlation of Jammie and other reviewers by Cohen-kappa\")\n",
    "plt.bar([\"Dries\", \"Zerb\", \"Dogg\", \"Pavel\", \"Lkh\", \"Fizzy\"], [1.0, 1.0, 0, 0,-0.667,1.0])\n",
    "plt.grid()\n",
    "plt.show()"
   ]
  },
  {
   "cell_type": "markdown",
   "id": "15dd2b23",
   "metadata": {},
   "source": [
    "## Walter"
   ]
  },
  {
   "cell_type": "code",
   "execution_count": 523,
   "id": "06e7f7be",
   "metadata": {},
   "outputs": [
    {
     "name": "stdout",
     "output_type": "stream",
     "text": [
      "First reviwer's name: walter\n",
      "Second reviwer's name: zerb\n"
     ]
    },
    {
     "data": {
      "text/html": [
       "<div>\n",
       "<style scoped>\n",
       "    .dataframe tbody tr th:only-of-type {\n",
       "        vertical-align: middle;\n",
       "    }\n",
       "\n",
       "    .dataframe tbody tr th {\n",
       "        vertical-align: top;\n",
       "    }\n",
       "\n",
       "    .dataframe thead th {\n",
       "        text-align: right;\n",
       "    }\n",
       "</style>\n",
       "<table border=\"1\" class=\"dataframe\">\n",
       "  <thead>\n",
       "    <tr style=\"text-align: right;\">\n",
       "      <th></th>\n",
       "      <th>Handles</th>\n",
       "      <th>Is Sybil_zerb</th>\n",
       "      <th>Is Sybil_walter</th>\n",
       "      <th>Confidence_zerb</th>\n",
       "      <th>Confidence_walter</th>\n",
       "      <th>Notes_zerb</th>\n",
       "      <th>Notes_walter</th>\n",
       "    </tr>\n",
       "  </thead>\n",
       "  <tbody>\n",
       "    <tr>\n",
       "      <th>0</th>\n",
       "      <td>weiyeyan</td>\n",
       "      <td>F</td>\n",
       "      <td>NaN</td>\n",
       "      <td>low</td>\n",
       "      <td>NaN</td>\n",
       "      <td>SImilar donation pattern</td>\n",
       "      <td>NaN</td>\n",
       "    </tr>\n",
       "    <tr>\n",
       "      <th>1</th>\n",
       "      <td>zcfrank1st</td>\n",
       "      <td>F</td>\n",
       "      <td>NaN</td>\n",
       "      <td>High</td>\n",
       "      <td>NaN</td>\n",
       "      <td>Old github user, a lot of repos</td>\n",
       "      <td>NaN</td>\n",
       "    </tr>\n",
       "    <tr>\n",
       "      <th>2</th>\n",
       "      <td>zeptimus</td>\n",
       "      <td>F</td>\n",
       "      <td>NaN</td>\n",
       "      <td>High</td>\n",
       "      <td>NaN</td>\n",
       "      <td>A lot of github activity and member of the TEC</td>\n",
       "      <td>NaN</td>\n",
       "    </tr>\n",
       "  </tbody>\n",
       "</table>\n",
       "</div>"
      ],
      "text/plain": [
       "      Handles Is Sybil_zerb Is Sybil_walter Confidence_zerb Confidence_walter  \\\n",
       "0    weiyeyan             F             NaN             low               NaN   \n",
       "1  zcfrank1st             F             NaN            High               NaN   \n",
       "2    zeptimus             F             NaN            High               NaN   \n",
       "\n",
       "                                       Notes_zerb Notes_walter  \n",
       "0                        SImilar donation pattern          NaN  \n",
       "1                 Old github user, a lot of repos          NaN  \n",
       "2  A lot of github activity and member of the TEC          NaN  "
      ]
     },
     "execution_count": 523,
     "metadata": {},
     "output_type": "execute_result"
    }
   ],
   "source": [
    "walter_zerb = create_table(walter, zerb, all_data)\n",
    "walter_zerb"
   ]
  },
  {
   "cell_type": "code",
   "execution_count": 524,
   "id": "9abcd375",
   "metadata": {},
   "outputs": [
    {
     "name": "stdout",
     "output_type": "stream",
     "text": [
      "First reviwer's name: walter\n",
      "Second reviwer's name: am\n"
     ]
    },
    {
     "data": {
      "text/html": [
       "<div>\n",
       "<style scoped>\n",
       "    .dataframe tbody tr th:only-of-type {\n",
       "        vertical-align: middle;\n",
       "    }\n",
       "\n",
       "    .dataframe tbody tr th {\n",
       "        vertical-align: top;\n",
       "    }\n",
       "\n",
       "    .dataframe thead th {\n",
       "        text-align: right;\n",
       "    }\n",
       "</style>\n",
       "<table border=\"1\" class=\"dataframe\">\n",
       "  <thead>\n",
       "    <tr style=\"text-align: right;\">\n",
       "      <th></th>\n",
       "      <th>Handles</th>\n",
       "      <th>Is Sybil_am</th>\n",
       "      <th>Is Sybil_walter</th>\n",
       "      <th>Confidence_am</th>\n",
       "      <th>Confidence_walter</th>\n",
       "      <th>Notes_am</th>\n",
       "      <th>Notes_walter</th>\n",
       "    </tr>\n",
       "  </thead>\n",
       "  <tbody>\n",
       "    <tr>\n",
       "      <th>0</th>\n",
       "      <td>hussiwong</td>\n",
       "      <td>T</td>\n",
       "      <td>NaN</td>\n",
       "      <td>low</td>\n",
       "      <td>NaN</td>\n",
       "      <td>small amounts to multiple accounts. No external</td>\n",
       "      <td>NaN</td>\n",
       "    </tr>\n",
       "    <tr>\n",
       "      <th>1</th>\n",
       "      <td>weiyeyan</td>\n",
       "      <td>T</td>\n",
       "      <td>NaN</td>\n",
       "      <td>high</td>\n",
       "      <td>NaN</td>\n",
       "      <td>brand new account and only activity is mulitpl...</td>\n",
       "      <td>NaN</td>\n",
       "    </tr>\n",
       "  </tbody>\n",
       "</table>\n",
       "</div>"
      ],
      "text/plain": [
       "     Handles Is Sybil_am Is Sybil_walter Confidence_am Confidence_walter  \\\n",
       "0  hussiwong           T             NaN           low               NaN   \n",
       "1   weiyeyan           T             NaN          high               NaN   \n",
       "\n",
       "                                            Notes_am Notes_walter  \n",
       "0   small amounts to multiple accounts. No external           NaN  \n",
       "1  brand new account and only activity is mulitpl...          NaN  "
      ]
     },
     "execution_count": 524,
     "metadata": {},
     "output_type": "execute_result"
    }
   ],
   "source": [
    "walter_am = create_table(walter, am, all_data)\n",
    "walter_am"
   ]
  },
  {
   "cell_type": "code",
   "execution_count": 526,
   "id": "4c0d8f7f",
   "metadata": {},
   "outputs": [
    {
     "name": "stdout",
     "output_type": "stream",
     "text": [
      "First reviwer's name: walter\n",
      "Second reviwer's name: mount\n",
      "First reviewer's name: walter\n",
      "Second reviewer's name: mount\n",
      "The cohen_kappa_score for walter and mount is: 1.0\n"
     ]
    }
   ],
   "source": [
    "walter_mount = create_table(walter, mount, all_data)\n",
    "calculate_cohen(walter_mount)"
   ]
  },
  {
   "cell_type": "markdown",
   "id": "a5db8c02",
   "metadata": {},
   "source": [
    "The cohen_kappa_score for walter and mount is: 1.0, they agreed all the time."
   ]
  },
  {
   "cell_type": "code",
   "execution_count": 638,
   "id": "21b625df",
   "metadata": {},
   "outputs": [
    {
     "name": "stdout",
     "output_type": "stream",
     "text": [
      "First reviewer's name: walter\n",
      "Second reviewer's name: mount\n"
     ]
    }
   ],
   "source": [
    "new_walter_mount = create_kappa_table(walter_mount)\n",
    "new_walter_mount.to_csv(\"./walter_mount.csv\")"
   ]
  },
  {
   "cell_type": "code",
   "execution_count": 527,
   "id": "b3ef4236",
   "metadata": {},
   "outputs": [
    {
     "name": "stdout",
     "output_type": "stream",
     "text": [
      "First reviwer's name: walter\n",
      "Second reviwer's name: vik\n",
      "First reviewer's name: walter\n",
      "Second reviewer's name: vik\n",
      "The cohen_kappa_score for walter and vik is: 1.0\n"
     ]
    }
   ],
   "source": [
    "walter_vik = create_table(walter, vik, all_data)\n",
    "calculate_cohen(walter_vik)"
   ]
  },
  {
   "cell_type": "markdown",
   "id": "0b8e7124",
   "metadata": {},
   "source": [
    "The cohen_kappa_score for walter and vik is: 1.0\n"
   ]
  },
  {
   "cell_type": "code",
   "execution_count": 639,
   "id": "315b95f6",
   "metadata": {},
   "outputs": [
    {
     "name": "stdout",
     "output_type": "stream",
     "text": [
      "First reviewer's name: walter\n",
      "Second reviewer's name: vik\n"
     ]
    }
   ],
   "source": [
    "new_walter_vik = create_kappa_table(walter_vik)\n",
    "new_walter_vik.to_csv(\"./walter_vik.csv\")"
   ]
  },
  {
   "cell_type": "code",
   "execution_count": 13,
   "id": "d0c5ac78",
   "metadata": {},
   "outputs": [
    {
     "data": {
      "image/png": "[encoded data removed]",
      "text/plain": [
       "<Figure size 432x288 with 1 Axes>"
      ]
     },
     "metadata": {
      "needs_background": "light"
     },
     "output_type": "display_data"
    }
   ],
   "source": [
    "plt.title(\"A correlation of Walter and other reviewers by Cohen-kappa\")\n",
    "plt.bar([\"Mount\", \"Vik\"], [1, 1])\n",
    "plt.grid()\n",
    "plt.show()"
   ]
  },
  {
   "cell_type": "markdown",
   "id": "632a5e07",
   "metadata": {},
   "source": [
    "## FIZZY"
   ]
  },
  {
   "cell_type": "code",
   "execution_count": 530,
   "id": "ac98d408",
   "metadata": {},
   "outputs": [
    {
     "name": "stdout",
     "output_type": "stream",
     "text": [
      "First reviwer's name: fizzy\n",
      "Second reviwer's name: bfa\n",
      "First reviewer's name: fizzy\n",
      "Second reviewer's name: bfa\n",
      "The cohen_kappa_score for fizzy and bfa is: 1.0\n"
     ]
    }
   ],
   "source": [
    "fizzy_bfa = create_table(fizzy, bfa, all_data)\n",
    "calculate_cohen(fizzy_bfa)"
   ]
  },
  {
   "cell_type": "markdown",
   "id": "8675d405",
   "metadata": {},
   "source": [
    "The cohen_kappa_score for fizzy and bfa is: 1.0, "
   ]
  },
  {
   "cell_type": "code",
   "execution_count": 532,
   "id": "614d3654",
   "metadata": {},
   "outputs": [
    {
     "name": "stdout",
     "output_type": "stream",
     "text": [
      "First reviwer's name: fizzy\n",
      "Second reviwer's name: pascal\n"
     ]
    },
    {
     "data": {
      "text/html": [
       "<div>\n",
       "<style scoped>\n",
       "    .dataframe tbody tr th:only-of-type {\n",
       "        vertical-align: middle;\n",
       "    }\n",
       "\n",
       "    .dataframe tbody tr th {\n",
       "        vertical-align: top;\n",
       "    }\n",
       "\n",
       "    .dataframe thead th {\n",
       "        text-align: right;\n",
       "    }\n",
       "</style>\n",
       "<table border=\"1\" class=\"dataframe\">\n",
       "  <thead>\n",
       "    <tr style=\"text-align: right;\">\n",
       "      <th></th>\n",
       "      <th>Handles</th>\n",
       "      <th>Is Sybil_pascal</th>\n",
       "      <th>Is Sybil_fizzy</th>\n",
       "      <th>Confidence_pascal</th>\n",
       "      <th>Confidence_fizzy</th>\n",
       "      <th>Notes_pascal</th>\n",
       "      <th>Notes_fizzy</th>\n",
       "    </tr>\n",
       "  </thead>\n",
       "  <tbody>\n",
       "    <tr>\n",
       "      <th>0</th>\n",
       "      <td>fanffu</td>\n",
       "      <td>NaN</td>\n",
       "      <td>F</td>\n",
       "      <td>NaN</td>\n",
       "      <td>high</td>\n",
       "      <td>NaN</td>\n",
       "      <td>$5 contributions to over a dozen grants</td>\n",
       "    </tr>\n",
       "    <tr>\n",
       "      <th>1</th>\n",
       "      <td>njskyzz</td>\n",
       "      <td>NaN</td>\n",
       "      <td>F</td>\n",
       "      <td>NaN</td>\n",
       "      <td>high</td>\n",
       "      <td>NaN</td>\n",
       "      <td>actively contributing gitcoin user; low github...</td>\n",
       "    </tr>\n",
       "    <tr>\n",
       "      <th>2</th>\n",
       "      <td>robocups</td>\n",
       "      <td>NaN</td>\n",
       "      <td>T</td>\n",
       "      <td>NaN</td>\n",
       "      <td>high</td>\n",
       "      <td>NaN</td>\n",
       "      <td>$2 contributed to 2/3 grants</td>\n",
       "    </tr>\n",
       "  </tbody>\n",
       "</table>\n",
       "</div>"
      ],
      "text/plain": [
       "    Handles Is Sybil_pascal Is Sybil_fizzy Confidence_pascal Confidence_fizzy  \\\n",
       "0    fanffu             NaN              F               NaN             high   \n",
       "1   njskyzz             NaN              F               NaN             high   \n",
       "2  robocups             NaN              T               NaN             high   \n",
       "\n",
       "  Notes_pascal                                        Notes_fizzy  \n",
       "0          NaN            $5 contributions to over a dozen grants  \n",
       "1          NaN  actively contributing gitcoin user; low github...  \n",
       "2          NaN                       $2 contributed to 2/3 grants  "
      ]
     },
     "execution_count": 532,
     "metadata": {},
     "output_type": "execute_result"
    }
   ],
   "source": [
    "fizzy_pascal = create_table(fizzy, pascal, all_data)\n",
    "fizzy_pascal"
   ]
  },
  {
   "cell_type": "code",
   "execution_count": 533,
   "id": "1e3d0344",
   "metadata": {},
   "outputs": [
    {
     "name": "stdout",
     "output_type": "stream",
     "text": [
      "First reviwer's name: fizzy\n",
      "Second reviwer's name: jammie\n",
      "First reviewer's name: fizzy\n",
      "Second reviewer's name: jammie\n",
      "The cohen_kappa_score for fizzy and jammie is: 1.0\n"
     ]
    }
   ],
   "source": [
    "fizzy_jammie = create_table(fizzy, jammie, all_data)\n",
    "calculate_cohen(fizzy_jammie)"
   ]
  },
  {
   "cell_type": "code",
   "execution_count": 534,
   "id": "65d8751f",
   "metadata": {},
   "outputs": [
    {
     "name": "stdout",
     "output_type": "stream",
     "text": [
      "First reviwer's name: fizzy\n",
      "Second reviwer's name: dogg\n",
      "First reviewer's name: fizzy\n",
      "Second reviewer's name: dogg\n",
      "The cohen_kappa_score for fizzy and dogg is: 1.0\n"
     ]
    }
   ],
   "source": [
    "fizzy_dogg = create_table(fizzy, dogg, all_data)\n",
    "calculate_cohen(fizzy_dogg)"
   ]
  },
  {
   "cell_type": "code",
   "execution_count": 640,
   "id": "e20e01da",
   "metadata": {},
   "outputs": [
    {
     "name": "stdout",
     "output_type": "stream",
     "text": [
      "First reviewer's name: fizzy\n",
      "Second reviewer's name: dogg\n"
     ]
    }
   ],
   "source": [
    "new_fizzy_dogg = create_kappa_table(fizzy_dogg)\n",
    "new_fizzy_dogg.to_csv(\"./fizzy_dogg.csv\")"
   ]
  },
  {
   "cell_type": "code",
   "execution_count": 535,
   "id": "302e6642",
   "metadata": {},
   "outputs": [
    {
     "name": "stdout",
     "output_type": "stream",
     "text": [
      "First reviwer's name: fizzy\n",
      "Second reviwer's name: sid\n",
      "First reviewer's name: fizzy\n",
      "Second reviewer's name: sid\n",
      "The cohen_kappa_score for fizzy and sid is: 0.33333333333333337\n"
     ]
    }
   ],
   "source": [
    "fizzy_sid = create_table(fizzy, sid, all_data)\n",
    "calculate_cohen(fizzy_sid)"
   ]
  },
  {
   "cell_type": "code",
   "execution_count": 641,
   "id": "49eec7c7",
   "metadata": {},
   "outputs": [
    {
     "name": "stdout",
     "output_type": "stream",
     "text": [
      "First reviewer's name: fizzy\n",
      "Second reviewer's name: sid\n"
     ]
    }
   ],
   "source": [
    "new_fizzy_sid = create_kappa_table(fizzy_sid)\n",
    "new_fizzy_sid.to_csv(\"./fizzy_sid.csv\")"
   ]
  },
  {
   "cell_type": "code",
   "execution_count": 536,
   "id": "79a78636",
   "metadata": {},
   "outputs": [
    {
     "name": "stdout",
     "output_type": "stream",
     "text": [
      "First reviwer's name: fizzy\n",
      "Second reviwer's name: greg\n",
      "First reviewer's name: fizzy\n",
      "Second reviewer's name: greg\n",
      "The cohen_kappa_score for fizzy and greg is: 0.0\n"
     ]
    }
   ],
   "source": [
    "fizzy_greg = create_table(fizzy, greg, all_data)\n",
    "calculate_cohen(fizzy_greg)"
   ]
  },
  {
   "cell_type": "code",
   "execution_count": 642,
   "id": "d67556a0",
   "metadata": {},
   "outputs": [
    {
     "name": "stdout",
     "output_type": "stream",
     "text": [
      "First reviewer's name: fizzy\n",
      "Second reviewer's name: greg\n"
     ]
    }
   ],
   "source": [
    "new_fizzy_greg = create_kappa_table(fizzy_greg)\n",
    "new_fizzy_greg.to_csv(\"./fizzy_greg.csv\")"
   ]
  },
  {
   "cell_type": "code",
   "execution_count": 15,
   "id": "5ab4c239",
   "metadata": {},
   "outputs": [
    {
     "data": {
      "image/png": "[encoded data removed]",
      "text/plain": [
       "<Figure size 432x288 with 1 Axes>"
      ]
     },
     "metadata": {
      "needs_background": "light"
     },
     "output_type": "display_data"
    }
   ],
   "source": [
    "plt.title(\"A correlation of Fizzy and other reviewers by Cohen-kappa\")\n",
    "plt.bar([\"BFA\", \"Jammie\", \"Dogg\", \"Sid\", \"Greg\"], [1, 1, 1, 0.334, 0])\n",
    "plt.grid()\n",
    "plt.show()"
   ]
  },
  {
   "cell_type": "markdown",
   "id": "e0bc0a0a",
   "metadata": {},
   "source": [
    "## JOE"
   ]
  },
  {
   "cell_type": "code",
   "execution_count": 537,
   "id": "9004edd4",
   "metadata": {},
   "outputs": [
    {
     "name": "stdout",
     "output_type": "stream",
     "text": [
      "First reviwer's name: joe\n",
      "Second reviwer's name: am\n",
      "First reviewer's name: joe\n",
      "Second reviewer's name: am\n",
      "The cohen_kappa_score for joe and am is: 0.0\n"
     ]
    }
   ],
   "source": [
    "joe_am = create_table(joe, am, all_data)\n",
    "calculate_cohen(joe_am)"
   ]
  },
  {
   "cell_type": "code",
   "execution_count": 643,
   "id": "a31e5e8d",
   "metadata": {},
   "outputs": [
    {
     "name": "stdout",
     "output_type": "stream",
     "text": [
      "First reviewer's name: joe\n",
      "Second reviewer's name: am\n"
     ]
    }
   ],
   "source": [
    "new_joe_am = create_kappa_table(joe_am)\n",
    "new_joe_am.to_csv(\"./joe_am.csv\")"
   ]
  },
  {
   "cell_type": "code",
   "execution_count": 539,
   "id": "7de35851",
   "metadata": {},
   "outputs": [
    {
     "name": "stdout",
     "output_type": "stream",
     "text": [
      "First reviwer's name: joe\n",
      "Second reviwer's name: greg\n"
     ]
    },
    {
     "data": {
      "text/html": [
       "<div>\n",
       "<style scoped>\n",
       "    .dataframe tbody tr th:only-of-type {\n",
       "        vertical-align: middle;\n",
       "    }\n",
       "\n",
       "    .dataframe tbody tr th {\n",
       "        vertical-align: top;\n",
       "    }\n",
       "\n",
       "    .dataframe thead th {\n",
       "        text-align: right;\n",
       "    }\n",
       "</style>\n",
       "<table border=\"1\" class=\"dataframe\">\n",
       "  <thead>\n",
       "    <tr style=\"text-align: right;\">\n",
       "      <th></th>\n",
       "      <th>Handles</th>\n",
       "      <th>Is Sybil_greg</th>\n",
       "      <th>Is Sybil_joe</th>\n",
       "      <th>Confidence_greg</th>\n",
       "      <th>Confidence_joe</th>\n",
       "      <th>Notes_greg</th>\n",
       "      <th>Notes_joe</th>\n",
       "    </tr>\n",
       "  </thead>\n",
       "  <tbody>\n",
       "    <tr>\n",
       "      <th>0</th>\n",
       "      <td>parappa1</td>\n",
       "      <td>T</td>\n",
       "      <td>NaN</td>\n",
       "      <td>so-so</td>\n",
       "      <td>NaN</td>\n",
       "      <td>inactivity</td>\n",
       "      <td>NaN</td>\n",
       "    </tr>\n",
       "    <tr>\n",
       "      <th>1</th>\n",
       "      <td>soroushosanlou</td>\n",
       "      <td>T</td>\n",
       "      <td>NaN</td>\n",
       "      <td>high</td>\n",
       "      <td>NaN</td>\n",
       "      <td>recent gitcoin profile, inactivity on github</td>\n",
       "      <td>NaN</td>\n",
       "    </tr>\n",
       "    <tr>\n",
       "      <th>2</th>\n",
       "      <td>svskrpz</td>\n",
       "      <td>T</td>\n",
       "      <td>NaN</td>\n",
       "      <td>high</td>\n",
       "      <td>NaN</td>\n",
       "      <td>recent profiles</td>\n",
       "      <td>NaN</td>\n",
       "    </tr>\n",
       "  </tbody>\n",
       "</table>\n",
       "</div>"
      ],
      "text/plain": [
       "          Handles Is Sybil_greg Is Sybil_joe Confidence_greg Confidence_joe  \\\n",
       "0        parappa1             T          NaN           so-so            NaN   \n",
       "1  soroushosanlou             T          NaN            high            NaN   \n",
       "2         svskrpz             T          NaN            high            NaN   \n",
       "\n",
       "                                     Notes_greg Notes_joe  \n",
       "0                                    inactivity       NaN  \n",
       "1  recent gitcoin profile, inactivity on github       NaN  \n",
       "2                              recent profiles        NaN  "
      ]
     },
     "execution_count": 539,
     "metadata": {},
     "output_type": "execute_result"
    }
   ],
   "source": [
    "joe_greg = create_table(joe, greg, all_data)\n",
    "joe_greg"
   ]
  },
  {
   "cell_type": "code",
   "execution_count": 16,
   "id": "d9d1610b",
   "metadata": {},
   "outputs": [
    {
     "data": {
      "image/png": "[encoded data removed]",
      "text/plain": [
       "<Figure size 432x288 with 1 Axes>"
      ]
     },
     "metadata": {
      "needs_background": "light"
     },
     "output_type": "display_data"
    }
   ],
   "source": [
    "plt.title(\"A correlation of Joe and other reviewers by Cohen-kappa\")\n",
    "plt.bar([\"Am\"], [0])\n",
    "plt.grid()\n",
    "plt.show()"
   ]
  },
  {
   "cell_type": "markdown",
   "id": "da67ca81",
   "metadata": {},
   "source": [
    "## SID"
   ]
  },
  {
   "cell_type": "code",
   "execution_count": 540,
   "id": "b59f2e18",
   "metadata": {},
   "outputs": [
    {
     "name": "stdout",
     "output_type": "stream",
     "text": [
      "First reviwer's name: sid\n",
      "Second reviwer's name: fizzy\n",
      "First reviewer's name: sid\n",
      "Second reviewer's name: fizzy\n",
      "The cohen_kappa_score for sid and fizzy is: 0.33333333333333337\n"
     ]
    }
   ],
   "source": [
    "sid_fizzy = create_table(sid, fizzy, all_data)\n",
    "calculate_cohen(sid_fizzy)"
   ]
  },
  {
   "cell_type": "code",
   "execution_count": 541,
   "id": "5d3b4b96",
   "metadata": {},
   "outputs": [
    {
     "name": "stdout",
     "output_type": "stream",
     "text": [
      "First reviwer's name: sid\n",
      "Second reviwer's name: dogg\n",
      "First reviewer's name: sid\n",
      "Second reviewer's name: dogg\n",
      "The cohen_kappa_score for sid and dogg is: 0.0\n"
     ]
    }
   ],
   "source": [
    "sid_dogg = create_table(sid, dogg, all_data)\n",
    "calculate_cohen(sid_dogg)"
   ]
  },
  {
   "cell_type": "code",
   "execution_count": 644,
   "id": "7c8d3711",
   "metadata": {},
   "outputs": [
    {
     "name": "stdout",
     "output_type": "stream",
     "text": [
      "First reviewer's name: sid\n",
      "Second reviewer's name: dogg\n"
     ]
    }
   ],
   "source": [
    "new_sid_dogg = create_kappa_table(sid_dogg)\n",
    "new_sid_dogg.to_csv(\"./sid_dogg.csv\")"
   ]
  },
  {
   "cell_type": "code",
   "execution_count": 542,
   "id": "dc1aeee9",
   "metadata": {},
   "outputs": [
    {
     "name": "stdout",
     "output_type": "stream",
     "text": [
      "First reviwer's name: sid\n",
      "Second reviwer's name: bfa\n",
      "First reviewer's name: sid\n",
      "Second reviewer's name: bfa\n",
      "The cohen_kappa_score for sid and bfa is: -0.8000000000000003\n"
     ]
    }
   ],
   "source": [
    "sid_bfa = create_table(sid, bfa, all_data)\n",
    "calculate_cohen(sid_bfa)"
   ]
  },
  {
   "cell_type": "code",
   "execution_count": 543,
   "id": "455e5d92",
   "metadata": {},
   "outputs": [
    {
     "name": "stdout",
     "output_type": "stream",
     "text": [
      "First reviwer's name: sid\n",
      "Second reviwer's name: pascal\n",
      "First reviewer's name: sid\n",
      "Second reviewer's name: pascal\n",
      "The cohen_kappa_score for sid and pascal is: -0.125\n"
     ]
    }
   ],
   "source": [
    "sid_pascal = create_table(sid, pascal, all_data)\n",
    "calculate_cohen(sid_pascal)"
   ]
  },
  {
   "cell_type": "code",
   "execution_count": 645,
   "id": "e0056a05",
   "metadata": {},
   "outputs": [
    {
     "name": "stdout",
     "output_type": "stream",
     "text": [
      "First reviewer's name: sid\n",
      "Second reviewer's name: pascal\n"
     ]
    }
   ],
   "source": [
    "new_sid_pascal = create_kappa_table(sid_pascal)\n",
    "new_sid_pascal.to_csv(\"./sid_pascal.csv\")"
   ]
  },
  {
   "cell_type": "code",
   "execution_count": 17,
   "id": "737ac731",
   "metadata": {},
   "outputs": [
    {
     "data": {
      "image/png": "[encoded data removed]",
      "text/plain": [
       "<Figure size 432x288 with 1 Axes>"
      ]
     },
     "metadata": {
      "needs_background": "light"
     },
     "output_type": "display_data"
    }
   ],
   "source": [
    "plt.title(\"A correlation of Sid and other reviewers by Cohen-kappa\")\n",
    "plt.bar([\"Fizzy\", \"Dogg\", \"BFA\", \"Pascal\"], [0.337, 0, -0.8, -0.125])\n",
    "plt.grid()\n",
    "plt.show()"
   ]
  },
  {
   "cell_type": "markdown",
   "id": "e1d86c30",
   "metadata": {},
   "source": [
    "## DOGG"
   ]
  },
  {
   "cell_type": "code",
   "execution_count": 544,
   "id": "7f9d306d",
   "metadata": {},
   "outputs": [
    {
     "name": "stdout",
     "output_type": "stream",
     "text": [
      "First reviwer's name: dogg\n",
      "Second reviwer's name: emmanuel\n",
      "First reviewer's name: dogg\n",
      "Second reviewer's name: emmanuel\n",
      "The cohen_kappa_score for dogg and emmanuel is: 1.0\n"
     ]
    }
   ],
   "source": [
    "dogg_emmanuel = create_table(dogg, emmanuel, all_data)\n",
    "calculate_cohen(dogg_emmanuel)"
   ]
  },
  {
   "cell_type": "code",
   "execution_count": 646,
   "id": "0c559ee5",
   "metadata": {},
   "outputs": [
    {
     "name": "stdout",
     "output_type": "stream",
     "text": [
      "First reviewer's name: dogg\n",
      "Second reviewer's name: emmanuel\n"
     ]
    }
   ],
   "source": [
    "new_dogg_emmanuel = create_kappa_table(dogg_emmanuel)\n",
    "new_dogg_emmanuel.to_csv(\"./dogg_emmanuel.csv\")"
   ]
  },
  {
   "cell_type": "code",
   "execution_count": 545,
   "id": "6b3604e7",
   "metadata": {},
   "outputs": [
    {
     "name": "stdout",
     "output_type": "stream",
     "text": [
      "First reviwer's name: dogg\n",
      "Second reviwer's name: pavel\n",
      "First reviewer's name: dogg\n",
      "Second reviewer's name: pavel\n",
      "The cohen_kappa_score for dogg and pavel is: 0.0\n"
     ]
    }
   ],
   "source": [
    "dogg_pavel = create_table(dogg, pavel, all_data)\n",
    "calculate_cohen(dogg_pavel)"
   ]
  },
  {
   "cell_type": "code",
   "execution_count": 546,
   "id": "14bda8f2",
   "metadata": {},
   "outputs": [
    {
     "name": "stdout",
     "output_type": "stream",
     "text": [
      "First reviwer's name: dogg\n",
      "Second reviwer's name: jammie\n",
      "First reviewer's name: dogg\n",
      "Second reviewer's name: jammie\n",
      "The cohen_kappa_score for dogg and jammie is: 0.0\n"
     ]
    }
   ],
   "source": [
    "dogg_jammie = create_table(dogg, jammie, all_data)\n",
    "calculate_cohen(dogg_jammie)"
   ]
  },
  {
   "cell_type": "code",
   "execution_count": 547,
   "id": "f1f21b31",
   "metadata": {},
   "outputs": [
    {
     "name": "stdout",
     "output_type": "stream",
     "text": [
      "First reviwer's name: dogg\n",
      "Second reviwer's name: chance\n",
      "First reviewer's name: dogg\n",
      "Second reviewer's name: chance\n",
      "The cohen_kappa_score for dogg and chance is: 0.19999999999999996\n"
     ]
    }
   ],
   "source": [
    "dogg_chance = create_table(dogg, chance, all_data)\n",
    "calculate_cohen(dogg_chance)"
   ]
  },
  {
   "cell_type": "code",
   "execution_count": 647,
   "id": "3e57ca60",
   "metadata": {},
   "outputs": [
    {
     "name": "stdout",
     "output_type": "stream",
     "text": [
      "First reviewer's name: dogg\n",
      "Second reviewer's name: chance\n"
     ]
    }
   ],
   "source": [
    "new_dogg_chance = create_kappa_table(dogg_chance)\n",
    "new_dogg_chance.to_csv(\"./dogg_chance.csv\")"
   ]
  },
  {
   "cell_type": "code",
   "execution_count": 548,
   "id": "a71590f4",
   "metadata": {},
   "outputs": [
    {
     "name": "stdout",
     "output_type": "stream",
     "text": [
      "First reviwer's name: dogg\n",
      "Second reviwer's name: sid\n",
      "First reviewer's name: dogg\n",
      "Second reviewer's name: sid\n",
      "The cohen_kappa_score for dogg and sid is: 0.0\n"
     ]
    }
   ],
   "source": [
    "dogg_sid = create_table(dogg, sid, all_data)\n",
    "calculate_cohen(dogg_sid)"
   ]
  },
  {
   "cell_type": "code",
   "execution_count": 549,
   "id": "2c54006d",
   "metadata": {},
   "outputs": [
    {
     "name": "stdout",
     "output_type": "stream",
     "text": [
      "First reviwer's name: fizzy\n",
      "Second reviwer's name: dogg\n",
      "First reviewer's name: fizzy\n",
      "Second reviewer's name: dogg\n",
      "The cohen_kappa_score for fizzy and dogg is: 1.0\n"
     ]
    }
   ],
   "source": [
    "dogg_fizzy = create_table(dogg, fizzy, all_data)\n",
    "calculate_cohen(dogg_fizzy)"
   ]
  },
  {
   "cell_type": "code",
   "execution_count": 550,
   "id": "a04cd20c",
   "metadata": {},
   "outputs": [
    {
     "name": "stdout",
     "output_type": "stream",
     "text": [
      "First reviwer's name: dogg\n",
      "Second reviwer's name: am\n",
      "First reviewer's name: dogg\n",
      "Second reviewer's name: am\n",
      "The cohen_kappa_score for dogg and am is: 0.0\n"
     ]
    }
   ],
   "source": [
    "dogg_am = create_table(dogg, am, all_data)\n",
    "calculate_cohen(dogg_am)"
   ]
  },
  {
   "cell_type": "code",
   "execution_count": 648,
   "id": "52217077",
   "metadata": {},
   "outputs": [
    {
     "name": "stdout",
     "output_type": "stream",
     "text": [
      "First reviewer's name: dogg\n",
      "Second reviewer's name: am\n"
     ]
    }
   ],
   "source": [
    "new_dogg_am = create_kappa_table(dogg_am)\n",
    "new_dogg_am.to_csv(\"./dogg_am.csv\")"
   ]
  },
  {
   "cell_type": "code",
   "execution_count": 18,
   "id": "3f056d42",
   "metadata": {},
   "outputs": [
    {
     "data": {
      "image/png": "[encoded data removed]",
      "text/plain": [
       "<Figure size 432x288 with 1 Axes>"
      ]
     },
     "metadata": {
      "needs_background": "light"
     },
     "output_type": "display_data"
    }
   ],
   "source": [
    "plt.title(\"A correlation of Dogg and other reviewers by Cohen-kappa\")\n",
    "plt.bar([\"Emmanuel\", \"Pavel\", \"Jammie\", \"Chance\", \"Sid\", \"Dogg\", \"Am\"], [1, 0, 0, 0.199, 0, 1, 0])\n",
    "plt.grid()\n",
    "plt.show()"
   ]
  },
  {
   "cell_type": "markdown",
   "id": "710c5d57",
   "metadata": {},
   "source": [
    "## ANN"
   ]
  },
  {
   "cell_type": "code",
   "execution_count": 553,
   "id": "c1007db1",
   "metadata": {},
   "outputs": [
    {
     "name": "stdout",
     "output_type": "stream",
     "text": [
      "First reviwer's name: ann\n",
      "Second reviwer's name: pavel\n",
      "First reviewer's name: ann\n",
      "Second reviewer's name: pavel\n",
      "The cohen_kappa_score for ann and pavel is: nan\n"
     ]
    },
    {
     "name": "stderr",
     "output_type": "stream",
     "text": [
      "C:\\Users\\user\\AppData\\Roaming\\Python\\Python37\\site-packages\\sklearn\\metrics\\_classification.py:658: RuntimeWarning: invalid value encountered in true_divide\n",
      "  k = np.sum(w_mat * confusion) / np.sum(w_mat * expected)\n"
     ]
    }
   ],
   "source": [
    "ann_pavel = create_table(ann, pavel, all_data)\n",
    "calculate_cohen(ann_pavel)"
   ]
  },
  {
   "cell_type": "code",
   "execution_count": 555,
   "id": "afbebf8e",
   "metadata": {},
   "outputs": [
    {
     "name": "stdout",
     "output_type": "stream",
     "text": [
      "First reviwer's name: ann\n",
      "Second reviwer's name: am\n",
      "First reviewer's name: ann\n",
      "Second reviewer's name: am\n",
      "The cohen_kappa_score for ann and am is: 0.0\n"
     ]
    }
   ],
   "source": [
    "ann_am = create_table(ann, am, all_data)\n",
    "calculate_cohen(ann_am)"
   ]
  },
  {
   "cell_type": "code",
   "execution_count": 649,
   "id": "76076b55",
   "metadata": {},
   "outputs": [
    {
     "name": "stdout",
     "output_type": "stream",
     "text": [
      "First reviewer's name: ann\n",
      "Second reviewer's name: am\n"
     ]
    }
   ],
   "source": [
    "new_ann_am = create_kappa_table(ann_am)\n",
    "new_ann_am.to_csv(\"./ann_am.csv\")"
   ]
  },
  {
   "cell_type": "code",
   "execution_count": 19,
   "id": "6d996102",
   "metadata": {},
   "outputs": [
    {
     "data": {
      "image/png": "[encoded data removed]",
      "text/plain": [
       "<Figure size 432x288 with 1 Axes>"
      ]
     },
     "metadata": {
      "needs_background": "light"
     },
     "output_type": "display_data"
    }
   ],
   "source": [
    "plt.title(\"A correlation of Ann and other reviewers by Cohen-kappa\")\n",
    "plt.bar([\"Am\"], [0])\n",
    "plt.grid()\n",
    "plt.show()"
   ]
  },
  {
   "cell_type": "markdown",
   "id": "87cb6976",
   "metadata": {},
   "source": [
    "## CHANCE"
   ]
  },
  {
   "cell_type": "code",
   "execution_count": 557,
   "id": "405b519c",
   "metadata": {},
   "outputs": [
    {
     "name": "stdout",
     "output_type": "stream",
     "text": [
      "First reviwer's name: chance\n",
      "Second reviwer's name: dries\n",
      "First reviewer's name: chance\n",
      "Second reviewer's name: dries\n",
      "The cohen_kappa_score for chance and dries is: 0.5\n"
     ]
    }
   ],
   "source": [
    "chance_dries = create_table(chance, dries, all_data)\n",
    "calculate_cohen(chance_dries)"
   ]
  },
  {
   "cell_type": "code",
   "execution_count": null,
   "id": "efa4b59c",
   "metadata": {},
   "outputs": [],
   "source": []
  },
  {
   "cell_type": "code",
   "execution_count": 558,
   "id": "62db3fcb",
   "metadata": {},
   "outputs": [
    {
     "name": "stdout",
     "output_type": "stream",
     "text": [
      "First reviwer's name: chance\n",
      "Second reviwer's name: dogg\n",
      "First reviewer's name: chance\n",
      "Second reviewer's name: dogg\n",
      "The cohen_kappa_score for chance and dogg is: 0.19999999999999996\n"
     ]
    }
   ],
   "source": [
    "chance_dogg = create_table(chance, dogg, all_data)\n",
    "calculate_cohen(chance_dogg)"
   ]
  },
  {
   "cell_type": "code",
   "execution_count": 20,
   "id": "93960db2",
   "metadata": {},
   "outputs": [
    {
     "data": {
      "image/png": "[encoded data removed]",
      "text/plain": [
       "<Figure size 432x288 with 1 Axes>"
      ]
     },
     "metadata": {
      "needs_background": "light"
     },
     "output_type": "display_data"
    }
   ],
   "source": [
    "plt.title(\"A correlation of Chance and other reviewers by Cohen-kappa\")\n",
    "plt.bar([\"Dries\", \"Dogg\"], [0.5, 0.199])\n",
    "plt.grid()\n",
    "plt.show()"
   ]
  },
  {
   "cell_type": "markdown",
   "id": "918f57ea",
   "metadata": {},
   "source": [
    "## AM"
   ]
  },
  {
   "cell_type": "code",
   "execution_count": 559,
   "id": "a40e743c",
   "metadata": {},
   "outputs": [
    {
     "name": "stdout",
     "output_type": "stream",
     "text": [
      "First reviwer's name: am\n",
      "Second reviwer's name: dries\n",
      "First reviewer's name: am\n",
      "Second reviewer's name: dries\n",
      "The cohen_kappa_score for am and dries is: 0.3999999999999999\n"
     ]
    }
   ],
   "source": [
    "am_dries = create_table(am, dries, all_data)\n",
    "calculate_cohen(am_dries)"
   ]
  },
  {
   "cell_type": "code",
   "execution_count": 560,
   "id": "1907dc12",
   "metadata": {},
   "outputs": [
    {
     "name": "stdout",
     "output_type": "stream",
     "text": [
      "First reviwer's name: am\n",
      "Second reviwer's name: zerb\n",
      "First reviewer's name: am\n",
      "Second reviewer's name: zerb\n",
      "The cohen_kappa_score for am and zerb is: 0.11764705882352955\n"
     ]
    }
   ],
   "source": [
    "am_zerb = create_table(am, zerb, all_data)\n",
    "calculate_cohen(am_zerb)"
   ]
  },
  {
   "cell_type": "code",
   "execution_count": 561,
   "id": "d951fddd",
   "metadata": {},
   "outputs": [
    {
     "name": "stdout",
     "output_type": "stream",
     "text": [
      "First reviwer's name: am\n",
      "Second reviwer's name: bfa\n",
      "First reviewer's name: am\n",
      "Second reviewer's name: bfa\n",
      "The cohen_kappa_score for am and bfa is: -0.8000000000000003\n"
     ]
    }
   ],
   "source": [
    "am_bfa = create_table(am, bfa, all_data)\n",
    "calculate_cohen(am_bfa)"
   ]
  },
  {
   "cell_type": "code",
   "execution_count": 562,
   "id": "589bbfd4",
   "metadata": {},
   "outputs": [
    {
     "name": "stdout",
     "output_type": "stream",
     "text": [
      "First reviwer's name: am\n",
      "Second reviwer's name: pavel\n",
      "First reviewer's name: am\n",
      "Second reviewer's name: pavel\n",
      "The cohen_kappa_score for am and pavel is: 0.0\n"
     ]
    }
   ],
   "source": [
    "am_pavel = create_table(am, pavel, all_data)\n",
    "calculate_cohen(am_pavel)"
   ]
  },
  {
   "cell_type": "code",
   "execution_count": 563,
   "id": "fda27e53",
   "metadata": {},
   "outputs": [
    {
     "name": "stdout",
     "output_type": "stream",
     "text": [
      "First reviwer's name: am\n",
      "Second reviwer's name: ann\n",
      "First reviewer's name: am\n",
      "Second reviewer's name: ann\n",
      "The cohen_kappa_score for am and ann is: 0.0\n"
     ]
    }
   ],
   "source": [
    "am_ann = create_table(am, ann, all_data)\n",
    "calculate_cohen(am_ann)"
   ]
  },
  {
   "cell_type": "code",
   "execution_count": 564,
   "id": "4ca93061",
   "metadata": {},
   "outputs": [
    {
     "name": "stdout",
     "output_type": "stream",
     "text": [
      "First reviwer's name: am\n",
      "Second reviwer's name: dogg\n",
      "First reviewer's name: am\n",
      "Second reviewer's name: dogg\n",
      "The cohen_kappa_score for am and dogg is: 0.0\n"
     ]
    }
   ],
   "source": [
    "am_dogg = create_table(am, dogg, all_data)\n",
    "calculate_cohen(am_dogg)"
   ]
  },
  {
   "cell_type": "code",
   "execution_count": 565,
   "id": "6cd35c3c",
   "metadata": {},
   "outputs": [
    {
     "name": "stdout",
     "output_type": "stream",
     "text": [
      "First reviwer's name: am\n",
      "Second reviwer's name: joe\n",
      "First reviewer's name: am\n",
      "Second reviewer's name: joe\n",
      "The cohen_kappa_score for am and joe is: 0.0\n"
     ]
    }
   ],
   "source": [
    "am_joe = create_table(am, joe, all_data)\n",
    "calculate_cohen(am_joe)"
   ]
  },
  {
   "cell_type": "code",
   "execution_count": 566,
   "id": "c6c323fc",
   "metadata": {},
   "outputs": [
    {
     "name": "stdout",
     "output_type": "stream",
     "text": [
      "First reviwer's name: am\n",
      "Second reviwer's name: emmanuel\n",
      "First reviewer's name: am\n",
      "Second reviewer's name: emmanuel\n",
      "The cohen_kappa_score for am and emmanuel is: 0.0\n"
     ]
    }
   ],
   "source": [
    "am_emmanuel = create_table(am, emmanuel, all_data)\n",
    "calculate_cohen(am_emmanuel)"
   ]
  },
  {
   "cell_type": "code",
   "execution_count": 650,
   "id": "26f58374",
   "metadata": {},
   "outputs": [
    {
     "name": "stdout",
     "output_type": "stream",
     "text": [
      "First reviewer's name: am\n",
      "Second reviewer's name: emmanuel\n"
     ]
    }
   ],
   "source": [
    "new_am_emmanuel = create_kappa_table(am_emmanuel)\n",
    "new_am_emmanuel.to_csv(\"./am_emmanuel.csv\")"
   ]
  },
  {
   "cell_type": "code",
   "execution_count": 567,
   "id": "f1801477",
   "metadata": {},
   "outputs": [
    {
     "name": "stdout",
     "output_type": "stream",
     "text": [
      "First reviwer's name: am\n",
      "Second reviwer's name: greg\n",
      "First reviewer's name: am\n",
      "Second reviewer's name: greg\n",
      "The cohen_kappa_score for am and greg is: 0.0\n"
     ]
    }
   ],
   "source": [
    "am_greg = create_table(am, greg, all_data)\n",
    "calculate_cohen(am_greg)"
   ]
  },
  {
   "cell_type": "code",
   "execution_count": 651,
   "id": "7da02a8f",
   "metadata": {},
   "outputs": [
    {
     "name": "stdout",
     "output_type": "stream",
     "text": [
      "First reviewer's name: am\n",
      "Second reviewer's name: greg\n"
     ]
    }
   ],
   "source": [
    "new_am_greg = create_kappa_table(am_greg)\n",
    "new_am_greg.to_csv(\"./am_greg.csv\")"
   ]
  },
  {
   "cell_type": "code",
   "execution_count": 30,
   "id": "973c02db",
   "metadata": {},
   "outputs": [
    {
     "data": {
      "image/png": "[encoded data removed]",
      "text/plain": [
       "<Figure size 432x288 with 1 Axes>"
      ]
     },
     "metadata": {},
     "output_type": "display_data"
    }
   ],
   "source": [
    "plt.title(\"A correlation of Am and other reviewers by Cohen-kappa\")\n",
    "sns.set(rc={'axes.facecolor':'black', 'figure.facecolor':'white'})\n",
    "plt.bar([\"Dries\", \"Zerb\", \"BFA\", \"Pavel\", \"Ann\", \"Joe\"], [0.399, 0.118, -0.8, 0, 0, 0])\n",
    "plt.grid()\n",
    "plt.show()"
   ]
  },
  {
   "cell_type": "markdown",
   "id": "dfe36d9a",
   "metadata": {},
   "source": [
    "## MOUNT"
   ]
  },
  {
   "cell_type": "code",
   "execution_count": 568,
   "id": "c5373b68",
   "metadata": {},
   "outputs": [
    {
     "name": "stdout",
     "output_type": "stream",
     "text": [
      "First reviwer's name: mount\n",
      "Second reviwer's name: lkh\n",
      "First reviewer's name: mount\n",
      "Second reviewer's name: lkh\n",
      "The cohen_kappa_score for mount and lkh is: 1.0\n"
     ]
    }
   ],
   "source": [
    "mount_lkh = create_table(mount, lkh, all_data)\n",
    "calculate_cohen(mount_lkh)"
   ]
  },
  {
   "cell_type": "code",
   "execution_count": 569,
   "id": "ce5a05bb",
   "metadata": {},
   "outputs": [
    {
     "name": "stdout",
     "output_type": "stream",
     "text": [
      "First reviwer's name: mount\n",
      "Second reviwer's name: zerb\n",
      "First reviewer's name: mount\n",
      "Second reviewer's name: zerb\n",
      "The cohen_kappa_score for mount and zerb is: 0.0\n"
     ]
    }
   ],
   "source": [
    "mount_zerb = create_table(mount, zerb, all_data)\n",
    "calculate_cohen(mount_zerb)"
   ]
  },
  {
   "cell_type": "code",
   "execution_count": 570,
   "id": "17d9a941",
   "metadata": {},
   "outputs": [
    {
     "name": "stdout",
     "output_type": "stream",
     "text": [
      "First reviwer's name: mount\n",
      "Second reviwer's name: jammie\n",
      "First reviewer's name: mount\n",
      "Second reviewer's name: jammie\n",
      "The cohen_kappa_score for mount and jammie is: 0.0\n"
     ]
    }
   ],
   "source": [
    "mount_jammie = create_table(mount, jammie, all_data)\n",
    "calculate_cohen(mount_jammie)"
   ]
  },
  {
   "cell_type": "code",
   "execution_count": 571,
   "id": "84984acb",
   "metadata": {},
   "outputs": [
    {
     "name": "stdout",
     "output_type": "stream",
     "text": [
      "First reviwer's name: mount\n",
      "Second reviwer's name: walter\n",
      "First reviewer's name: mount\n",
      "Second reviewer's name: walter\n",
      "The cohen_kappa_score for mount and walter is: 1.0\n"
     ]
    }
   ],
   "source": [
    "mount_walter = create_table(mount, walter, all_data)\n",
    "calculate_cohen(mount_walter)"
   ]
  },
  {
   "cell_type": "code",
   "execution_count": 572,
   "id": "32ab9341",
   "metadata": {},
   "outputs": [
    {
     "name": "stdout",
     "output_type": "stream",
     "text": [
      "First reviwer's name: mount\n",
      "Second reviwer's name: chance\n",
      "First reviewer's name: mount\n",
      "Second reviewer's name: chance\n",
      "The cohen_kappa_score for mount and chance is: 1.0\n"
     ]
    }
   ],
   "source": [
    "mount_chance = create_table(mount, chance, all_data)\n",
    "calculate_cohen(mount_chance)"
   ]
  },
  {
   "cell_type": "code",
   "execution_count": 653,
   "id": "8c1c6e4d",
   "metadata": {},
   "outputs": [
    {
     "name": "stdout",
     "output_type": "stream",
     "text": [
      "First reviewer's name: mount\n",
      "Second reviewer's name: chance\n"
     ]
    }
   ],
   "source": [
    "new_mount_chance = create_kappa_table(mount_chance)\n",
    "new_mount_chance.to_csv(\"./mount_chance.csv\")"
   ]
  },
  {
   "cell_type": "code",
   "execution_count": 573,
   "id": "5ff79f0d",
   "metadata": {},
   "outputs": [
    {
     "name": "stdout",
     "output_type": "stream",
     "text": [
      "First reviwer's name: mount\n",
      "Second reviwer's name: sid\n",
      "First reviewer's name: mount\n",
      "Second reviewer's name: sid\n",
      "The cohen_kappa_score for mount and sid is: 1.0\n"
     ]
    }
   ],
   "source": [
    "mount_sid = create_table(mount, sid, all_data)\n",
    "calculate_cohen(mount_sid)"
   ]
  },
  {
   "cell_type": "code",
   "execution_count": 654,
   "id": "3af615e4",
   "metadata": {},
   "outputs": [
    {
     "name": "stdout",
     "output_type": "stream",
     "text": [
      "First reviewer's name: mount\n",
      "Second reviewer's name: sid\n"
     ]
    }
   ],
   "source": [
    "new_mount_sid = create_kappa_table(mount_sid)\n",
    "new_mount_sid.to_csv(\"./mount_sid.csv\")"
   ]
  },
  {
   "cell_type": "code",
   "execution_count": 574,
   "id": "0413fd54",
   "metadata": {},
   "outputs": [
    {
     "name": "stdout",
     "output_type": "stream",
     "text": [
      "First reviwer's name: mount\n",
      "Second reviwer's name: joe\n"
     ]
    },
    {
     "data": {
      "text/html": [
       "<div>\n",
       "<style scoped>\n",
       "    .dataframe tbody tr th:only-of-type {\n",
       "        vertical-align: middle;\n",
       "    }\n",
       "\n",
       "    .dataframe tbody tr th {\n",
       "        vertical-align: top;\n",
       "    }\n",
       "\n",
       "    .dataframe thead th {\n",
       "        text-align: right;\n",
       "    }\n",
       "</style>\n",
       "<table border=\"1\" class=\"dataframe\">\n",
       "  <thead>\n",
       "    <tr style=\"text-align: right;\">\n",
       "      <th></th>\n",
       "      <th>Handles</th>\n",
       "      <th>Is Sybil_joe</th>\n",
       "      <th>Is Sybil_mount</th>\n",
       "      <th>Confidence_joe</th>\n",
       "      <th>Confidence_mount</th>\n",
       "      <th>Notes_joe</th>\n",
       "      <th>Notes_mount</th>\n",
       "    </tr>\n",
       "  </thead>\n",
       "  <tbody>\n",
       "    <tr>\n",
       "      <th>0</th>\n",
       "      <td>ffdouble</td>\n",
       "      <td>NaN</td>\n",
       "      <td>F</td>\n",
       "      <td>NaN</td>\n",
       "      <td>high</td>\n",
       "      <td>NaN</td>\n",
       "      <td>Many donations of different amounts</td>\n",
       "    </tr>\n",
       "    <tr>\n",
       "      <th>1</th>\n",
       "      <td>svskrpz</td>\n",
       "      <td>NaN</td>\n",
       "      <td>T</td>\n",
       "      <td>NaN</td>\n",
       "      <td>high</td>\n",
       "      <td>NaN</td>\n",
       "      <td>New Github account and its 6 contributions hav...</td>\n",
       "    </tr>\n",
       "  </tbody>\n",
       "</table>\n",
       "</div>"
      ],
      "text/plain": [
       "    Handles Is Sybil_joe Is Sybil_mount Confidence_joe Confidence_mount  \\\n",
       "0  ffdouble          NaN              F            NaN             high   \n",
       "1   svskrpz          NaN              T            NaN             high   \n",
       "\n",
       "  Notes_joe                                        Notes_mount  \n",
       "0       NaN                Many donations of different amounts  \n",
       "1       NaN  New Github account and its 6 contributions hav...  "
      ]
     },
     "execution_count": 574,
     "metadata": {},
     "output_type": "execute_result"
    }
   ],
   "source": [
    "mount_joe = create_table(mount, joe, all_data)\n",
    "mount_joe"
   ]
  },
  {
   "cell_type": "code",
   "execution_count": 23,
   "id": "42933b21",
   "metadata": {},
   "outputs": [
    {
     "data": {
      "image/png": "[encoded data removed]",
      "text/plain": [
       "<Figure size 432x288 with 1 Axes>"
      ]
     },
     "metadata": {
      "needs_background": "light"
     },
     "output_type": "display_data"
    }
   ],
   "source": [
    "plt.title(\"A correlation of Mount and other reviewers by Cohen-kappa\")\n",
    "plt.bar([\"LKH\", \"Zerb\", \"Jammie\", \"Walter\", \"Chance\", \"Sid\"], [1, 0, 0, 1, 1, 1])\n",
    "plt.grid()\n",
    "plt.show()"
   ]
  },
  {
   "cell_type": "markdown",
   "id": "23bace6b",
   "metadata": {},
   "source": [
    "## VIK"
   ]
  },
  {
   "cell_type": "code",
   "execution_count": 576,
   "id": "ab7d7f8a",
   "metadata": {},
   "outputs": [
    {
     "name": "stdout",
     "output_type": "stream",
     "text": [
      "First reviwer's name: vik\n",
      "Second reviwer's name: ann\n",
      "First reviewer's name: vik\n",
      "Second reviewer's name: ann\n",
      "The cohen_kappa_score for vik and ann is: 1.0\n"
     ]
    }
   ],
   "source": [
    "vik_ann = create_table(vik, ann, all_data)\n",
    "calculate_cohen(vik_ann)"
   ]
  },
  {
   "cell_type": "code",
   "execution_count": 655,
   "id": "61680a33",
   "metadata": {},
   "outputs": [
    {
     "name": "stdout",
     "output_type": "stream",
     "text": [
      "First reviewer's name: vik\n",
      "Second reviewer's name: ann\n"
     ]
    }
   ],
   "source": [
    "new_vik_ann = create_kappa_table(vik_ann)\n",
    "new_vik_ann.to_csv(\"./vik_ann.csv\")"
   ]
  },
  {
   "cell_type": "code",
   "execution_count": 578,
   "id": "79792dc8",
   "metadata": {},
   "outputs": [
    {
     "name": "stdout",
     "output_type": "stream",
     "text": [
      "First reviwer's name: vik\n",
      "Second reviwer's name: chance\n"
     ]
    },
    {
     "data": {
      "text/html": [
       "<div>\n",
       "<style scoped>\n",
       "    .dataframe tbody tr th:only-of-type {\n",
       "        vertical-align: middle;\n",
       "    }\n",
       "\n",
       "    .dataframe tbody tr th {\n",
       "        vertical-align: top;\n",
       "    }\n",
       "\n",
       "    .dataframe thead th {\n",
       "        text-align: right;\n",
       "    }\n",
       "</style>\n",
       "<table border=\"1\" class=\"dataframe\">\n",
       "  <thead>\n",
       "    <tr style=\"text-align: right;\">\n",
       "      <th></th>\n",
       "      <th>Handles</th>\n",
       "      <th>Is Sybil_chance</th>\n",
       "      <th>Is Sybil_vik</th>\n",
       "      <th>Confidence_chance</th>\n",
       "      <th>Confidence_vik</th>\n",
       "      <th>Notes_chance</th>\n",
       "      <th>Notes_vik</th>\n",
       "    </tr>\n",
       "  </thead>\n",
       "  <tbody>\n",
       "    <tr>\n",
       "      <th>0</th>\n",
       "      <td>ganhaa</td>\n",
       "      <td>F</td>\n",
       "      <td>NaN</td>\n",
       "      <td>so-so</td>\n",
       "      <td>NaN</td>\n",
       "      <td>lots of grant contributions over several round...</td>\n",
       "      <td>NaN</td>\n",
       "    </tr>\n",
       "    <tr>\n",
       "      <th>1</th>\n",
       "      <td>owtawa</td>\n",
       "      <td>T</td>\n",
       "      <td>NaN</td>\n",
       "      <td>so-so</td>\n",
       "      <td>NaN</td>\n",
       "      <td>new gitcoin, new github, no activity at all</td>\n",
       "      <td>NaN</td>\n",
       "    </tr>\n",
       "  </tbody>\n",
       "</table>\n",
       "</div>"
      ],
      "text/plain": [
       "  Handles Is Sybil_chance Is Sybil_vik Confidence_chance Confidence_vik  \\\n",
       "0  ganhaa               F          NaN             so-so            NaN   \n",
       "1  owtawa               T          NaN             so-so            NaN   \n",
       "\n",
       "                                        Notes_chance Notes_vik  \n",
       "0  lots of grant contributions over several round...       NaN  \n",
       "1        new gitcoin, new github, no activity at all       NaN  "
      ]
     },
     "execution_count": 578,
     "metadata": {},
     "output_type": "execute_result"
    }
   ],
   "source": [
    "vik_chance = create_table(vik, chance, all_data)\n",
    "vik_chance"
   ]
  },
  {
   "cell_type": "code",
   "execution_count": 595,
   "id": "eeaf2242",
   "metadata": {},
   "outputs": [
    {
     "name": "stdout",
     "output_type": "stream",
     "text": [
      "First reviwer's name: vik\n",
      "Second reviwer's name: walter\n",
      "First reviewer's name: vik\n",
      "Second reviewer's name: walter\n",
      "The cohen_kappa_score for vik and walter is: 1.0\n"
     ]
    }
   ],
   "source": [
    "vik_walter = create_table(vik, walter, all_data)\n",
    "calculate_cohen(vik_walter)"
   ]
  },
  {
   "cell_type": "code",
   "execution_count": 24,
   "id": "eba6fbb8",
   "metadata": {},
   "outputs": [
    {
     "data": {
      "image/png": "[encoded data removed]",
      "text/plain": [
       "<Figure size 432x288 with 1 Axes>"
      ]
     },
     "metadata": {
      "needs_background": "light"
     },
     "output_type": "display_data"
    }
   ],
   "source": [
    "plt.title(\"A correlation of Vik and other reviewers by Cohen-kappa\")\n",
    "plt.bar([\"Am\", \"Walter\"], [1,1])\n",
    "plt.grid()\n",
    "plt.show()"
   ]
  },
  {
   "cell_type": "markdown",
   "id": "bbf4f747",
   "metadata": {},
   "source": [
    "## EMMANUEL"
   ]
  },
  {
   "cell_type": "code",
   "execution_count": 579,
   "id": "dab25e1a",
   "metadata": {},
   "outputs": [
    {
     "name": "stdout",
     "output_type": "stream",
     "text": [
      "First reviwer's name: emmanuel\n",
      "Second reviwer's name: lkh\n",
      "First reviewer's name: emmanuel\n",
      "Second reviewer's name: lkh\n",
      "The cohen_kappa_score for emmanuel and lkh is: 1.0\n"
     ]
    }
   ],
   "source": [
    "emmanuel_lkh = create_table(emmanuel, lkh, all_data)\n",
    "calculate_cohen(emmanuel_lkh)"
   ]
  },
  {
   "cell_type": "code",
   "execution_count": 580,
   "id": "29c70b3f",
   "metadata": {},
   "outputs": [
    {
     "name": "stdout",
     "output_type": "stream",
     "text": [
      "First reviwer's name: emmanuel\n",
      "Second reviwer's name: dries\n",
      "First reviewer's name: emmanuel\n",
      "Second reviewer's name: dries\n",
      "The cohen_kappa_score for emmanuel and dries is: 1.0\n"
     ]
    }
   ],
   "source": [
    "emmanuel_dries = create_table(emmanuel, dries, all_data)\n",
    "calculate_cohen(emmanuel_dries)"
   ]
  },
  {
   "cell_type": "code",
   "execution_count": 583,
   "id": "452447a4",
   "metadata": {},
   "outputs": [
    {
     "name": "stdout",
     "output_type": "stream",
     "text": [
      "First reviwer's name: emmanuel\n",
      "Second reviwer's name: pascal\n"
     ]
    },
    {
     "data": {
      "text/html": [
       "<div>\n",
       "<style scoped>\n",
       "    .dataframe tbody tr th:only-of-type {\n",
       "        vertical-align: middle;\n",
       "    }\n",
       "\n",
       "    .dataframe tbody tr th {\n",
       "        vertical-align: top;\n",
       "    }\n",
       "\n",
       "    .dataframe thead th {\n",
       "        text-align: right;\n",
       "    }\n",
       "</style>\n",
       "<table border=\"1\" class=\"dataframe\">\n",
       "  <thead>\n",
       "    <tr style=\"text-align: right;\">\n",
       "      <th></th>\n",
       "      <th>Handles</th>\n",
       "      <th>Is Sybil_pascal</th>\n",
       "      <th>Is Sybil_emmanuel</th>\n",
       "      <th>Confidence_pascal</th>\n",
       "      <th>Confidence_emmanuel</th>\n",
       "      <th>Notes_pascal</th>\n",
       "      <th>Notes_emmanuel</th>\n",
       "    </tr>\n",
       "  </thead>\n",
       "  <tbody>\n",
       "    <tr>\n",
       "      <th>0</th>\n",
       "      <td>fanffu</td>\n",
       "      <td>NaN</td>\n",
       "      <td>F</td>\n",
       "      <td>NaN</td>\n",
       "      <td>so-so</td>\n",
       "      <td>NaN</td>\n",
       "      <td>Github is quite new, however gitcoin has some ...</td>\n",
       "    </tr>\n",
       "    <tr>\n",
       "      <th>1</th>\n",
       "      <td>jaxo4life</td>\n",
       "      <td>NaN</td>\n",
       "      <td>F</td>\n",
       "      <td>NaN</td>\n",
       "      <td>so-so</td>\n",
       "      <td>NaN</td>\n",
       "      <td>Little activities on github, but some activiti...</td>\n",
       "    </tr>\n",
       "    <tr>\n",
       "      <th>2</th>\n",
       "      <td>jupiterr-chen</td>\n",
       "      <td>NaN</td>\n",
       "      <td>F</td>\n",
       "      <td>NaN</td>\n",
       "      <td>so-so</td>\n",
       "      <td>NaN</td>\n",
       "      <td>Github account is quite old with some activity...</td>\n",
       "    </tr>\n",
       "    <tr>\n",
       "      <th>3</th>\n",
       "      <td>myxiao7</td>\n",
       "      <td>NaN</td>\n",
       "      <td>F</td>\n",
       "      <td>NaN</td>\n",
       "      <td>low</td>\n",
       "      <td>NaN</td>\n",
       "      <td>Though github account is quite old with some a...</td>\n",
       "    </tr>\n",
       "  </tbody>\n",
       "</table>\n",
       "</div>"
      ],
      "text/plain": [
       "         Handles Is Sybil_pascal Is Sybil_emmanuel Confidence_pascal  \\\n",
       "0         fanffu             NaN                 F               NaN   \n",
       "1      jaxo4life             NaN                 F               NaN   \n",
       "2  jupiterr-chen             NaN                 F               NaN   \n",
       "3        myxiao7             NaN                 F               NaN   \n",
       "\n",
       "  Confidence_emmanuel Notes_pascal  \\\n",
       "0               so-so          NaN   \n",
       "1               so-so          NaN   \n",
       "2               so-so          NaN   \n",
       "3                 low          NaN   \n",
       "\n",
       "                                      Notes_emmanuel  \n",
       "0  Github is quite new, however gitcoin has some ...  \n",
       "1  Little activities on github, but some activiti...  \n",
       "2  Github account is quite old with some activity...  \n",
       "3  Though github account is quite old with some a...  "
      ]
     },
     "execution_count": 583,
     "metadata": {},
     "output_type": "execute_result"
    }
   ],
   "source": [
    "emmanuel_pascal = create_table(emmanuel, pascal, all_data)\n",
    "emmanuel_pascal"
   ]
  },
  {
   "cell_type": "code",
   "execution_count": 584,
   "id": "096b96ec",
   "metadata": {},
   "outputs": [
    {
     "name": "stdout",
     "output_type": "stream",
     "text": [
      "First reviwer's name: emmanuel\n",
      "Second reviwer's name: dogg\n",
      "First reviewer's name: emmanuel\n",
      "Second reviewer's name: dogg\n",
      "The cohen_kappa_score for emmanuel and dogg is: 1.0\n"
     ]
    }
   ],
   "source": [
    "emmanuel_dogg = create_table(emmanuel, dogg, all_data)\n",
    "calculate_cohen(emmanuel_dogg)"
   ]
  },
  {
   "cell_type": "code",
   "execution_count": 585,
   "id": "875483e7",
   "metadata": {},
   "outputs": [
    {
     "name": "stdout",
     "output_type": "stream",
     "text": [
      "First reviwer's name: emmanuel\n",
      "Second reviwer's name: am\n",
      "First reviewer's name: emmanuel\n",
      "Second reviewer's name: am\n",
      "The cohen_kappa_score for emmanuel and am is: 0.0\n"
     ]
    }
   ],
   "source": [
    "emmanuel_am = create_table(emmanuel, am, all_data)\n",
    "calculate_cohen(emmanuel_am)"
   ]
  },
  {
   "cell_type": "code",
   "execution_count": 586,
   "id": "4ef9d4b1",
   "metadata": {},
   "outputs": [
    {
     "name": "stdout",
     "output_type": "stream",
     "text": [
      "First reviwer's name: emmanuel\n",
      "Second reviwer's name: greg\n",
      "First reviewer's name: emmanuel\n",
      "Second reviewer's name: greg\n",
      "The cohen_kappa_score for emmanuel and greg is: 0.0\n"
     ]
    }
   ],
   "source": [
    "emmanuel_greg = create_table(emmanuel, greg, all_data)\n",
    "calculate_cohen(emmanuel_greg)"
   ]
  },
  {
   "cell_type": "code",
   "execution_count": 656,
   "id": "7bdba4dc",
   "metadata": {},
   "outputs": [
    {
     "name": "stdout",
     "output_type": "stream",
     "text": [
      "First reviewer's name: emmanuel\n",
      "Second reviewer's name: greg\n"
     ]
    }
   ],
   "source": [
    "new_emmanuel_greg = create_kappa_table(emmanuel_greg)\n",
    "new_emmanuel_greg.to_csv(\"./emmanuel_greg.csv\")"
   ]
  },
  {
   "cell_type": "code",
   "execution_count": 25,
   "id": "b570beb1",
   "metadata": {},
   "outputs": [
    {
     "data": {
      "image/png": "[encoded data removed]",
      "text/plain": [
       "<Figure size 432x288 with 1 Axes>"
      ]
     },
     "metadata": {
      "needs_background": "light"
     },
     "output_type": "display_data"
    }
   ],
   "source": [
    "plt.title(\"A correlation of Emmanuel and other reviewers by Cohen-kappa\")\n",
    "plt.bar([\"LKH\", \"Dries\", \"Dogg\", \"Am\", \"Greg\"], [1, 1, 1,0, 0])\n",
    "plt.grid()\n",
    "plt.show()"
   ]
  },
  {
   "cell_type": "markdown",
   "id": "1fe88cf7",
   "metadata": {},
   "source": [
    "# GREG"
   ]
  },
  {
   "cell_type": "code",
   "execution_count": 587,
   "id": "81034938",
   "metadata": {},
   "outputs": [
    {
     "name": "stdout",
     "output_type": "stream",
     "text": [
      "First reviwer's name: greg\n",
      "Second reviwer's name: emmanuel\n",
      "First reviewer's name: greg\n",
      "Second reviewer's name: emmanuel\n",
      "The cohen_kappa_score for greg and emmanuel is: 0.0\n"
     ]
    }
   ],
   "source": [
    "greg_emmanuel = create_table(greg, emmanuel, all_data)\n",
    "calculate_cohen(greg_emmanuel)"
   ]
  },
  {
   "cell_type": "code",
   "execution_count": 589,
   "id": "68bfb7cd",
   "metadata": {},
   "outputs": [
    {
     "name": "stdout",
     "output_type": "stream",
     "text": [
      "First reviwer's name: greg\n",
      "Second reviwer's name: pavel\n",
      "First reviewer's name: greg\n",
      "Second reviewer's name: pavel\n",
      "The cohen_kappa_score for greg and pavel is: 0.0\n"
     ]
    }
   ],
   "source": [
    "greg_pavel = create_table(greg, pavel, all_data)\n",
    "calculate_cohen(greg_pavel)"
   ]
  },
  {
   "cell_type": "code",
   "execution_count": 591,
   "id": "c258a2a7",
   "metadata": {},
   "outputs": [
    {
     "name": "stdout",
     "output_type": "stream",
     "text": [
      "First reviwer's name: greg\n",
      "Second reviwer's name: joe\n"
     ]
    },
    {
     "data": {
      "text/html": [
       "<div>\n",
       "<style scoped>\n",
       "    .dataframe tbody tr th:only-of-type {\n",
       "        vertical-align: middle;\n",
       "    }\n",
       "\n",
       "    .dataframe tbody tr th {\n",
       "        vertical-align: top;\n",
       "    }\n",
       "\n",
       "    .dataframe thead th {\n",
       "        text-align: right;\n",
       "    }\n",
       "</style>\n",
       "<table border=\"1\" class=\"dataframe\">\n",
       "  <thead>\n",
       "    <tr style=\"text-align: right;\">\n",
       "      <th></th>\n",
       "      <th>Handles</th>\n",
       "      <th>Is Sybil_joe</th>\n",
       "      <th>Is Sybil_greg</th>\n",
       "      <th>Confidence_joe</th>\n",
       "      <th>Confidence_greg</th>\n",
       "      <th>Notes_joe</th>\n",
       "      <th>Notes_greg</th>\n",
       "    </tr>\n",
       "  </thead>\n",
       "  <tbody>\n",
       "    <tr>\n",
       "      <th>0</th>\n",
       "      <td>parappa1</td>\n",
       "      <td>NaN</td>\n",
       "      <td>T</td>\n",
       "      <td>NaN</td>\n",
       "      <td>so-so</td>\n",
       "      <td>NaN</td>\n",
       "      <td>inactivity</td>\n",
       "    </tr>\n",
       "    <tr>\n",
       "      <th>1</th>\n",
       "      <td>soroushosanlou</td>\n",
       "      <td>NaN</td>\n",
       "      <td>T</td>\n",
       "      <td>NaN</td>\n",
       "      <td>high</td>\n",
       "      <td>NaN</td>\n",
       "      <td>recent gitcoin profile, inactivity on github</td>\n",
       "    </tr>\n",
       "    <tr>\n",
       "      <th>2</th>\n",
       "      <td>svskrpz</td>\n",
       "      <td>NaN</td>\n",
       "      <td>T</td>\n",
       "      <td>NaN</td>\n",
       "      <td>high</td>\n",
       "      <td>NaN</td>\n",
       "      <td>recent profiles</td>\n",
       "    </tr>\n",
       "  </tbody>\n",
       "</table>\n",
       "</div>"
      ],
      "text/plain": [
       "          Handles Is Sybil_joe Is Sybil_greg Confidence_joe Confidence_greg  \\\n",
       "0        parappa1          NaN             T            NaN           so-so   \n",
       "1  soroushosanlou          NaN             T            NaN            high   \n",
       "2         svskrpz          NaN             T            NaN            high   \n",
       "\n",
       "  Notes_joe                                    Notes_greg  \n",
       "0       NaN                                    inactivity  \n",
       "1       NaN  recent gitcoin profile, inactivity on github  \n",
       "2       NaN                              recent profiles   "
      ]
     },
     "execution_count": 591,
     "metadata": {},
     "output_type": "execute_result"
    }
   ],
   "source": [
    "greg_joe = create_table(greg, joe, all_data)\n",
    "greg_joe"
   ]
  },
  {
   "cell_type": "code",
   "execution_count": 592,
   "id": "6cad0c76",
   "metadata": {},
   "outputs": [
    {
     "name": "stdout",
     "output_type": "stream",
     "text": [
      "First reviwer's name: greg\n",
      "Second reviwer's name: fizzy\n",
      "First reviewer's name: greg\n",
      "Second reviewer's name: fizzy\n",
      "The cohen_kappa_score for greg and fizzy is: 0.0\n"
     ]
    }
   ],
   "source": [
    "greg_fizzy = create_table(greg, fizzy, all_data)\n",
    "calculate_cohen(greg_fizzy)"
   ]
  },
  {
   "cell_type": "code",
   "execution_count": 593,
   "id": "a161d3a7",
   "metadata": {},
   "outputs": [
    {
     "name": "stdout",
     "output_type": "stream",
     "text": [
      "First reviwer's name: greg\n",
      "Second reviwer's name: am\n",
      "First reviewer's name: greg\n",
      "Second reviewer's name: am\n",
      "The cohen_kappa_score for greg and am is: 0.0\n"
     ]
    }
   ],
   "source": [
    "greg_am = create_table(greg, am, all_data)\n",
    "calculate_cohen(greg_am)"
   ]
  },
  {
   "cell_type": "code",
   "execution_count": 32,
   "id": "29a499f1",
   "metadata": {},
   "outputs": [
    {
     "data": {
      "image/png": "[encoded data removed]",
      "text/plain": [
       "<Figure size 432x288 with 1 Axes>"
      ]
     },
     "metadata": {},
     "output_type": "display_data"
    }
   ],
   "source": [
    "plt.title(\"A correlation of Greg and other reviewers by Cohen-kappa\")\n",
    "plt.bar([\"Emmanuel\", \"Dries\", \"Dogg\", \"Am\", \"Greg\"], [1, 1, 1, 0, 0])\n",
    "plt.grid()\n",
    "plt.show()"
   ]
  },
  {
   "cell_type": "code",
   "execution_count": 29,
   "id": "192fd6ad",
   "metadata": {},
   "outputs": [
    {
     "data": {
      "image/png": "[encoded data removed]",
      "text/plain": [
       "<Figure size 1080x432 with 2 Axes>"
      ]
     },
     "metadata": {},
     "output_type": "display_data"
    }
   ],
   "source": [
    "corr = pd.read_excel(\"./others/corr_file.xlsx\")\n",
    "import seaborn as sns\n",
    "# You can change the values here to your taste.\n",
    "plt.figure(figsize=(15,6))\n",
    "sns.set(rc={'axes.facecolor':'black', 'figure.facecolor':'white'})\n",
    "corr.rename({\"Unnamed: 0\": \" \"}, axis=1, inplace=True)\n",
    "sns.heatmap(corr.set_index(\" \"), annot=True)\n",
    "plt.show()"
   ]
  },
  {
   "cell_type": "code",
   "execution_count": null,
   "id": "b148da1f",
   "metadata": {},
   "outputs": [],
   "source": []
  },
  {
   "cell_type": "code",
   "execution_count": 13,
   "id": "c9b8fab6",
   "metadata": {},
   "outputs": [],
   "source": [
    "all_data = pd.DataFrame(columns = [\"Handles\", \"lkh\", \"dries\", \"david\", \"zerb\", \"bfa\", \"pascal\", \"pavel\", \"jammie\", \"walter\",\n",
    "                                  \"chance\", \"ann\", \"dogg\", \"sid\", \"joe\", \"fizzy\", \"am\", \"mount\", \"vik\", \"emmanuel\", \"greg\"])"
   ]
  },
  {
   "cell_type": "code",
   "execution_count": 14,
   "id": "d56d0efa",
   "metadata": {},
   "outputs": [
    {
     "ename": "NameError",
     "evalue": "name 'df' is not defined",
     "output_type": "error",
     "traceback": [
      "\u001b[1;31m---------------------------------------------------------------------------\u001b[0m",
      "\u001b[1;31mNameError\u001b[0m                                 Traceback (most recent call last)",
      "\u001b[1;32m~\\AppData\\Local\\Temp/ipykernel_16484/524794643.py\u001b[0m in \u001b[0;36m<module>\u001b[1;34m\u001b[0m\n\u001b[1;32m----> 1\u001b[1;33m \u001b[0mall_data\u001b[0m\u001b[1;33m.\u001b[0m\u001b[0mHandles\u001b[0m \u001b[1;33m=\u001b[0m\u001b[0mdf\u001b[0m\u001b[1;33m.\u001b[0m\u001b[0mHandle\u001b[0m\u001b[1;33m.\u001b[0m\u001b[0munique\u001b[0m\u001b[1;33m(\u001b[0m\u001b[1;33m)\u001b[0m\u001b[1;33m\u001b[0m\u001b[1;33m\u001b[0m\u001b[0m\n\u001b[0m",
      "\u001b[1;31mNameError\u001b[0m: name 'df' is not defined"
     ]
    }
   ],
   "source": [
    "all_data.Handles =df.Handle.unique()"
   ]
  },
  {
   "cell_type": "code",
   "execution_count": 139,
   "id": "7f87339c",
   "metadata": {},
   "outputs": [],
   "source": [
    "all_data.index = all_data.Handles"
   ]
  },
  {
   "cell_type": "code",
   "execution_count": 140,
   "id": "58b8d48f",
   "metadata": {
    "scrolled": true
   },
   "outputs": [],
   "source": [
    "all_data.drop(\"Handles\", axis=1, inplace=True)"
   ]
  },
  {
   "cell_type": "code",
   "execution_count": 129,
   "id": "9b2e14ab",
   "metadata": {},
   "outputs": [],
   "source": [
    "all_data.fillna(0, inplace=True)"
   ]
  },
  {
   "cell_type": "code",
   "execution_count": 130,
   "id": "d1352cee",
   "metadata": {},
   "outputs": [],
   "source": [
    "all_data.to_csv(\"./formatted_with_numbers_nona.csv\")"
   ]
  },
  {
   "cell_type": "code",
   "execution_count": 179,
   "id": "a4665a84",
   "metadata": {},
   "outputs": [
    {
     "data": {
      "text/plain": [
       "1"
      ]
     },
     "execution_count": 179,
     "metadata": {},
     "output_type": "execute_result"
    }
   ],
   "source": [
    "all_data[[\"pascal\",  \"lkh\"]].dropna(how=\"any\").shape[0]"
   ]
  },
  {
   "cell_type": "code",
   "execution_count": 141,
   "id": "d17fa9f6",
   "metadata": {},
   "outputs": [],
   "source": [
    "for i in range(df.shape[0]):\n",
    "    handle = df.loc[i, \"Handle\"]\n",
    "    if df.loc[i, \"Reviewer\"].startswith(\"Fizz\"):\n",
    "        reviewer = \"fizzy\"\n",
    "        all_data.loc[handle, reviewer] = np.where(df.loc[i, \"Is Sybil\"] == \"T\", 1, 2)\n",
    "    elif df.loc[i, \"Reviewer\"].startswith(\"GREG\"):\n",
    "        reviewer = \"greg\"\n",
    "        all_data.loc[handle, reviewer] = np.where(df.loc[i, \"Is Sybil\"] == \"T\", 1, 2)\n",
    "    elif df.loc[i, \"Reviewer\"].startswith(\"BFA\"):\n",
    "        reviewer = \"bfa\"\n",
    "        all_data.loc[handle, reviewer] = np.where(df.loc[i, \"Is Sybil\"] == \"T\", 1, 2)\n",
    "    elif df.loc[i, \"Reviewer\"].startswith(\"LK\"):\n",
    "        reviewer = \"lkh\"\n",
    "        all_data.loc[handle, reviewer] = np.where(df.loc[i, \"Is Sybil\"] == \"T\", 1, 2)\n",
    "    elif df.loc[i, \"Reviewer\"].startswith(\"Chance\"):\n",
    "        reviewer = \"chance\"\n",
    "        all_data.loc[handle, reviewer] = np.where(df.loc[i, \"Is Sybil\"] == \"T\", 1, 2)\n",
    "    elif df.loc[i, \"Reviewer\"].startswith(\"Dries\"):\n",
    "        reviewer = \"dries\"\n",
    "        all_data.loc[handle, reviewer] = np.where(df.loc[i, \"Is Sybil\"] == \"T\", 1, 2)\n",
    "    elif df.loc[i, \"Reviewer\"].startswith(\"David\"):\n",
    "        reviewer = \"david\"\n",
    "        all_data.loc[handle, reviewer] = np.where(df.loc[i, \"Is Sybil\"] == \"T\", 1, 2)\n",
    "    elif df.loc[i, \"Reviewer\"].startswith(\"ZER\"):\n",
    "        reviewer = \"zerb\"\n",
    "        all_data.loc[handle, reviewer] = np.where(df.loc[i, \"Is Sybil\"] == \"T\", 1, 2)\n",
    "    elif df.loc[i, \"Reviewer\"].startswith(\"Pascal\"):\n",
    "        reviewer = \"pascal\"\n",
    "        all_data.loc[handle, reviewer] = np.where(df.loc[i, \"Is Sybil\"] == \"T\", 1, 2)\n",
    "    elif df.loc[i, \"Reviewer\"].startswith(\"Pavel\"):\n",
    "        reviewer = \"pavel\"\n",
    "        all_data.loc[handle, reviewer] = np.where(df.loc[i, \"Is Sybil\"] == \"T\", 1, 2)\n",
    "    elif df.loc[i, \"Reviewer\"].startswith(\"Jammie\"):\n",
    "        reviewer = \"jammie\"\n",
    "        all_data.loc[handle, reviewer] = np.where(df.loc[i, \"Is Sybil\"] == \"T\", 1, 2)\n",
    "    elif df.loc[i, \"Reviewer\"].startswith(\"Walter\"):\n",
    "        reviewer = \"walter\"\n",
    "        all_data.loc[handle, reviewer] = np.where(df.loc[i, \"Is Sybil\"] == \"T\", 1, 2)\n",
    "    elif df.loc[i, \"Reviewer\"].startswith(\"Ann\"):\n",
    "        reviewer = \"ann\"\n",
    "        all_data.loc[handle, reviewer] = np.where(df.loc[i, \"Is Sybil\"] == \"T\", 1, 2)\n",
    "    elif df.loc[i, \"Reviewer\"].startswith(\"Dogg\"):\n",
    "        reviewer = \"dogg\"\n",
    "        all_data.loc[handle, reviewer] = np.where(df.loc[i, \"Is Sybil\"] == \"T\", 1, 2)\n",
    "    elif df.loc[i, \"Reviewer\"].startswith(\"sid\"):\n",
    "        reviewer = \"sid\"\n",
    "        all_data.loc[handle, reviewer] = np.where(df.loc[i, \"Is Sybil\"] == \"T\", 1, 2)\n",
    "    elif df.loc[i, \"Reviewer\"].startswith(\"Joe\"):\n",
    "        reviewer = \"joe\"\n",
    "        all_data.loc[handle, reviewer] = np.where(df.loc[i, \"Is Sybil\"] == \"T\", 1, 2)\n",
    "    elif df.loc[i, \"Reviewer\"].startswith(\"AM\"):\n",
    "        reviewer = \"am\"\n",
    "        all_data.loc[handle, reviewer] = np.where(df.loc[i, \"Is Sybil\"] == \"T\", 1, 2)\n",
    "    elif df.loc[i, \"Reviewer\"].startswith(\"Mount\"):\n",
    "        reviewer = \"mount\"\n",
    "        all_data.loc[handle, reviewer] = np.where(df.loc[i, \"Is Sybil\"] == \"T\", 1, 2)\n",
    "    elif df.loc[i, \"Reviewer\"].startswith(\"Vik\"):\n",
    "        reviewer = \"vik\"\n",
    "        all_data.loc[handle, reviewer] = np.where(df.loc[i, \"Is Sybil\"] == \"T\", 1, 2)\n",
    "    elif df.loc[i, \"Reviewer\"].startswith(\"Emma\"):\n",
    "        reviewer = \"emmanuel\"\n",
    "        all_data.loc[handle, reviewer] = np.where(df.loc[i, \"Is Sybil\"] == \"T\", 1, 2)"
   ]
  },
  {
   "cell_type": "code",
   "execution_count": 21,
   "id": "df595bae",
   "metadata": {},
   "outputs": [],
   "source": [
    "import numpy as np"
   ]
  },
  {
   "cell_type": "code",
   "execution_count": 90,
   "id": "2528556b",
   "metadata": {},
   "outputs": [],
   "source": [
    "my_data =  []\n",
    "for i in all_data.index:\n",
    "    for j in all_data.columns:\n",
    "        if all_data.loc[i, j] in [0, 1]:\n",
    "            my_data.append([all_data.loc[i, j]])"
   ]
  },
  {
   "cell_type": "code",
   "execution_count": 116,
   "id": "9eca60f4",
   "metadata": {},
   "outputs": [],
   "source": [
    "values = []\n",
    "for index in all_data.index:\n",
    "    value = []\n",
    "    for i in all_data.loc[index, :]:\n",
    "        if i in [1,0]:\n",
    "            value.append([i])\n",
    "            values.append([i, index])"
   ]
  },
  {
   "cell_type": "code",
   "execution_count": 41,
   "id": "10380c6a",
   "metadata": {},
   "outputs": [],
   "source": [
    "mergednames = []\n",
    "mergednames.extend(david.Names.unique())\n",
    "mergednames.extend(greg.Names.unique())\n",
    "mergednames.extend(dries.Names.unique())\n",
    "mergednames.extend(lkh.Names.unique())\n",
    "mergednames.extend(zerb.Names.unique())\n",
    "mergednames.extend(bfa.Names.unique())\n",
    "mergednames.extend(pascal.Names.unique())\n",
    "mergednames.extend(pavel.Names.unique())\n",
    "mergednames.extend(jammie.Names.unique())\n",
    "mergednames.extend(walter.Names.unique())\n",
    "mergednames.extend(chance.Names.unique())\n",
    "mergednames.extend(ann.Names.unique())\n",
    "mergednames.extend(dogg.Names.unique())\n",
    "mergednames.extend(sid.Names.unique())\n",
    "mergednames.extend(joe.Names.unique())\n",
    "mergednames.extend(fizzy.Names.unique())\n",
    "mergednames.extend(am.Names.unique())\n",
    "mergednames.extend(mount.Names.unique())\n",
    "mergednames.extend(vik.Names.unique())\n",
    "mergednames.extend(emmanuel.Names.unique())"
   ]
  },
  {
   "cell_type": "code",
   "execution_count": 112,
   "id": "2610b657",
   "metadata": {},
   "outputs": [],
   "source": [
    " top = pd.Series(mergednames).value_counts()[:47]"
   ]
  },
  {
   "cell_type": "code",
   "execution_count": 44,
   "id": "a04c2a56",
   "metadata": {},
   "outputs": [],
   "source": [
    "def namestr(obj, namespace):\n",
    "    return [name for name in namespace if namespace[name] is obj]"
   ]
  },
  {
   "cell_type": "code",
   "execution_count": 45,
   "id": "664e5713",
   "metadata": {},
   "outputs": [
    {
     "data": {
      "text/plain": [
       "['a']"
      ]
     },
     "execution_count": 45,
     "metadata": {},
     "output_type": "execute_result"
    }
   ],
   "source": [
    "a = 'some var'\n",
    "namestr(a, globals())"
   ]
  },
  {
   "cell_type": "code",
   "execution_count": 123,
   "id": "b4cfb3ec",
   "metadata": {},
   "outputs": [
    {
     "name": "stdout",
     "output_type": "stream",
     "text": [
      "[['david', 'david', 'david', 'david', 'david', 'david', 'david', 'david', 'greg', 'greg', 'greg', 'greg', 'greg', 'greg', 'greg', 'dries', 'dries', 'dries', 'dries', 'dries', 'dries', 'dries', 'dries', 'dries', 'dries', 'dries', 'lkh', 'lkh', 'lkh', 'lkh', 'lkh', 'lkh', 'zerb', 'zerb', 'zerb', 'zerb', 'zerb', 'bfa', 'bfa', 'bfa', 'bfa', 'pascal', 'pascal', 'pascal', 'pascal', 'pascal', 'pascal', 'pascal', 'pascal', 'pascal', 'pavel', 'pavel', 'pavel', 'pavel', 'pavel', 'pavel', 'pavel', 'pavel', 'pavel', 'pavel', 'pavel', 'jammie', 'jammie', 'jammie', 'jammie', 'jammie', 'jammie', 'jammie', 'jammie', 'jammie', 'walter', 'walter', 'walter', 'walter', 'walter', 'walter', 'walter', 'walter', 'walter', 'walter', 'chance', 'chance', 'chance', 'chance', 'chance', 'ann', 'ann', 'ann', 'ann', 'ann', 'ann', 'ann', 'dogg', 'dogg', 'dogg', 'dogg', 'dogg', 'dogg', 'dogg', 'dogg', 'sid', 'sid', 'sid', 'sid', 'joe', 'joe', 'joe', 'joe', 'joe', 'joe', 'joe', 'joe', 'joe', 'joe', 'joe', 'fizzy', 'fizzy', 'fizzy', 'fizzy', 'fizzy', 'fizzy', 'am', 'am', 'am', 'am', 'am', 'am', 'am', 'am', 'mount', 'mount', 'mount', 'mount', 'mount', 'vik', 'vik', 'vik', 'vik', 'emmanuel', 'emmanuel', 'emmanuel', 'emmanuel', 'emmanuel', 'emmanuel', 'emmanuel', 'emmanuel']]\n"
     ]
    }
   ],
   "source": [
    "robolist = []\n",
    "lists = []\n",
    "for i in [david,  greg, dries, lkh, zerb, bfa, pascal, pavel, jammie, walter,\n",
    "          chance, ann, dogg, sid, joe, fizzy, am, mount, vik, emmanuel]:\n",
    "    for j in top.index:\n",
    "        if j in i.Names.unique():\n",
    "            robolist.append(namestr(i, globals())[0])\n",
    "lists.append(robolist)\n",
    "print(lists)        \n"
   ]
  },
  {
   "cell_type": "code",
   "execution_count": 121,
   "id": "5046937c",
   "metadata": {},
   "outputs": [
    {
     "data": {
      "text/plain": [
       "[['pavel', 'dogg', 'sid', 'fizzy']]"
      ]
     },
     "execution_count": 121,
     "metadata": {},
     "output_type": "execute_result"
    }
   ],
   "source": [
    "robolist = []\n",
    "lists = []\n",
    "for i in [david,  greg, dries, lkh, zerb, bfa, pascal, pavel, jammie, walter, chance, ann, dogg, sid, joe, fizzy, am, mount, vik, emmanuel]:\n",
    "    if \"andrev976\" in i.Names.unique():\n",
    "        robolist.append(namestr(i, globals())[0])\n",
    "lists.append(robolist)\n",
    "lists        "
   ]
  },
  {
   "cell_type": "code",
   "execution_count": 94,
   "id": "163d59ad",
   "metadata": {},
   "outputs": [],
   "source": [
    "dff = pd.DataFrame()\n",
    "tff = []\n",
    "ml = []\n",
    "for i in [pavel, dogg, sid, fizzy]:\n",
    "    ml.append(namestr(i, globals())[0])\n",
    "    tf = i.set_index(\"Names\").loc[\"andrev976\",\"Is Sybil? (T or F)\"]\n",
    "    tff.append(tf)\n",
    "dff[\"Is Sybil? (T or F)\"]  = tff\n",
    "dff[\"Names\"]  = ml"
   ]
  },
  {
   "cell_type": "code",
   "execution_count": 95,
   "id": "80a25e10",
   "metadata": {},
   "outputs": [
    {
     "data": {
      "text/html": [
       "<div>\n",
       "<style scoped>\n",
       "    .dataframe tbody tr th:only-of-type {\n",
       "        vertical-align: middle;\n",
       "    }\n",
       "\n",
       "    .dataframe tbody tr th {\n",
       "        vertical-align: top;\n",
       "    }\n",
       "\n",
       "    .dataframe thead th {\n",
       "        text-align: right;\n",
       "    }\n",
       "</style>\n",
       "<table border=\"1\" class=\"dataframe\">\n",
       "  <thead>\n",
       "    <tr style=\"text-align: right;\">\n",
       "      <th></th>\n",
       "      <th>Is Sybil? (T or F)</th>\n",
       "      <th>Names</th>\n",
       "    </tr>\n",
       "  </thead>\n",
       "  <tbody>\n",
       "    <tr>\n",
       "      <th>0</th>\n",
       "      <td>F</td>\n",
       "      <td>pavel</td>\n",
       "    </tr>\n",
       "    <tr>\n",
       "      <th>1</th>\n",
       "      <td>F</td>\n",
       "      <td>dogg</td>\n",
       "    </tr>\n",
       "    <tr>\n",
       "      <th>2</th>\n",
       "      <td>T</td>\n",
       "      <td>sid</td>\n",
       "    </tr>\n",
       "    <tr>\n",
       "      <th>3</th>\n",
       "      <td>F</td>\n",
       "      <td>fizzy</td>\n",
       "    </tr>\n",
       "  </tbody>\n",
       "</table>\n",
       "</div>"
      ],
      "text/plain": [
       "  Is Sybil? (T or F)  Names\n",
       "0                  F  pavel\n",
       "1                  F   dogg\n",
       "2                  T    sid\n",
       "3                  F  fizzy"
      ]
     },
     "execution_count": 95,
     "metadata": {},
     "output_type": "execute_result"
    }
   ],
   "source": [
    "dff"
   ]
  },
  {
   "cell_type": "code",
   "execution_count": 96,
   "id": "ad980b7b",
   "metadata": {},
   "outputs": [],
   "source": [
    "dataframe = pd.DataFrame(columns=[\"pavel\", \"dogg\", \"Sid\", \"Fizzy\"])"
   ]
  },
  {
   "cell_type": "code",
   "execution_count": 108,
   "id": "9285c67d",
   "metadata": {},
   "outputs": [],
   "source": [
    "dataframe.loc[0, :] = TF"
   ]
  },
  {
   "cell_type": "code",
   "execution_count": 106,
   "id": "620e4477",
   "metadata": {},
   "outputs": [],
   "source": [
    "TF = []\n",
    "for i in range(len(tff)):\n",
    "    TF.append(np.where(tff[i] ==\"F\", 0, 1))"
   ]
  },
  {
   "cell_type": "code",
   "execution_count": 107,
   "id": "dae4e4bc",
   "metadata": {},
   "outputs": [
    {
     "data": {
      "text/plain": [
       "[array(0), array(0), array(1), array(0)]"
      ]
     },
     "execution_count": 107,
     "metadata": {},
     "output_type": "execute_result"
    }
   ],
   "source": [
    "TF"
   ]
  },
  {
   "cell_type": "code",
   "execution_count": 91,
   "id": "828347b1",
   "metadata": {},
   "outputs": [],
   "source": [
    "import numpy as np"
   ]
  },
  {
   "cell_type": "code",
   "execution_count": 110,
   "id": "9429a1fd",
   "metadata": {},
   "outputs": [],
   "source": [
    "dataframe.to_csv(\"./dataframe.csv\")"
   ]
  },
  {
   "cell_type": "code",
   "execution_count": null,
   "id": "e90d003f",
   "metadata": {},
   "outputs": [],
   "source": []
  },
  {
   "cell_type": "code",
   "execution_count": null,
   "id": "0ea4ea13",
   "metadata": {},
   "outputs": [],
   "source": []
  },
  {
   "cell_type": "code",
   "execution_count": 240,
   "id": "e65e94ff",
   "metadata": {},
   "outputs": [],
   "source": [
    "robocups.to_csv(\"./robo.csv\")"
   ]
  },
  {
   "cell_type": "code",
   "execution_count": 219,
   "id": "1f58be8a",
   "metadata": {},
   "outputs": [
    {
     "data": {
      "text/plain": [
       "nan"
      ]
     },
     "execution_count": 219,
     "metadata": {},
     "output_type": "execute_result"
    }
   ],
   "source": [
    "pascal.loc[\"robocups\",\"Is Sybil? (T or F)\"]"
   ]
  },
  {
   "cell_type": "code",
   "execution_count": 229,
   "id": "05af15c7",
   "metadata": {},
   "outputs": [
    {
     "data": {
      "text/plain": [
       "['T', nan, 'F', 'F']"
      ]
     },
     "execution_count": 229,
     "metadata": {},
     "output_type": "execute_result"
    }
   ],
   "source": [
    "[greg.set_index(\"Names\").loc[\"fanffu\",\"Is Sybil? (T or F)\"], pascal.set_index(\"Names\").loc[\"fanffu\",\"Is Sybil? (T or F)\"],\n",
    " emmanuel.set_index(\"Names\").loc[\"fanffu\",\"Is Sybil? (T or F)\"], fizzy.set_index(\"Names\").loc[\"fanffu\",\"Is Sybil? (T or F)\"]]"
   ]
  },
  {
   "cell_type": "code",
   "execution_count": 235,
   "id": "254faf06",
   "metadata": {},
   "outputs": [
    {
     "data": {
      "text/html": [
       "<div>\n",
       "<style scoped>\n",
       "    .dataframe tbody tr th:only-of-type {\n",
       "        vertical-align: middle;\n",
       "    }\n",
       "\n",
       "    .dataframe tbody tr th {\n",
       "        vertical-align: top;\n",
       "    }\n",
       "\n",
       "    .dataframe thead th {\n",
       "        text-align: right;\n",
       "    }\n",
       "</style>\n",
       "<table border=\"1\" class=\"dataframe\">\n",
       "  <thead>\n",
       "    <tr style=\"text-align: right;\">\n",
       "      <th></th>\n",
       "      <th>0</th>\n",
       "      <th>1</th>\n",
       "      <th>2</th>\n",
       "      <th>3</th>\n",
       "    </tr>\n",
       "  </thead>\n",
       "  <tbody>\n",
       "    <tr>\n",
       "      <th>0</th>\n",
       "      <td>T</td>\n",
       "      <td>nan</td>\n",
       "      <td>F</td>\n",
       "      <td>F</td>\n",
       "    </tr>\n",
       "  </tbody>\n",
       "</table>\n",
       "</div>"
      ],
      "text/plain": [
       "   0    1  2  3\n",
       "0  T  nan  F  F"
      ]
     },
     "execution_count": 235,
     "metadata": {},
     "output_type": "execute_result"
    }
   ],
   "source": [
    "pd.DataFrame([['T', \"nan\", 'F', 'F']], )"
   ]
  },
  {
   "cell_type": "code",
   "execution_count": 218,
   "id": "e8f2953e",
   "metadata": {},
   "outputs": [],
   "source": [
    "#dries.set_index(\"Names\",inplace=True)\n",
    "pascal.set_index(\"Names\")\n",
    "sid.set_index(\"Names\")\n",
    "fizzy.set_index(\"Names\")\n"
   ]
  },
  {
   "cell_type": "code",
   "execution_count": 71,
   "id": "bc77c6c2",
   "metadata": {},
   "outputs": [
    {
     "data": {
      "text/html": [
       "<div>\n",
       "<style scoped>\n",
       "    .dataframe tbody tr th:only-of-type {\n",
       "        vertical-align: middle;\n",
       "    }\n",
       "\n",
       "    .dataframe tbody tr th {\n",
       "        vertical-align: top;\n",
       "    }\n",
       "\n",
       "    .dataframe thead th {\n",
       "        text-align: right;\n",
       "    }\n",
       "</style>\n",
       "<table border=\"1\" class=\"dataframe\">\n",
       "  <thead>\n",
       "    <tr style=\"text-align: right;\">\n",
       "      <th></th>\n",
       "      <th>Names</th>\n",
       "      <th>Is Sybil? (T or F)</th>\n",
       "      <th>Confidence (low, so-so, high)</th>\n",
       "      <th>Notes</th>\n",
       "      <th>gitcoin_url</th>\n",
       "      <th>github_url</th>\n",
       "    </tr>\n",
       "  </thead>\n",
       "  <tbody>\n",
       "    <tr>\n",
       "      <th>0</th>\n",
       "      <td>metaversityman</td>\n",
       "      <td>NaN</td>\n",
       "      <td>NaN</td>\n",
       "      <td>NaN</td>\n",
       "      <td>https://gitcoin.co/metaversityman</td>\n",
       "      <td>https://github.com/metaversityman</td>\n",
       "    </tr>\n",
       "    <tr>\n",
       "      <th>1</th>\n",
       "      <td>toicours</td>\n",
       "      <td>NaN</td>\n",
       "      <td>NaN</td>\n",
       "      <td>NaN</td>\n",
       "      <td>https://gitcoin.co/toicours</td>\n",
       "      <td>https://github.com/toicours</td>\n",
       "    </tr>\n",
       "    <tr>\n",
       "      <th>2</th>\n",
       "      <td>sstklen</td>\n",
       "      <td>NaN</td>\n",
       "      <td>NaN</td>\n",
       "      <td>NaN</td>\n",
       "      <td>https://gitcoin.co/sstklen</td>\n",
       "      <td>https://github.com/sstklen</td>\n",
       "    </tr>\n",
       "    <tr>\n",
       "      <th>3</th>\n",
       "      <td>inomfood</td>\n",
       "      <td>NaN</td>\n",
       "      <td>NaN</td>\n",
       "      <td>NaN</td>\n",
       "      <td>https://gitcoin.co/inomfood</td>\n",
       "      <td>https://github.com/inomfood</td>\n",
       "    </tr>\n",
       "    <tr>\n",
       "      <th>4</th>\n",
       "      <td>beidahuang</td>\n",
       "      <td>NaN</td>\n",
       "      <td>NaN</td>\n",
       "      <td>NaN</td>\n",
       "      <td>https://gitcoin.co/beidahuang</td>\n",
       "      <td>https://github.com/beidahuang</td>\n",
       "    </tr>\n",
       "  </tbody>\n",
       "</table>\n",
       "</div>"
      ],
      "text/plain": [
       "            Names  Is Sybil? (T or F)  Confidence (low, so-so, high)  Notes  \\\n",
       "0  metaversityman                 NaN                            NaN    NaN   \n",
       "1        toicours                 NaN                            NaN    NaN   \n",
       "2         sstklen                 NaN                            NaN    NaN   \n",
       "3        inomfood                 NaN                            NaN    NaN   \n",
       "4      beidahuang                 NaN                            NaN    NaN   \n",
       "\n",
       "                         gitcoin_url                         github_url  \n",
       "0  https://gitcoin.co/metaversityman  https://github.com/metaversityman  \n",
       "1        https://gitcoin.co/toicours        https://github.com/toicours  \n",
       "2         https://gitcoin.co/sstklen         https://github.com/sstklen  \n",
       "3        https://gitcoin.co/inomfood        https://github.com/inomfood  \n",
       "4      https://gitcoin.co/beidahuang      https://github.com/beidahuang  "
      ]
     },
     "execution_count": 71,
     "metadata": {},
     "output_type": "execute_result"
    }
   ],
   "source": [
    "david.head()"
   ]
  },
  {
   "cell_type": "code",
   "execution_count": 15,
   "id": "20e3522a",
   "metadata": {},
   "outputs": [
    {
     "ename": "FileNotFoundError",
     "evalue": "[Errno 2] No such file or directory: './multiple_review_handles.csv'",
     "output_type": "error",
     "traceback": [
      "\u001b[1;31m---------------------------------------------------------------------------\u001b[0m",
      "\u001b[1;31mFileNotFoundError\u001b[0m                         Traceback (most recent call last)",
      "\u001b[1;32m~\\AppData\\Local\\Temp/ipykernel_16484/265953343.py\u001b[0m in \u001b[0;36m<module>\u001b[1;34m\u001b[0m\n\u001b[1;32m----> 1\u001b[1;33m \u001b[0mdf\u001b[0m \u001b[1;33m=\u001b[0m \u001b[0mpd\u001b[0m\u001b[1;33m.\u001b[0m\u001b[0mread_csv\u001b[0m\u001b[1;33m(\u001b[0m\u001b[1;34m\"./multiple_review_handles.csv\"\u001b[0m\u001b[1;33m)\u001b[0m\u001b[1;33m\u001b[0m\u001b[1;33m\u001b[0m\u001b[0m\n\u001b[0m",
      "\u001b[1;32m~\\AppData\\Roaming\\Python\\Python37\\site-packages\\pandas\\util\\_decorators.py\u001b[0m in \u001b[0;36mwrapper\u001b[1;34m(*args, **kwargs)\u001b[0m\n\u001b[0;32m    309\u001b[0m                     \u001b[0mstacklevel\u001b[0m\u001b[1;33m=\u001b[0m\u001b[0mstacklevel\u001b[0m\u001b[1;33m,\u001b[0m\u001b[1;33m\u001b[0m\u001b[1;33m\u001b[0m\u001b[0m\n\u001b[0;32m    310\u001b[0m                 )\n\u001b[1;32m--> 311\u001b[1;33m             \u001b[1;32mreturn\u001b[0m \u001b[0mfunc\u001b[0m\u001b[1;33m(\u001b[0m\u001b[1;33m*\u001b[0m\u001b[0margs\u001b[0m\u001b[1;33m,\u001b[0m \u001b[1;33m**\u001b[0m\u001b[0mkwargs\u001b[0m\u001b[1;33m)\u001b[0m\u001b[1;33m\u001b[0m\u001b[1;33m\u001b[0m\u001b[0m\n\u001b[0m\u001b[0;32m    312\u001b[0m \u001b[1;33m\u001b[0m\u001b[0m\n\u001b[0;32m    313\u001b[0m         \u001b[1;32mreturn\u001b[0m \u001b[0mwrapper\u001b[0m\u001b[1;33m\u001b[0m\u001b[1;33m\u001b[0m\u001b[0m\n",
      "\u001b[1;32m~\\AppData\\Roaming\\Python\\Python37\\site-packages\\pandas\\io\\parsers\\readers.py\u001b[0m in \u001b[0;36mread_csv\u001b[1;34m(filepath_or_buffer, sep, delimiter, header, names, index_col, usecols, squeeze, prefix, mangle_dupe_cols, dtype, engine, converters, true_values, false_values, skipinitialspace, skiprows, skipfooter, nrows, na_values, keep_default_na, na_filter, verbose, skip_blank_lines, parse_dates, infer_datetime_format, keep_date_col, date_parser, dayfirst, cache_dates, iterator, chunksize, compression, thousands, decimal, lineterminator, quotechar, quoting, doublequote, escapechar, comment, encoding, encoding_errors, dialect, error_bad_lines, warn_bad_lines, on_bad_lines, delim_whitespace, low_memory, memory_map, float_precision, storage_options)\u001b[0m\n\u001b[0;32m    584\u001b[0m     \u001b[0mkwds\u001b[0m\u001b[1;33m.\u001b[0m\u001b[0mupdate\u001b[0m\u001b[1;33m(\u001b[0m\u001b[0mkwds_defaults\u001b[0m\u001b[1;33m)\u001b[0m\u001b[1;33m\u001b[0m\u001b[1;33m\u001b[0m\u001b[0m\n\u001b[0;32m    585\u001b[0m \u001b[1;33m\u001b[0m\u001b[0m\n\u001b[1;32m--> 586\u001b[1;33m     \u001b[1;32mreturn\u001b[0m \u001b[0m_read\u001b[0m\u001b[1;33m(\u001b[0m\u001b[0mfilepath_or_buffer\u001b[0m\u001b[1;33m,\u001b[0m \u001b[0mkwds\u001b[0m\u001b[1;33m)\u001b[0m\u001b[1;33m\u001b[0m\u001b[1;33m\u001b[0m\u001b[0m\n\u001b[0m\u001b[0;32m    587\u001b[0m \u001b[1;33m\u001b[0m\u001b[0m\n\u001b[0;32m    588\u001b[0m \u001b[1;33m\u001b[0m\u001b[0m\n",
      "\u001b[1;32m~\\AppData\\Roaming\\Python\\Python37\\site-packages\\pandas\\io\\parsers\\readers.py\u001b[0m in \u001b[0;36m_read\u001b[1;34m(filepath_or_buffer, kwds)\u001b[0m\n\u001b[0;32m    480\u001b[0m \u001b[1;33m\u001b[0m\u001b[0m\n\u001b[0;32m    481\u001b[0m     \u001b[1;31m# Create the parser.\u001b[0m\u001b[1;33m\u001b[0m\u001b[1;33m\u001b[0m\u001b[1;33m\u001b[0m\u001b[0m\n\u001b[1;32m--> 482\u001b[1;33m     \u001b[0mparser\u001b[0m \u001b[1;33m=\u001b[0m \u001b[0mTextFileReader\u001b[0m\u001b[1;33m(\u001b[0m\u001b[0mfilepath_or_buffer\u001b[0m\u001b[1;33m,\u001b[0m \u001b[1;33m**\u001b[0m\u001b[0mkwds\u001b[0m\u001b[1;33m)\u001b[0m\u001b[1;33m\u001b[0m\u001b[1;33m\u001b[0m\u001b[0m\n\u001b[0m\u001b[0;32m    483\u001b[0m \u001b[1;33m\u001b[0m\u001b[0m\n\u001b[0;32m    484\u001b[0m     \u001b[1;32mif\u001b[0m \u001b[0mchunksize\u001b[0m \u001b[1;32mor\u001b[0m \u001b[0miterator\u001b[0m\u001b[1;33m:\u001b[0m\u001b[1;33m\u001b[0m\u001b[1;33m\u001b[0m\u001b[0m\n",
      "\u001b[1;32m~\\AppData\\Roaming\\Python\\Python37\\site-packages\\pandas\\io\\parsers\\readers.py\u001b[0m in \u001b[0;36m__init__\u001b[1;34m(self, f, engine, **kwds)\u001b[0m\n\u001b[0;32m    809\u001b[0m             \u001b[0mself\u001b[0m\u001b[1;33m.\u001b[0m\u001b[0moptions\u001b[0m\u001b[1;33m[\u001b[0m\u001b[1;34m\"has_index_names\"\u001b[0m\u001b[1;33m]\u001b[0m \u001b[1;33m=\u001b[0m \u001b[0mkwds\u001b[0m\u001b[1;33m[\u001b[0m\u001b[1;34m\"has_index_names\"\u001b[0m\u001b[1;33m]\u001b[0m\u001b[1;33m\u001b[0m\u001b[1;33m\u001b[0m\u001b[0m\n\u001b[0;32m    810\u001b[0m \u001b[1;33m\u001b[0m\u001b[0m\n\u001b[1;32m--> 811\u001b[1;33m         \u001b[0mself\u001b[0m\u001b[1;33m.\u001b[0m\u001b[0m_engine\u001b[0m \u001b[1;33m=\u001b[0m \u001b[0mself\u001b[0m\u001b[1;33m.\u001b[0m\u001b[0m_make_engine\u001b[0m\u001b[1;33m(\u001b[0m\u001b[0mself\u001b[0m\u001b[1;33m.\u001b[0m\u001b[0mengine\u001b[0m\u001b[1;33m)\u001b[0m\u001b[1;33m\u001b[0m\u001b[1;33m\u001b[0m\u001b[0m\n\u001b[0m\u001b[0;32m    812\u001b[0m \u001b[1;33m\u001b[0m\u001b[0m\n\u001b[0;32m    813\u001b[0m     \u001b[1;32mdef\u001b[0m \u001b[0mclose\u001b[0m\u001b[1;33m(\u001b[0m\u001b[0mself\u001b[0m\u001b[1;33m)\u001b[0m\u001b[1;33m:\u001b[0m\u001b[1;33m\u001b[0m\u001b[1;33m\u001b[0m\u001b[0m\n",
      "\u001b[1;32m~\\AppData\\Roaming\\Python\\Python37\\site-packages\\pandas\\io\\parsers\\readers.py\u001b[0m in \u001b[0;36m_make_engine\u001b[1;34m(self, engine)\u001b[0m\n\u001b[0;32m   1038\u001b[0m             )\n\u001b[0;32m   1039\u001b[0m         \u001b[1;31m# error: Too many arguments for \"ParserBase\"\u001b[0m\u001b[1;33m\u001b[0m\u001b[1;33m\u001b[0m\u001b[1;33m\u001b[0m\u001b[0m\n\u001b[1;32m-> 1040\u001b[1;33m         \u001b[1;32mreturn\u001b[0m \u001b[0mmapping\u001b[0m\u001b[1;33m[\u001b[0m\u001b[0mengine\u001b[0m\u001b[1;33m]\u001b[0m\u001b[1;33m(\u001b[0m\u001b[0mself\u001b[0m\u001b[1;33m.\u001b[0m\u001b[0mf\u001b[0m\u001b[1;33m,\u001b[0m \u001b[1;33m**\u001b[0m\u001b[0mself\u001b[0m\u001b[1;33m.\u001b[0m\u001b[0moptions\u001b[0m\u001b[1;33m)\u001b[0m  \u001b[1;31m# type: ignore[call-arg]\u001b[0m\u001b[1;33m\u001b[0m\u001b[1;33m\u001b[0m\u001b[0m\n\u001b[0m\u001b[0;32m   1041\u001b[0m \u001b[1;33m\u001b[0m\u001b[0m\n\u001b[0;32m   1042\u001b[0m     \u001b[1;32mdef\u001b[0m \u001b[0m_failover_to_python\u001b[0m\u001b[1;33m(\u001b[0m\u001b[0mself\u001b[0m\u001b[1;33m)\u001b[0m\u001b[1;33m:\u001b[0m\u001b[1;33m\u001b[0m\u001b[1;33m\u001b[0m\u001b[0m\n",
      "\u001b[1;32m~\\AppData\\Roaming\\Python\\Python37\\site-packages\\pandas\\io\\parsers\\c_parser_wrapper.py\u001b[0m in \u001b[0;36m__init__\u001b[1;34m(self, src, **kwds)\u001b[0m\n\u001b[0;32m     49\u001b[0m \u001b[1;33m\u001b[0m\u001b[0m\n\u001b[0;32m     50\u001b[0m         \u001b[1;31m# open handles\u001b[0m\u001b[1;33m\u001b[0m\u001b[1;33m\u001b[0m\u001b[1;33m\u001b[0m\u001b[0m\n\u001b[1;32m---> 51\u001b[1;33m         \u001b[0mself\u001b[0m\u001b[1;33m.\u001b[0m\u001b[0m_open_handles\u001b[0m\u001b[1;33m(\u001b[0m\u001b[0msrc\u001b[0m\u001b[1;33m,\u001b[0m \u001b[0mkwds\u001b[0m\u001b[1;33m)\u001b[0m\u001b[1;33m\u001b[0m\u001b[1;33m\u001b[0m\u001b[0m\n\u001b[0m\u001b[0;32m     52\u001b[0m         \u001b[1;32massert\u001b[0m \u001b[0mself\u001b[0m\u001b[1;33m.\u001b[0m\u001b[0mhandles\u001b[0m \u001b[1;32mis\u001b[0m \u001b[1;32mnot\u001b[0m \u001b[1;32mNone\u001b[0m\u001b[1;33m\u001b[0m\u001b[1;33m\u001b[0m\u001b[0m\n\u001b[0;32m     53\u001b[0m \u001b[1;33m\u001b[0m\u001b[0m\n",
      "\u001b[1;32m~\\AppData\\Roaming\\Python\\Python37\\site-packages\\pandas\\io\\parsers\\base_parser.py\u001b[0m in \u001b[0;36m_open_handles\u001b[1;34m(self, src, kwds)\u001b[0m\n\u001b[0;32m    227\u001b[0m             \u001b[0mmemory_map\u001b[0m\u001b[1;33m=\u001b[0m\u001b[0mkwds\u001b[0m\u001b[1;33m.\u001b[0m\u001b[0mget\u001b[0m\u001b[1;33m(\u001b[0m\u001b[1;34m\"memory_map\"\u001b[0m\u001b[1;33m,\u001b[0m \u001b[1;32mFalse\u001b[0m\u001b[1;33m)\u001b[0m\u001b[1;33m,\u001b[0m\u001b[1;33m\u001b[0m\u001b[1;33m\u001b[0m\u001b[0m\n\u001b[0;32m    228\u001b[0m             \u001b[0mstorage_options\u001b[0m\u001b[1;33m=\u001b[0m\u001b[0mkwds\u001b[0m\u001b[1;33m.\u001b[0m\u001b[0mget\u001b[0m\u001b[1;33m(\u001b[0m\u001b[1;34m\"storage_options\"\u001b[0m\u001b[1;33m,\u001b[0m \u001b[1;32mNone\u001b[0m\u001b[1;33m)\u001b[0m\u001b[1;33m,\u001b[0m\u001b[1;33m\u001b[0m\u001b[1;33m\u001b[0m\u001b[0m\n\u001b[1;32m--> 229\u001b[1;33m             \u001b[0merrors\u001b[0m\u001b[1;33m=\u001b[0m\u001b[0mkwds\u001b[0m\u001b[1;33m.\u001b[0m\u001b[0mget\u001b[0m\u001b[1;33m(\u001b[0m\u001b[1;34m\"encoding_errors\"\u001b[0m\u001b[1;33m,\u001b[0m \u001b[1;34m\"strict\"\u001b[0m\u001b[1;33m)\u001b[0m\u001b[1;33m,\u001b[0m\u001b[1;33m\u001b[0m\u001b[1;33m\u001b[0m\u001b[0m\n\u001b[0m\u001b[0;32m    230\u001b[0m         )\n\u001b[0;32m    231\u001b[0m \u001b[1;33m\u001b[0m\u001b[0m\n",
      "\u001b[1;32m~\\AppData\\Roaming\\Python\\Python37\\site-packages\\pandas\\io\\common.py\u001b[0m in \u001b[0;36mget_handle\u001b[1;34m(path_or_buf, mode, encoding, compression, memory_map, is_text, errors, storage_options)\u001b[0m\n\u001b[0;32m    705\u001b[0m                 \u001b[0mencoding\u001b[0m\u001b[1;33m=\u001b[0m\u001b[0mioargs\u001b[0m\u001b[1;33m.\u001b[0m\u001b[0mencoding\u001b[0m\u001b[1;33m,\u001b[0m\u001b[1;33m\u001b[0m\u001b[1;33m\u001b[0m\u001b[0m\n\u001b[0;32m    706\u001b[0m                 \u001b[0merrors\u001b[0m\u001b[1;33m=\u001b[0m\u001b[0merrors\u001b[0m\u001b[1;33m,\u001b[0m\u001b[1;33m\u001b[0m\u001b[1;33m\u001b[0m\u001b[0m\n\u001b[1;32m--> 707\u001b[1;33m                 \u001b[0mnewline\u001b[0m\u001b[1;33m=\u001b[0m\u001b[1;34m\"\"\u001b[0m\u001b[1;33m,\u001b[0m\u001b[1;33m\u001b[0m\u001b[1;33m\u001b[0m\u001b[0m\n\u001b[0m\u001b[0;32m    708\u001b[0m             )\n\u001b[0;32m    709\u001b[0m         \u001b[1;32melse\u001b[0m\u001b[1;33m:\u001b[0m\u001b[1;33m\u001b[0m\u001b[1;33m\u001b[0m\u001b[0m\n",
      "\u001b[1;31mFileNotFoundError\u001b[0m: [Errno 2] No such file or directory: './multiple_review_handles.csv'"
     ]
    }
   ],
   "source": [
    "df = pd.read_csv(\"./multiple_review_handles.csv\")"
   ]
  },
  {
   "cell_type": "code",
   "execution_count": 188,
   "id": "b9e68f2d",
   "metadata": {},
   "outputs": [],
   "source": [
    "handles = []\n",
    "for i in mergednames:\n",
    "    handles.append(i.lower())"
   ]
  },
  {
   "cell_type": "code",
   "execution_count": null,
   "id": "8865a295",
   "metadata": {},
   "outputs": [],
   "source": [
    "text = \"programming is easy\"\n",
    "result = text.startswith(('python', 'programming'))"
   ]
  },
  {
   "cell_type": "code",
   "execution_count": 202,
   "id": "2ecfedd0",
   "metadata": {},
   "outputs": [],
   "source": [
    "robo = []\n",
    "for i in handles:\n",
    "    robo.append(i.startswith(\"robo\"))"
   ]
  },
  {
   "cell_type": "code",
   "execution_count": 204,
   "id": "d73ad706",
   "metadata": {},
   "outputs": [
    {
     "data": {
      "text/plain": [
       "5"
      ]
     },
     "execution_count": 204,
     "metadata": {},
     "output_type": "execute_result"
    }
   ],
   "source": [
    "sum(robo)"
   ]
  },
  {
   "cell_type": "code",
   "execution_count": 190,
   "id": "f2ec2cab",
   "metadata": {},
   "outputs": [
    {
     "data": {
      "text/plain": [
       "robocups            4\n",
       "fanffu              4\n",
       "bhaumik             4\n",
       "zkfib               4\n",
       "andrev976           4\n",
       "kuangzhicheng203    3\n",
       "labrav              3\n",
       "parappa1            3\n",
       "svskrpz             3\n",
       "imgsu               3\n",
       "dtype: int64"
      ]
     },
     "execution_count": 190,
     "metadata": {},
     "output_type": "execute_result"
    }
   ],
   "source": [
    "pd.Series(handles).value_counts()[:10]"
   ]
  },
  {
   "cell_type": "code",
   "execution_count": 215,
   "id": "5ce93a8b",
   "metadata": {},
   "outputs": [],
   "source": [
    "bhaumik = df[df[\"Count\"] > 3][:4]"
   ]
  },
  {
   "cell_type": "code",
   "execution_count": 216,
   "id": "7ec9068e",
   "metadata": {},
   "outputs": [
    {
     "data": {
      "text/html": [
       "<div>\n",
       "<style scoped>\n",
       "    .dataframe tbody tr th:only-of-type {\n",
       "        vertical-align: middle;\n",
       "    }\n",
       "\n",
       "    .dataframe tbody tr th {\n",
       "        vertical-align: top;\n",
       "    }\n",
       "\n",
       "    .dataframe thead th {\n",
       "        text-align: right;\n",
       "    }\n",
       "</style>\n",
       "<table border=\"1\" class=\"dataframe\">\n",
       "  <thead>\n",
       "    <tr style=\"text-align: right;\">\n",
       "      <th></th>\n",
       "      <th>Handle</th>\n",
       "      <th>Is Sybil</th>\n",
       "      <th>Confidence</th>\n",
       "      <th>Notes</th>\n",
       "      <th>gitcoin_url</th>\n",
       "      <th>github_url</th>\n",
       "      <th>Reviewer</th>\n",
       "      <th>Count</th>\n",
       "    </tr>\n",
       "  </thead>\n",
       "  <tbody>\n",
       "    <tr>\n",
       "      <th>27</th>\n",
       "      <td>andrev976</td>\n",
       "      <td>F</td>\n",
       "      <td>Low</td>\n",
       "      <td>newbie</td>\n",
       "      <td>https://gitcoin.co/andrev976</td>\n",
       "      <td>https://github.com/andrev976</td>\n",
       "      <td>Pavel Fedotov-HES_5_20211202-19</td>\n",
       "      <td>4</td>\n",
       "    </tr>\n",
       "    <tr>\n",
       "      <th>28</th>\n",
       "      <td>andrev976</td>\n",
       "      <td>F</td>\n",
       "      <td>So-so</td>\n",
       "      <td>Joined Gitcoin in June 202 with medium activit...</td>\n",
       "      <td>https://gitcoin.co/andrev976</td>\n",
       "      <td>https://github.com/andrev976</td>\n",
       "      <td>DoggFather-HES_9_20211202-1946</td>\n",
       "      <td>4</td>\n",
       "    </tr>\n",
       "    <tr>\n",
       "      <th>29</th>\n",
       "      <td>andrev976</td>\n",
       "      <td>T</td>\n",
       "      <td>High</td>\n",
       "      <td>just joined gitcoin</td>\n",
       "      <td>https://gitcoin.co/andrev976</td>\n",
       "      <td>https://github.com/andrev976</td>\n",
       "      <td>sidcode-HES_11_20211202-1946</td>\n",
       "      <td>4</td>\n",
       "    </tr>\n",
       "    <tr>\n",
       "      <th>30</th>\n",
       "      <td>andrev976</td>\n",
       "      <td>F</td>\n",
       "      <td>High</td>\n",
       "      <td>new account; contribution sent directly to the...</td>\n",
       "      <td>https://gitcoin.co/andrev976</td>\n",
       "      <td>https://github.com/andrev976</td>\n",
       "      <td>Fizzymidas-HES_13_20211202-1946</td>\n",
       "      <td>4</td>\n",
       "    </tr>\n",
       "  </tbody>\n",
       "</table>\n",
       "</div>"
      ],
      "text/plain": [
       "       Handle Is Sybil Confidence  \\\n",
       "27  andrev976        F        Low   \n",
       "28  andrev976        F      So-so   \n",
       "29  andrev976        T       High   \n",
       "30  andrev976        F       High   \n",
       "\n",
       "                                                Notes  \\\n",
       "27                                             newbie   \n",
       "28  Joined Gitcoin in June 202 with medium activit...   \n",
       "29                                just joined gitcoin   \n",
       "30  new account; contribution sent directly to the...   \n",
       "\n",
       "                     gitcoin_url                    github_url  \\\n",
       "27  https://gitcoin.co/andrev976  https://github.com/andrev976   \n",
       "28  https://gitcoin.co/andrev976  https://github.com/andrev976   \n",
       "29  https://gitcoin.co/andrev976  https://github.com/andrev976   \n",
       "30  https://gitcoin.co/andrev976  https://github.com/andrev976   \n",
       "\n",
       "                           Reviewer  Count  \n",
       "27  Pavel Fedotov-HES_5_20211202-19      4  \n",
       "28   DoggFather-HES_9_20211202-1946      4  \n",
       "29     sidcode-HES_11_20211202-1946      4  \n",
       "30  Fizzymidas-HES_13_20211202-1946      4  "
      ]
     },
     "execution_count": 216,
     "metadata": {},
     "output_type": "execute_result"
    }
   ],
   "source": [
    "bhaumik"
   ]
  },
  {
   "cell_type": "code",
   "execution_count": 217,
   "id": "4745e1cb",
   "metadata": {},
   "outputs": [
    {
     "data": {
      "text/plain": [
       "High     167\n",
       "So-so    134\n",
       "Low       97\n",
       "Name: Confidence, dtype: int64"
      ]
     },
     "execution_count": 217,
     "metadata": {},
     "output_type": "execute_result"
    }
   ],
   "source": [
    "df.Confidence.value_counts()"
   ]
  },
  {
   "cell_type": "code",
   "execution_count": 121,
   "id": "49bf4d85",
   "metadata": {},
   "outputs": [
    {
     "data": {
      "text/plain": [
       "Int64Index([27, 28, 29, 30], dtype='int64')"
      ]
     },
     "execution_count": 121,
     "metadata": {},
     "output_type": "execute_result"
    }
   ],
   "source": [
    "andre.index"
   ]
  },
  {
   "cell_type": "code",
   "execution_count": 6,
   "id": "06d07375",
   "metadata": {},
   "outputs": [],
   "source": [
    "def fleiss_processor(andre):\n",
    "    full_list = []\n",
    "    for i in andre.index:\n",
    "        andre_list = list()\n",
    "        if andre.loc[i, \"Is Sybil\"] == \"T\":\n",
    "            andre_list.extend([1, 0])\n",
    "        else:\n",
    "            andre_list.extend([0, 1])\n",
    "        if andre.loc[i, \"Confidence\"] == \"High\":\n",
    "            andre_list.extend([1,0,0])\n",
    "        elif andre.loc[i, \"Confidence\"] == \"So-so\":\n",
    "            andre_list.extend([0,1,0])\n",
    "        else:\n",
    "            andre_list.extend([0,0,1])\n",
    "        full_list.append(andre_list)\n",
    "    return full_list"
   ]
  },
  {
   "cell_type": "code",
   "execution_count": 252,
   "id": "c0c8ec3c",
   "metadata": {},
   "outputs": [],
   "source": [
    "bhaumik_list = fleiss_processor(bhaumik)"
   ]
  },
  {
   "cell_type": "code",
   "execution_count": 253,
   "id": "5e489160",
   "metadata": {},
   "outputs": [
    {
     "data": {
      "text/plain": [
       "[[0, 1, 0, 0, 1], [0, 1, 0, 1, 0], [1, 0, 1, 0, 0], [0, 1, 1, 0, 0]]"
      ]
     },
     "execution_count": 253,
     "metadata": {},
     "output_type": "execute_result"
    }
   ],
   "source": [
    "bhaumik_list"
   ]
  },
  {
   "cell_type": "code",
   "execution_count": 7,
   "id": "a62ced96",
   "metadata": {},
   "outputs": [
    {
     "name": "stdout",
     "output_type": "stream",
     "text": [
      "14 raters.\n",
      "10 subjects.\n",
      "5 categories.\n",
      "p = [0.14285714285714285, 0.2, 0.2785714285714286, 0.15, 0.22857142857142856]\n",
      "P = [1.0, 0.25274725274725274, 0.3076923076923077, 0.43956043956043955, 0.32967032967032966, 0.46153846153846156, 0.24175824175824176, 0.17582417582417584, 0.2857142857142857, 0.2857142857142857]\n",
      "Pbar = 0.378021978021978\n",
      "PbarE = 0.21275510204081632\n",
      "kappa = 0.20993070442195522\n"
     ]
    }
   ],
   "source": [
    "DEBUG = True\n",
    "\n",
    "def computeKappa(mat):\n",
    "    \"\"\" Computes the Kappa value\n",
    "        @param n Number of rating per subjects (number of human raters)\n",
    "        @param mat Matrix[subjects][categories]\n",
    "        @return The Kappa value \"\"\"\n",
    "    n = checkEachLineCount(mat)   # PRE : every line count must be equal to n\n",
    "    N = len(mat)\n",
    "    k = len(mat[0])\n",
    "    \n",
    "    if DEBUG:\n",
    "        print (n, \"raters.\")\n",
    "        print (N, \"subjects.\")\n",
    "        print (k, \"categories.\")\n",
    "    \n",
    "    # Computing p[]\n",
    "    p = [0.0] * k\n",
    "    for j in range(k):\n",
    "        p[j] = 0.0\n",
    "        for i in range(N):\n",
    "            p[j] += mat[i][j]\n",
    "        p[j] /= N*n\n",
    "    if DEBUG: print(\"p =\", p)\n",
    "    \n",
    "    # Computing P[]    \n",
    "    P = [0.0] * N\n",
    "    for i in range(N):\n",
    "        P[i] = 0.0\n",
    "        for j in range(k):\n",
    "            P[i] += mat[i][j] * mat[i][j]\n",
    "        P[i] = (P[i] - n) / (n * (n - 1))\n",
    "    if DEBUG: print (\"P =\", P)\n",
    "    \n",
    "    # Computing Pbar\n",
    "    Pbar = sum(P) / N\n",
    "    if DEBUG: print (\"Pbar =\", Pbar)\n",
    "    \n",
    "    # Computing PbarE\n",
    "    PbarE = 0.0\n",
    "    for pj in p:\n",
    "        PbarE += pj * pj\n",
    "    if DEBUG: print(\"PbarE =\", PbarE)\n",
    "    \n",
    "    kappa = (Pbar - PbarE) / (1 - PbarE)\n",
    "    if DEBUG: print(\"kappa =\", kappa)\n",
    "    \n",
    "    return kappa\n",
    "\n",
    "def checkEachLineCount(mat):\n",
    "    \"\"\" Assert that each line has a constant number of ratings\n",
    "        @param mat The matrix checked\n",
    "        @return The number of ratings\n",
    "        @throws AssertionError If lines contain different number of ratings \"\"\"\n",
    "    n = sum(mat[0])\n",
    "    \n",
    "    assert all(sum(line) == n for line in mat[1:]), \"Line count != %d (n value).\" % n\n",
    "    return n\n",
    "\n",
    "if __name__ == \"__main__\":\n",
    "    \"\"\" Example on this Wikipedia article data set \"\"\"\n",
    "\n",
    "    mat = \\\n",
    "    [\n",
    "        [0,0,0,0,14],\n",
    "        [0,2,6,4,2],\n",
    "        [0,0,3,5,6],\n",
    "        [0,3,9,2,0],\n",
    "        [2,2,8,1,1],\n",
    "        [7,7,0,0,0],\n",
    "        [3,2,6,3,0],\n",
    "        [2,5,3,2,2],\n",
    "        [6,5,2,1,0],\n",
    "        [0,2,2,3,7]\n",
    "    ]\n",
    "    \n",
    "    kappa = computeKappa(mat)"
   ]
  },
  {
   "cell_type": "code",
   "execution_count": 255,
   "id": "f77d95bb",
   "metadata": {},
   "outputs": [
    {
     "name": "stdout",
     "output_type": "stream",
     "text": [
      "2 raters.\n",
      "2 subjects.\n",
      "3 categories.\n",
      "p = [0.25, 0.25, 0.5]\n",
      "P = [0.0, 0.0]\n",
      "Pbar = 0.0\n",
      "PbarE = 0.375\n",
      "kappa = -0.6\n"
     ]
    },
    {
     "data": {
      "text/plain": [
       "-0.6"
      ]
     },
     "execution_count": 255,
     "metadata": {},
     "output_type": "execute_result"
    }
   ],
   "source": [
    "rates = \\\n",
    "[[0,1,1],\n",
    "[1,0,1],]\n",
    "\n",
    "computeKappa(rates)"
   ]
  },
  {
   "cell_type": "code",
   "execution_count": 254,
   "id": "d4719755",
   "metadata": {},
   "outputs": [
    {
     "name": "stdout",
     "output_type": "stream",
     "text": [
      "2 raters.\n",
      "4 subjects.\n",
      "5 categories.\n",
      "p = [0.125, 0.375, 0.25, 0.125, 0.125]\n",
      "P = [0.0, 0.0, 0.0, 0.0]\n",
      "Pbar = 0.0\n",
      "PbarE = 0.25\n",
      "kappa = -0.3333333333333333\n"
     ]
    },
    {
     "data": {
      "text/plain": [
       "-0.3333333333333333"
      ]
     },
     "execution_count": 254,
     "metadata": {},
     "output_type": "execute_result"
    }
   ],
   "source": [
    "computeKappa(bhaumik_list)"
   ]
  },
  {
   "cell_type": "code",
   "execution_count": 224,
   "id": "010b314b",
   "metadata": {},
   "outputs": [
    {
     "data": {
      "text/plain": [
       "1200"
      ]
     },
     "execution_count": 224,
     "metadata": {},
     "output_type": "execute_result"
    }
   ],
   "source": [
    "len(mergednames)"
   ]
  },
  {
   "cell_type": "code",
   "execution_count": 8,
   "id": "759e261f",
   "metadata": {},
   "outputs": [
    {
     "data": {
      "text/html": [
       "<div>\n",
       "<style scoped>\n",
       "    .dataframe tbody tr th:only-of-type {\n",
       "        vertical-align: middle;\n",
       "    }\n",
       "\n",
       "    .dataframe tbody tr th {\n",
       "        vertical-align: top;\n",
       "    }\n",
       "\n",
       "    .dataframe thead th {\n",
       "        text-align: right;\n",
       "    }\n",
       "</style>\n",
       "<table border=\"1\" class=\"dataframe\">\n",
       "  <thead>\n",
       "    <tr style=\"text-align: right;\">\n",
       "      <th></th>\n",
       "      <th>Handles</th>\n",
       "      <th>lkh</th>\n",
       "      <th>dries</th>\n",
       "      <th>david</th>\n",
       "      <th>zerb</th>\n",
       "      <th>bfa</th>\n",
       "      <th>pascal</th>\n",
       "      <th>pavel</th>\n",
       "      <th>jammie</th>\n",
       "      <th>walter</th>\n",
       "      <th>...</th>\n",
       "      <th>ann</th>\n",
       "      <th>dogg</th>\n",
       "      <th>sid</th>\n",
       "      <th>joe</th>\n",
       "      <th>fizzy</th>\n",
       "      <th>am</th>\n",
       "      <th>mount</th>\n",
       "      <th>vik</th>\n",
       "      <th>emmanuel</th>\n",
       "      <th>greg</th>\n",
       "    </tr>\n",
       "  </thead>\n",
       "  <tbody>\n",
       "    <tr>\n",
       "      <th>0</th>\n",
       "      <td>0xfeixue</td>\n",
       "      <td>NaN</td>\n",
       "      <td>NaN</td>\n",
       "      <td>NaN</td>\n",
       "      <td>NaN</td>\n",
       "      <td>NaN</td>\n",
       "      <td>NaN</td>\n",
       "      <td>NaN</td>\n",
       "      <td>NaN</td>\n",
       "      <td>NaN</td>\n",
       "      <td>...</td>\n",
       "      <td>NaN</td>\n",
       "      <td>NaN</td>\n",
       "      <td>NaN</td>\n",
       "      <td>NaN</td>\n",
       "      <td>F</td>\n",
       "      <td>NaN</td>\n",
       "      <td>NaN</td>\n",
       "      <td>NaN</td>\n",
       "      <td>NaN</td>\n",
       "      <td>T</td>\n",
       "    </tr>\n",
       "    <tr>\n",
       "      <th>1</th>\n",
       "      <td>15773221883</td>\n",
       "      <td>NaN</td>\n",
       "      <td>NaN</td>\n",
       "      <td>NaN</td>\n",
       "      <td>NaN</td>\n",
       "      <td>T</td>\n",
       "      <td>NaN</td>\n",
       "      <td>NaN</td>\n",
       "      <td>NaN</td>\n",
       "      <td>NaN</td>\n",
       "      <td>...</td>\n",
       "      <td>NaN</td>\n",
       "      <td>NaN</td>\n",
       "      <td>NaN</td>\n",
       "      <td>NaN</td>\n",
       "      <td>NaN</td>\n",
       "      <td>NaN</td>\n",
       "      <td>NaN</td>\n",
       "      <td>NaN</td>\n",
       "      <td>NaN</td>\n",
       "      <td>NaN</td>\n",
       "    </tr>\n",
       "    <tr>\n",
       "      <th>2</th>\n",
       "      <td>17811889809</td>\n",
       "      <td>NaN</td>\n",
       "      <td>NaN</td>\n",
       "      <td>NaN</td>\n",
       "      <td>NaN</td>\n",
       "      <td>NaN</td>\n",
       "      <td>NaN</td>\n",
       "      <td>F</td>\n",
       "      <td>NaN</td>\n",
       "      <td>NaN</td>\n",
       "      <td>...</td>\n",
       "      <td>NaN</td>\n",
       "      <td>NaN</td>\n",
       "      <td>NaN</td>\n",
       "      <td>NaN</td>\n",
       "      <td>NaN</td>\n",
       "      <td>NaN</td>\n",
       "      <td>T</td>\n",
       "      <td>NaN</td>\n",
       "      <td>NaN</td>\n",
       "      <td>NaN</td>\n",
       "    </tr>\n",
       "    <tr>\n",
       "      <th>3</th>\n",
       "      <td>1lolguy1</td>\n",
       "      <td>NaN</td>\n",
       "      <td>T</td>\n",
       "      <td>NaN</td>\n",
       "      <td>NaN</td>\n",
       "      <td>NaN</td>\n",
       "      <td>NaN</td>\n",
       "      <td>NaN</td>\n",
       "      <td>NaN</td>\n",
       "      <td>NaN</td>\n",
       "      <td>...</td>\n",
       "      <td>NaN</td>\n",
       "      <td>NaN</td>\n",
       "      <td>T</td>\n",
       "      <td>NaN</td>\n",
       "      <td>NaN</td>\n",
       "      <td>NaN</td>\n",
       "      <td>NaN</td>\n",
       "      <td>NaN</td>\n",
       "      <td>NaN</td>\n",
       "      <td>NaN</td>\n",
       "    </tr>\n",
       "    <tr>\n",
       "      <th>4</th>\n",
       "      <td>409110763ty</td>\n",
       "      <td>NaN</td>\n",
       "      <td>NaN</td>\n",
       "      <td>NaN</td>\n",
       "      <td>T</td>\n",
       "      <td>NaN</td>\n",
       "      <td>NaN</td>\n",
       "      <td>NaN</td>\n",
       "      <td>NaN</td>\n",
       "      <td>NaN</td>\n",
       "      <td>...</td>\n",
       "      <td>NaN</td>\n",
       "      <td>T</td>\n",
       "      <td>NaN</td>\n",
       "      <td>NaN</td>\n",
       "      <td>NaN</td>\n",
       "      <td>NaN</td>\n",
       "      <td>NaN</td>\n",
       "      <td>NaN</td>\n",
       "      <td>NaN</td>\n",
       "      <td>NaN</td>\n",
       "    </tr>\n",
       "  </tbody>\n",
       "</table>\n",
       "<p>5 rows × 21 columns</p>\n",
       "</div>"
      ],
      "text/plain": [
       "       Handles  lkh dries  david zerb  bfa pascal pavel jammie walter  ...  \\\n",
       "0     0xfeixue  NaN   NaN    NaN  NaN  NaN    NaN   NaN    NaN    NaN  ...   \n",
       "1  15773221883  NaN   NaN    NaN  NaN    T    NaN   NaN    NaN    NaN  ...   \n",
       "2  17811889809  NaN   NaN    NaN  NaN  NaN    NaN     F    NaN    NaN  ...   \n",
       "3     1lolguy1  NaN     T    NaN  NaN  NaN    NaN   NaN    NaN    NaN  ...   \n",
       "4  409110763ty  NaN   NaN    NaN    T  NaN    NaN   NaN    NaN    NaN  ...   \n",
       "\n",
       "   ann dogg  sid  joe fizzy   am mount  vik emmanuel greg  \n",
       "0  NaN  NaN  NaN  NaN     F  NaN   NaN  NaN      NaN    T  \n",
       "1  NaN  NaN  NaN  NaN   NaN  NaN   NaN  NaN      NaN  NaN  \n",
       "2  NaN  NaN  NaN  NaN   NaN  NaN     T  NaN      NaN  NaN  \n",
       "3  NaN  NaN    T  NaN   NaN  NaN   NaN  NaN      NaN  NaN  \n",
       "4  NaN    T  NaN  NaN   NaN  NaN   NaN  NaN      NaN  NaN  \n",
       "\n",
       "[5 rows x 21 columns]"
      ]
     },
     "execution_count": 8,
     "metadata": {},
     "output_type": "execute_result"
    }
   ],
   "source": [
    "formatted = pd.read_csv(\"./formatted.csv\")\n",
    "formatted.head()"
   ]
  },
  {
   "cell_type": "code",
   "execution_count": 10,
   "id": "0de4fd49",
   "metadata": {},
   "outputs": [
    {
     "data": {
      "text/html": [
       "<div>\n",
       "<style scoped>\n",
       "    .dataframe tbody tr th:only-of-type {\n",
       "        vertical-align: middle;\n",
       "    }\n",
       "\n",
       "    .dataframe tbody tr th {\n",
       "        vertical-align: top;\n",
       "    }\n",
       "\n",
       "    .dataframe thead th {\n",
       "        text-align: right;\n",
       "    }\n",
       "</style>\n",
       "<table border=\"1\" class=\"dataframe\">\n",
       "  <thead>\n",
       "    <tr style=\"text-align: right;\">\n",
       "      <th></th>\n",
       "      <th>david</th>\n",
       "    </tr>\n",
       "  </thead>\n",
       "  <tbody>\n",
       "    <tr>\n",
       "      <th>david</th>\n",
       "      <td>NaN</td>\n",
       "    </tr>\n",
       "  </tbody>\n",
       "</table>\n",
       "</div>"
      ],
      "text/plain": [
       "       david\n",
       "david    NaN"
      ]
     },
     "execution_count": 10,
     "metadata": {},
     "output_type": "execute_result"
    }
   ],
   "source": []
  },
  {
   "cell_type": "code",
   "execution_count": 248,
   "id": "fc3cf961",
   "metadata": {},
   "outputs": [
    {
     "data": {
      "text/html": [
       "<div>\n",
       "<style scoped>\n",
       "    .dataframe tbody tr th:only-of-type {\n",
       "        vertical-align: middle;\n",
       "    }\n",
       "\n",
       "    .dataframe tbody tr th {\n",
       "        vertical-align: top;\n",
       "    }\n",
       "\n",
       "    .dataframe thead th {\n",
       "        text-align: right;\n",
       "    }\n",
       "</style>\n",
       "<table border=\"1\" class=\"dataframe\">\n",
       "  <thead>\n",
       "    <tr style=\"text-align: right;\">\n",
       "      <th></th>\n",
       "      <th>Handle</th>\n",
       "      <th>Is Sybil</th>\n",
       "      <th>Confidence</th>\n",
       "      <th>Notes</th>\n",
       "      <th>gitcoin_url</th>\n",
       "      <th>github_url</th>\n",
       "      <th>Reviewer</th>\n",
       "      <th>Count</th>\n",
       "    </tr>\n",
       "  </thead>\n",
       "  <tbody>\n",
       "    <tr>\n",
       "      <th>0</th>\n",
       "      <td>0xfeixue</td>\n",
       "      <td>F</td>\n",
       "      <td>Low</td>\n",
       "      <td>$1 contributions to popular projects</td>\n",
       "      <td>https://gitcoin.co/0xfeixue</td>\n",
       "      <td>https://github.com/0xfeixue</td>\n",
       "      <td>Fizzymidas-HES_13_20211202-1946</td>\n",
       "      <td>2</td>\n",
       "    </tr>\n",
       "    <tr>\n",
       "      <th>1</th>\n",
       "      <td>0xfeixue</td>\n",
       "      <td>T</td>\n",
       "      <td>High</td>\n",
       "      <td>recent profiles</td>\n",
       "      <td>https://gitcoin.co/0xfeixue</td>\n",
       "      <td>https://github.com/0xfeixue</td>\n",
       "      <td>GREG_18_20211202-1946</td>\n",
       "      <td>2</td>\n",
       "    </tr>\n",
       "    <tr>\n",
       "      <th>2</th>\n",
       "      <td>15773221883</td>\n",
       "      <td>T</td>\n",
       "      <td>High</td>\n",
       "      <td>Old github with no history, gitcoin account is...</td>\n",
       "      <td>https://gitcoin.co/15773221883</td>\n",
       "      <td>https://github.com/15773221883</td>\n",
       "      <td>BFA ABI-HES_3_20211202-1946</td>\n",
       "      <td>2</td>\n",
       "    </tr>\n",
       "    <tr>\n",
       "      <th>3</th>\n",
       "      <td>15773221883</td>\n",
       "      <td>T</td>\n",
       "      <td>Low</td>\n",
       "      <td>new gitcoin, inactive github</td>\n",
       "      <td>https://gitcoin.co/15773221883</td>\n",
       "      <td>https://github.com/15773221883</td>\n",
       "      <td>Chance Hope-HES_8_20211202-1946</td>\n",
       "      <td>2</td>\n",
       "    </tr>\n",
       "    <tr>\n",
       "      <th>4</th>\n",
       "      <td>17811889809</td>\n",
       "      <td>F</td>\n",
       "      <td>Low</td>\n",
       "      <td>newbie</td>\n",
       "      <td>https://gitcoin.co/17811889809</td>\n",
       "      <td>https://github.com/17811889809</td>\n",
       "      <td>Pavel Fedotov-HES_5_20211202-19</td>\n",
       "      <td>2</td>\n",
       "    </tr>\n",
       "    <tr>\n",
       "      <th>5</th>\n",
       "      <td>17811889809</td>\n",
       "      <td>T</td>\n",
       "      <td>High</td>\n",
       "      <td>New Github and Gitcoin account, no activity, n...</td>\n",
       "      <td>https://gitcoin.co/17811889809</td>\n",
       "      <td>https://github.com/17811889809</td>\n",
       "      <td>Mount Manu-HES_15_20211202-1946</td>\n",
       "      <td>2</td>\n",
       "    </tr>\n",
       "    <tr>\n",
       "      <th>6</th>\n",
       "      <td>1lolguy1</td>\n",
       "      <td>T</td>\n",
       "      <td>High</td>\n",
       "      <td>New GitHub account with no real activity on Gi...</td>\n",
       "      <td>https://gitcoin.co/1lolguy1</td>\n",
       "      <td>https://github.com/1lolguy1</td>\n",
       "      <td>Dries-HES_0_20211202-1946</td>\n",
       "      <td>2</td>\n",
       "    </tr>\n",
       "    <tr>\n",
       "      <th>7</th>\n",
       "      <td>1lolguy1</td>\n",
       "      <td>T</td>\n",
       "      <td>High</td>\n",
       "      <td>clean slate profiles</td>\n",
       "      <td>https://gitcoin.co/1lolguy1</td>\n",
       "      <td>https://github.com/1lolguy1</td>\n",
       "      <td>sidcode-HES_11_20211202-1946</td>\n",
       "      <td>2</td>\n",
       "    </tr>\n",
       "    <tr>\n",
       "      <th>8</th>\n",
       "      <td>409110763ty</td>\n",
       "      <td>T</td>\n",
       "      <td>High</td>\n",
       "      <td>Joined github and Gitcoin three days ago</td>\n",
       "      <td>https://gitcoin.co/409110763ty</td>\n",
       "      <td>https://github.com/409110763ty</td>\n",
       "      <td>ZER8-HES_2_20211202-1946</td>\n",
       "      <td>2</td>\n",
       "    </tr>\n",
       "    <tr>\n",
       "      <th>9</th>\n",
       "      <td>409110763ty</td>\n",
       "      <td>T</td>\n",
       "      <td>Low</td>\n",
       "      <td>Both Gitcoin and GitHub account are newly crea...</td>\n",
       "      <td>https://gitcoin.co/409110763ty</td>\n",
       "      <td>https://github.com/409110763ty</td>\n",
       "      <td>DoggFather-HES_9_20211202-1946</td>\n",
       "      <td>2</td>\n",
       "    </tr>\n",
       "  </tbody>\n",
       "</table>\n",
       "</div>"
      ],
      "text/plain": [
       "        Handle Is Sybil Confidence  \\\n",
       "0     0xfeixue        F        Low   \n",
       "1     0xfeixue        T       High   \n",
       "2  15773221883        T       High   \n",
       "3  15773221883        T        Low   \n",
       "4  17811889809        F        Low   \n",
       "5  17811889809        T       High   \n",
       "6     1lolguy1        T       High   \n",
       "7     1lolguy1        T       High   \n",
       "8  409110763ty        T       High   \n",
       "9  409110763ty        T        Low   \n",
       "\n",
       "                                               Notes  \\\n",
       "0               $1 contributions to popular projects   \n",
       "1                                    recent profiles   \n",
       "2  Old github with no history, gitcoin account is...   \n",
       "3                       new gitcoin, inactive github   \n",
       "4                                             newbie   \n",
       "5  New Github and Gitcoin account, no activity, n...   \n",
       "6  New GitHub account with no real activity on Gi...   \n",
       "7                               clean slate profiles   \n",
       "8           Joined github and Gitcoin three days ago   \n",
       "9  Both Gitcoin and GitHub account are newly crea...   \n",
       "\n",
       "                      gitcoin_url                      github_url  \\\n",
       "0     https://gitcoin.co/0xfeixue     https://github.com/0xfeixue   \n",
       "1     https://gitcoin.co/0xfeixue     https://github.com/0xfeixue   \n",
       "2  https://gitcoin.co/15773221883  https://github.com/15773221883   \n",
       "3  https://gitcoin.co/15773221883  https://github.com/15773221883   \n",
       "4  https://gitcoin.co/17811889809  https://github.com/17811889809   \n",
       "5  https://gitcoin.co/17811889809  https://github.com/17811889809   \n",
       "6     https://gitcoin.co/1lolguy1     https://github.com/1lolguy1   \n",
       "7     https://gitcoin.co/1lolguy1     https://github.com/1lolguy1   \n",
       "8  https://gitcoin.co/409110763ty  https://github.com/409110763ty   \n",
       "9  https://gitcoin.co/409110763ty  https://github.com/409110763ty   \n",
       "\n",
       "                          Reviewer  Count  \n",
       "0  Fizzymidas-HES_13_20211202-1946      2  \n",
       "1            GREG_18_20211202-1946      2  \n",
       "2      BFA ABI-HES_3_20211202-1946      2  \n",
       "3  Chance Hope-HES_8_20211202-1946      2  \n",
       "4  Pavel Fedotov-HES_5_20211202-19      2  \n",
       "5  Mount Manu-HES_15_20211202-1946      2  \n",
       "6        Dries-HES_0_20211202-1946      2  \n",
       "7     sidcode-HES_11_20211202-1946      2  \n",
       "8         ZER8-HES_2_20211202-1946      2  \n",
       "9   DoggFather-HES_9_20211202-1946      2  "
      ]
     },
     "execution_count": 248,
     "metadata": {},
     "output_type": "execute_result"
    }
   ],
   "source": [
    "df.head(10)"
   ]
  },
  {
   "cell_type": "code",
   "execution_count": 247,
   "id": "da2f916d",
   "metadata": {},
   "outputs": [],
   "source": [
    "def checkInput(rate, n):\n",
    "    \"\"\" \n",
    "    Check correctness of the input matrix\n",
    "    @param rate - ratings matrix\n",
    "    @return n - number of raters\n",
    "    @throws AssertionError \n",
    "    \"\"\"\n",
    "    N = len(rate)\n",
    "    k = len(rate[0])\n",
    "    assert all(len(rate[i]) == k for i in range(k)), \"Row length != #categories)\"\n",
    "    assert all(isinstance(rate[i][j], int) for i in range(N) for j in range(k)), \"Element not integer\" \n",
    "    assert all(sum(row) == n for row in rate), \"Sum of ratings != #raters)\"\n",
    "\n",
    "def fleissKappa(rate,n):\n",
    "    \"\"\" \n",
    "    Computes the Kappa value\n",
    "    @param rate - ratings matrix containing number of ratings for each subject per category \n",
    "    [size - N X k where N = #subjects and k = #categories]\n",
    "    @param n - number of raters   \n",
    "    @return fleiss' kappa\n",
    "    \"\"\"\n",
    "\n",
    "    N = len(rate)\n",
    "    k = len(rate[0])\n",
    "    print(\"#raters = \", n, \", #subjects = \", N, \", #categories = \", k)\n",
    "    checkInput(rate, n)\n",
    "\n",
    "    #mean of the extent to which raters agree for the ith subject \n",
    "    PA = sum([(sum([i**2 for i in row])- n) / (n * (n - 1)) for row in rate])/N\n",
    "    print(\"PA = \", PA)\n",
    "    \n",
    "    # mean of squares of proportion of all assignments which were to jth category\n",
    "    PE = sum([j**2 for j in [sum([rows[i] for rows in rate])/(N*n) for i in range(k)]])\n",
    "    print(\"PE =\", PE)\n",
    "    \n",
    "    kappa = -float(\"inf\")\n",
    "    try:\n",
    "        kappa = (PA - PE) / (1 - PE)\n",
    "        kappa = float(\"{:.3f}\".format(kappa))\n",
    "    except ZeroDivisionError:\n",
    "        print(\"Expected agreement = 1\")\n",
    "\n",
    "    print(\"Fleiss' Kappa =\", kappa)\n",
    "    \n",
    "    return kappa"
   ]
  },
  {
   "cell_type": "code",
   "execution_count": 252,
   "id": "9f448d5e",
   "metadata": {},
   "outputs": [
    {
     "data": {
      "text/plain": [
       "168"
      ]
     },
     "execution_count": 252,
     "metadata": {},
     "output_type": "execute_result"
    }
   ],
   "source": [
    "len(df[df[\"Count\"] == 2].Handle.unique())"
   ]
  },
  {
   "cell_type": "code",
   "execution_count": null,
   "id": "f19da6ee",
   "metadata": {},
   "outputs": [],
   "source": []
  }
 ],
 "metadata": {
  "kernelspec": {
   "display_name": "Python 3",
   "language": "python",
   "name": "python3"
  },
  "language_info": {
   "codemirror_mode": {
    "name": "ipython",
    "version": 3
   },
   "file_extension": ".py",
   "mimetype": "text/x-python",
   "name": "python",
   "nbconvert_exporter": "python",
   "pygments_lexer": "ipython3",
   "version": "3.7.6"
  }
 },
 "nbformat": 4,
 "nbformat_minor": 5
}
